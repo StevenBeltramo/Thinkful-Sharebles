{
 "cells": [
  {
   "cell_type": "code",
   "execution_count": 16,
   "metadata": {},
   "outputs": [],
   "source": [
    "%matplotlib inline\n",
    "import numpy as np\n",
    "import pandas as pd\n",
    "import scipy\n",
    "import sklearn\n",
    "import matplotlib.pyplot as plt\n",
    "import seaborn as sns\n",
    "\n",
    "import math\n",
    "import warnings\n",
    "\n",
    "from IPython.display import display\n",
    "from sklearn import linear_model\n",
    "import statsmodels.formula.api as smf\n",
    "\n",
    "# Display preferences.\n",
    "%matplotlib inline\n",
    "pd.options.display.float_format = '{:.3f}'.format\n",
    "\n",
    "# Suppress annoying harmless error.\n",
    "warnings.filterwarnings(\n",
    "    action=\"ignore\",\n",
    "    module=\"scipy\",\n",
    "    message=\"^internal gelsd\"\n",
    ")"
   ]
  },
  {
   "cell_type": "code",
   "execution_count": 17,
   "metadata": {},
   "outputs": [],
   "source": [
    "df = pd.read_csv('C:\\\\Users\\\\STEVEN\\\\Documents\\\\Thinkful\\\\florida_crime.csv')"
   ]
  },
  {
   "cell_type": "code",
   "execution_count": 18,
   "metadata": {},
   "outputs": [
    {
     "name": "stdout",
     "output_type": "stream",
     "text": [
      "City                                      Alachua\n",
      "Population                                  9,338\n",
      "Violent\\ncrime                                 36\n",
      "Murder and\\nnonnegligent\\nmanslaughter      0.000\n",
      "Rape\\n(revised\\ndefinition)1                2.000\n",
      "Rape\\n(legacy\\ndefinition)2                 0.000\n",
      "Robbery                                         2\n",
      "Aggravated\\nassault                            32\n",
      "Property\\ncrime                               166\n",
      "Burglary                                       40\n",
      "Larceny-\\ntheft                               120\n",
      "Motor\\nvehicle\\ntheft                           6\n",
      "Arson                                       1.000\n",
      "Unnamed: 13                                 0.000\n",
      "Name: 0, dtype: object\n"
     ]
    }
   ],
   "source": [
    "df = df.fillna(0)\n",
    "print(df.loc[0,:])"
   ]
  },
  {
   "cell_type": "code",
   "execution_count": 19,
   "metadata": {},
   "outputs": [],
   "source": [
    "#lets create some features and clean up\n",
    "\n",
    "df['Population'] = df['Population'].str.replace(',', '')\n",
    "df = df.fillna(0)\n",
    "df['Population'] = df['Population'].astype(int)"
   ]
  },
  {
   "cell_type": "code",
   "execution_count": 20,
   "metadata": {},
   "outputs": [],
   "source": [
    "df['Property\\ncrime'] = df['Property\\ncrime'].str.replace(',', '')\n",
    "df = df.fillna(0)\n",
    "df['Property\\ncrime'] = df['Property\\ncrime'].astype(int)\n",
    "\n",
    "df['Violent\\ncrime'] = df['Violent\\ncrime'].str.replace(',', '')\n",
    "df = df.fillna(0)\n",
    "df['Violent\\ncrime'] = df['Violent\\ncrime'].astype(int)\n",
    "\n",
    "df['Larceny-\\ntheft'] = df['Larceny-\\ntheft'].str.replace(',', '')\n",
    "df = df.fillna(0)\n",
    "df['Larceny-\\ntheft'] = df['Larceny-\\ntheft'].astype(int)"
   ]
  },
  {
   "cell_type": "code",
   "execution_count": 21,
   "metadata": {},
   "outputs": [],
   "source": [
    "\n",
    "df['Aggravated\\nassault'] = df['Aggravated\\nassault'].str.replace(',', '')\n",
    "df = df.fillna(0)\n",
    "df['Aggravated\\nassault'] = df['Aggravated\\nassault'].astype(int)\n",
    "\n"
   ]
  },
  {
   "cell_type": "code",
   "execution_count": 22,
   "metadata": {},
   "outputs": [],
   "source": [
    "#add categorical aggravated assault \n",
    "df['assualt_cat'] = df['Aggravated\\nassault'].apply(lambda x: 0 if x == 0 else 1)"
   ]
  },
  {
   "cell_type": "code",
   "execution_count": 23,
   "metadata": {},
   "outputs": [],
   "source": [
    "df['Motor\\nvehicle\\ntheft'] = df['Motor\\nvehicle\\ntheft'].str.replace(',', '')\n",
    "df = df.fillna(0)\n",
    "df['Motor\\nvehicle\\ntheft'] = df['Motor\\nvehicle\\ntheft'].astype(int)"
   ]
  },
  {
   "cell_type": "code",
   "execution_count": null,
   "metadata": {},
   "outputs": [],
   "source": []
  },
  {
   "cell_type": "code",
   "execution_count": 24,
   "metadata": {},
   "outputs": [],
   "source": [
    "#Create population squared\n",
    "df['Population_sq'] = df['Population'].apply(lambda x: x*x)\n",
    "# Robbery\n",
    "df['Robbery'] = df['Robbery'].str.replace(',', '')\n",
    "df = df.fillna(0)\n",
    "df['Robbery'] = df['Robbery'].astype(int)\n",
    "#Creating categorical murders\n",
    "df = df.rename(index=str,columns={'Murder and\\nnonnegligent\\nmanslaughter': 'Murder'})\n",
    "df['Murder'] = df['Murder'].astype(int)\n",
    "df['murder_cat'] = df['Murder'].apply(lambda x: 0 if x == 0 else 1)"
   ]
  },
  {
   "cell_type": "code",
   "execution_count": 25,
   "metadata": {},
   "outputs": [],
   "source": [
    "df['Population_sqrt'] = np.sqrt(df['Population'])\n",
    "\n",
    "df['Burglary'] = df['Burglary'].str.replace(',', '')\n",
    "df = df.fillna(0)\n",
    "df['Burglary'] = df['Burglary'].astype(int)\n",
    "df['burglary_cat'] = df['Burglary'].apply(lambda x: 0 if x == 0 else 1)"
   ]
  },
  {
   "cell_type": "code",
   "execution_count": null,
   "metadata": {},
   "outputs": [],
   "source": []
  },
  {
   "cell_type": "code",
   "execution_count": null,
   "metadata": {},
   "outputs": [],
   "source": []
  },
  {
   "cell_type": "code",
   "execution_count": 26,
   "metadata": {},
   "outputs": [
    {
     "data": {
      "text/plain": [
       "(293, 19)"
      ]
     },
     "execution_count": 26,
     "metadata": {},
     "output_type": "execute_result"
    }
   ],
   "source": [
    "df.shape"
   ]
  },
  {
   "cell_type": "code",
   "execution_count": 51,
   "metadata": {},
   "outputs": [
    {
     "name": "stdout",
     "output_type": "stream",
     "text": [
      "(293, 16)\n"
     ]
    }
   ],
   "source": [
    "X = df.drop(['City', 'Rape\\n(revised\\ndefinition)1', 'Rape\\n(legacy\\ndefinition)2'], axis=1)\n",
    "Y = df['Violent\\ncrime']\n",
    "X2 = X.drop(['Violent\\ncrime'], axis=1)\n",
    "print(X.shape)"
   ]
  },
  {
   "cell_type": "code",
   "execution_count": 28,
   "metadata": {},
   "outputs": [],
   "source": [
    "df_test2 = X.sample(frac=0.5)\n",
    "df_train2 = X.sample(frac=0.5)"
   ]
  },
  {
   "cell_type": "code",
   "execution_count": 45,
   "metadata": {},
   "outputs": [],
   "source": [
    "#Create training and test data\n",
    "trainsize = int(df.shape[0] / 2)\n",
    "df_test = X.iloc[trainsize:, :].copy()\n",
    "df_train = X.iloc[:trainsize, :].copy()\n",
    "\n",
    "#Train data\n",
    "Y_train = df_train['Violent\\ncrime'].values.reshape(-1, 1)\n",
    "X_train = df_train.loc[:, ~(df_train.columns).isin(['Violent\\ncrime'])]\n",
    "Y_train = df_train['Violent\\ncrime']\n",
    "#Test data\n",
    "Y_test = df_test['Violent\\ncrime'].values.reshape(-1, 1)\n",
    "X_test = df_test.loc[:, ~(df_train.columns).isin(['Violent\\ncrime'])]"
   ]
  },
  {
   "cell_type": "code",
   "execution_count": 46,
   "metadata": {},
   "outputs": [
    {
     "name": "stdout",
     "output_type": "stream",
     "text": [
      "   Population  Murder  Robbery  Aggravated\\nassault  Property\\ncrime  \\\n",
      "0        9338       0        2                   32              166   \n",
      "1       42040       0       37                  105             1564   \n",
      "2         536       0        0                    1                3   \n",
      "3        2269       0        0                    1               35   \n",
      "4       45397       1       57                  109             1527   \n",
      "\n",
      "   Burglary  Larceny-\\ntheft  Motor\\nvehicle\\ntheft  Arson  Unnamed: 13  \\\n",
      "0        40              120                      6  1.000        0.000   \n",
      "1       300             1180                     84  3.000        0.000   \n",
      "2         3                0                      0  0.000        0.000   \n",
      "3         8               27                      0  0.000        0.000   \n",
      "4       231             1202                     94  6.000        0.000   \n",
      "\n",
      "   assualt_cat  Population_sq  murder_cat  Population_sqrt  burglary_cat  \n",
      "0            1       87198244           0           96.633             1  \n",
      "1            1     1767361600           0          205.037             1  \n",
      "2            1         287296           0           23.152             1  \n",
      "3            1        5148361           0           47.634             1  \n",
      "4            1     2060887609           1          213.066             1  \n",
      "0       36\n",
      "1      150\n",
      "2        1\n",
      "3        1\n",
      "4      178\n",
      "5       82\n",
      "6        4\n",
      "7       61\n",
      "8        9\n",
      "9       55\n",
      "10      56\n",
      "11       0\n",
      "12      93\n",
      "13       6\n",
      "14       2\n",
      "15       4\n",
      "16       5\n",
      "17     348\n",
      "18      18\n",
      "19      19\n",
      "20       2\n",
      "21       5\n",
      "22     165\n",
      "23      10\n",
      "24       7\n",
      "25     367\n",
      "26     351\n",
      "27       1\n",
      "28      71\n",
      "29      62\n",
      "      ... \n",
      "116      4\n",
      "117      0\n",
      "118    179\n",
      "119    542\n",
      "120     23\n",
      "121     17\n",
      "122    188\n",
      "123      5\n",
      "124      2\n",
      "125      5\n",
      "126    460\n",
      "127     17\n",
      "128     67\n",
      "129      9\n",
      "130     48\n",
      "131    459\n",
      "132     75\n",
      "133    352\n",
      "134     11\n",
      "135    336\n",
      "136    459\n",
      "137      0\n",
      "138    172\n",
      "139      8\n",
      "140     70\n",
      "141      5\n",
      "142     69\n",
      "143     63\n",
      "144     30\n",
      "145     51\n",
      "Name: Violent\\ncrime, Length: 146, dtype: int32\n"
     ]
    }
   ],
   "source": [
    "print(X_train.head())\n",
    "print(Y_train)"
   ]
  },
  {
   "cell_type": "code",
   "execution_count": 47,
   "metadata": {},
   "outputs": [
    {
     "name": "stdout",
     "output_type": "stream",
     "text": [
      "[[-1.21679759e-10 -1.15055077e-14 -1.40240215e-13 ... -8.97597672e-15\n",
      "  -2.51182959e-12 -6.87314550e-14]\n",
      " [-6.00013915e-11 -4.01035714e-15 -5.68179197e-14 ... -3.15087358e-15\n",
      "  -1.32550512e-12 -2.70595325e-14]\n",
      " [-1.33624144e-10 -1.06866395e-14 -1.15968430e-13 ... -8.35624165e-15\n",
      "  -3.42633509e-12 -8.13291521e-14]\n",
      " ...\n",
      " [-4.87384928e-13 -2.09575845e-17 -1.27482771e-16 ... -1.10821555e-17\n",
      "  -5.92503221e-15 -8.18111096e-17]\n",
      " [-6.93810078e-05 -2.50967300e-09 -2.64612200e-08 ... -1.50194427e-09\n",
      "  -6.87794533e-07 -8.13174768e-09]\n",
      " [-1.59940384e-04 -6.46907051e-09 -2.03431803e-07 ... -3.13242195e-09\n",
      "  -1.56851872e-06 -2.04766159e-08]]\n",
      "\n",
      " R2\n",
      "0.0136986301369863\n"
     ]
    }
   ],
   "source": [
    "#Logistic Regression training data:\n",
    "\n",
    "\n",
    "from sklearn.linear_model import LogisticRegression\n",
    "lr = LogisticRegression(C=10)\n",
    "\n",
    "# Fit the model\n",
    "fit = lr.fit(X_train, Y_train)\n",
    "\n",
    "# Display.\n",
    "\n",
    "\n",
    "print(fit.coef_)\n",
    "print('\\n R2')\n",
    "print(lr.score(X_train, Y_train))"
   ]
  },
  {
   "cell_type": "code",
   "execution_count": 54,
   "metadata": {},
   "outputs": [
    {
     "name": "stdout",
     "output_type": "stream",
     "text": [
      "With 20% Holdout: 0.0\n",
      "Testing on Sample: 0.006825938566552901\n"
     ]
    }
   ],
   "source": [
    "#Now to run it with our holdout comparison and cross folding.  \n",
    "from sklearn.model_selection import train_test_split\n",
    "\n",
    "X_train2, X_test2, Y_train2, Y_test2 = train_test_split(X2, Y, test_size=0.2, random_state=20)\n",
    "print('With 20% Holdout: ' + str(lr.fit(X_train2, Y_train2).score(X_test2, Y_test2)))\n",
    "print('Testing on Sample: ' + str(lr.fit(X2, Y).score(X2, Y)))\n"
   ]
  },
  {
   "cell_type": "code",
   "execution_count": 53,
   "metadata": {},
   "outputs": [
    {
     "name": "stderr",
     "output_type": "stream",
     "text": [
      "C:\\Users\\STEVEN\\Anaconda3\\lib\\site-packages\\sklearn\\model_selection\\_split.py:605: Warning: The least populated class in y has only 1 members, which is too few. The minimum number of members in any class cannot be less than n_splits=2.\n",
      "  % (min_groups, self.n_splits)), Warning)\n",
      "C:\\Users\\STEVEN\\Anaconda3\\lib\\site-packages\\sklearn\\utils\\validation.py:578: DataConversionWarning: A column-vector y was passed when a 1d array was expected. Please change the shape of y to (n_samples, ), for example using ravel().\n",
      "  y = column_or_1d(y, warn=True)\n",
      "C:\\Users\\STEVEN\\Anaconda3\\lib\\site-packages\\sklearn\\utils\\validation.py:578: DataConversionWarning: A column-vector y was passed when a 1d array was expected. Please change the shape of y to (n_samples, ), for example using ravel().\n",
      "  y = column_or_1d(y, warn=True)\n"
     ]
    },
    {
     "data": {
      "text/plain": [
       "array([0.01785714, 0.        ])"
      ]
     },
     "execution_count": 53,
     "metadata": {},
     "output_type": "execute_result"
    }
   ],
   "source": [
    "#Now run as cross validation: \n",
    "from sklearn.model_selection import cross_val_score\n",
    "cross_val_score(lr, X_test, Y_test, cv=2)\n"
   ]
  },
  {
   "cell_type": "code",
   "execution_count": 35,
   "metadata": {
    "scrolled": true
   },
   "outputs": [
    {
     "name": "stdout",
     "output_type": "stream",
     "text": [
      "\n",
      " R2\n",
      "0.9998633400549389\n"
     ]
    },
    {
     "name": "stderr",
     "output_type": "stream",
     "text": [
      "C:\\Users\\STEVEN\\Anaconda3\\lib\\site-packages\\scipy\\linalg\\basic.py:40: RuntimeWarning: scipy.linalg.solve\n",
      "Ill-conditioned matrix detected. Result is not guaranteed to be accurate.\n",
      "Reciprocal condition number/precision: 9.785413446166525e-24 / 1.1102230246251565e-16\n",
      "  RuntimeWarning)\n"
     ]
    }
   ],
   "source": [
    "# now it's time for ridge regression..\n",
    "from sklearn import linear_model\n",
    "from sklearn import preprocessing\n",
    "\n",
    "ridgeregr = linear_model.Ridge(alpha=5) \n",
    "\n",
    "# Fit the model\n",
    "fit = ridgeregr.fit(X_train, Y_train)\n",
    "\n",
    "# Display.\n",
    "\n",
    "\n",
    "\n",
    "print('\\n R2')\n",
    "print(ridgeregr.score(X_train, Y_train))\n"
   ]
  },
  {
   "cell_type": "code",
   "execution_count": 56,
   "metadata": {},
   "outputs": [
    {
     "name": "stdout",
     "output_type": "stream",
     "text": [
      "With 20% Holdout: 0.9862211746845851\n",
      "Testing on Sample: 0.9997518671681969\n"
     ]
    },
    {
     "name": "stderr",
     "output_type": "stream",
     "text": [
      "C:\\Users\\STEVEN\\Anaconda3\\lib\\site-packages\\scipy\\linalg\\basic.py:40: RuntimeWarning: scipy.linalg.solve\n",
      "Ill-conditioned matrix detected. Result is not guaranteed to be accurate.\n",
      "Reciprocal condition number/precision: 8.411880125496074e-23 / 1.1102230246251565e-16\n",
      "  RuntimeWarning)\n",
      "C:\\Users\\STEVEN\\Anaconda3\\lib\\site-packages\\scipy\\linalg\\basic.py:40: RuntimeWarning: scipy.linalg.solve\n",
      "Ill-conditioned matrix detected. Result is not guaranteed to be accurate.\n",
      "Reciprocal condition number/precision: 8.836555264940908e-24 / 1.1102230246251565e-16\n",
      "  RuntimeWarning)\n"
     ]
    }
   ],
   "source": [
    "X_train2, X_test2, Y_train2, Y_test2 = train_test_split(X2, Y, test_size=0.2, random_state=20)\n",
    "print('With 20% Holdout: ' + str(ridgeregr.fit(X_train2, Y_train2).score(X_test2, Y_test2)))\n",
    "print('Testing on Sample: ' + str(ridgeregr.fit(X2, Y).score(X2, Y)))"
   ]
  },
  {
   "cell_type": "code",
   "execution_count": 37,
   "metadata": {},
   "outputs": [
    {
     "name": "stderr",
     "output_type": "stream",
     "text": [
      "C:\\Users\\STEVEN\\Anaconda3\\lib\\site-packages\\scipy\\linalg\\basic.py:40: RuntimeWarning: scipy.linalg.solve\n",
      "Ill-conditioned matrix detected. Result is not guaranteed to be accurate.\n",
      "Reciprocal condition number/precision: 1.994048315640466e-22 / 1.1102230246251565e-16\n",
      "  RuntimeWarning)\n",
      "C:\\Users\\STEVEN\\Anaconda3\\lib\\site-packages\\scipy\\linalg\\basic.py:40: RuntimeWarning: scipy.linalg.solve\n",
      "Ill-conditioned matrix detected. Result is not guaranteed to be accurate.\n",
      "Reciprocal condition number/precision: 9.24102294655063e-23 / 1.1102230246251565e-16\n",
      "  RuntimeWarning)\n",
      "C:\\Users\\STEVEN\\Anaconda3\\lib\\site-packages\\scipy\\linalg\\basic.py:40: RuntimeWarning: scipy.linalg.solve\n",
      "Ill-conditioned matrix detected. Result is not guaranteed to be accurate.\n",
      "Reciprocal condition number/precision: 9.206527527107344e-23 / 1.1102230246251565e-16\n",
      "  RuntimeWarning)\n",
      "C:\\Users\\STEVEN\\Anaconda3\\lib\\site-packages\\scipy\\linalg\\basic.py:40: RuntimeWarning: scipy.linalg.solve\n",
      "Ill-conditioned matrix detected. Result is not guaranteed to be accurate.\n",
      "Reciprocal condition number/precision: 9.851880504988319e-23 / 1.1102230246251565e-16\n",
      "  RuntimeWarning)\n",
      "C:\\Users\\STEVEN\\Anaconda3\\lib\\site-packages\\scipy\\linalg\\basic.py:40: RuntimeWarning: scipy.linalg.solve\n",
      "Ill-conditioned matrix detected. Result is not guaranteed to be accurate.\n",
      "Reciprocal condition number/precision: 9.383320040453044e-23 / 1.1102230246251565e-16\n",
      "  RuntimeWarning)\n",
      "C:\\Users\\STEVEN\\Anaconda3\\lib\\site-packages\\scipy\\linalg\\basic.py:40: RuntimeWarning: scipy.linalg.solve\n",
      "Ill-conditioned matrix detected. Result is not guaranteed to be accurate.\n",
      "Reciprocal condition number/precision: 9.213749835409095e-23 / 1.1102230246251565e-16\n",
      "  RuntimeWarning)\n",
      "C:\\Users\\STEVEN\\Anaconda3\\lib\\site-packages\\scipy\\linalg\\basic.py:40: RuntimeWarning: scipy.linalg.solve\n",
      "Ill-conditioned matrix detected. Result is not guaranteed to be accurate.\n",
      "Reciprocal condition number/precision: 9.781642458362072e-23 / 1.1102230246251565e-16\n",
      "  RuntimeWarning)\n",
      "C:\\Users\\STEVEN\\Anaconda3\\lib\\site-packages\\scipy\\linalg\\basic.py:40: RuntimeWarning: scipy.linalg.solve\n",
      "Ill-conditioned matrix detected. Result is not guaranteed to be accurate.\n",
      "Reciprocal condition number/precision: 1.2752716723753416e-22 / 1.1102230246251565e-16\n",
      "  RuntimeWarning)\n",
      "C:\\Users\\STEVEN\\Anaconda3\\lib\\site-packages\\scipy\\linalg\\basic.py:40: RuntimeWarning: scipy.linalg.solve\n",
      "Ill-conditioned matrix detected. Result is not guaranteed to be accurate.\n",
      "Reciprocal condition number/precision: 9.21366296451419e-23 / 1.1102230246251565e-16\n",
      "  RuntimeWarning)\n",
      "C:\\Users\\STEVEN\\Anaconda3\\lib\\site-packages\\scipy\\linalg\\basic.py:40: RuntimeWarning: scipy.linalg.solve\n",
      "Ill-conditioned matrix detected. Result is not guaranteed to be accurate.\n",
      "Reciprocal condition number/precision: 9.216294967127362e-23 / 1.1102230246251565e-16\n",
      "  RuntimeWarning)\n"
     ]
    },
    {
     "data": {
      "text/plain": [
       "array([0.99660074, 0.99702223, 0.99892496, 0.99847739, 0.99694572,\n",
       "       0.99885043, 0.99883106, 0.99827847, 0.99901453, 0.99811488])"
      ]
     },
     "execution_count": 37,
     "metadata": {},
     "output_type": "execute_result"
    }
   ],
   "source": [
    "from sklearn.model_selection import cross_val_score\n",
    "cross_val_score(ridgeregr, X_test, Y_test, cv=10)"
   ]
  },
  {
   "cell_type": "code",
   "execution_count": 38,
   "metadata": {},
   "outputs": [],
   "source": [
    "#let's do lasso next"
   ]
  },
  {
   "cell_type": "code",
   "execution_count": 39,
   "metadata": {},
   "outputs": [
    {
     "name": "stdout",
     "output_type": "stream",
     "text": [
      "\n",
      " R2\n",
      "0.9963893114063697\n"
     ]
    }
   ],
   "source": [
    "lass = linear_model.Lasso(alpha=1000)\n",
    "\n",
    "# Fit the model\n",
    "fit = lass.fit(X_train, Y_train)\n",
    "\n",
    "# Display.\n",
    "\n",
    "\n",
    "\n",
    "print('\\n R2')\n",
    "print(lass.score(X_train, Y_train))\n"
   ]
  },
  {
   "cell_type": "code",
   "execution_count": 55,
   "metadata": {},
   "outputs": [
    {
     "name": "stdout",
     "output_type": "stream",
     "text": [
      "With 20% Holdout: 0.9524651320735912\n",
      "Testing on Sample: 0.9989715019051645\n"
     ]
    }
   ],
   "source": [
    "X_train2, X_test2, Y_train2, Y_test2 = train_test_split(X2, Y, test_size=0.2, random_state=20)\n",
    "print('With 20% Holdout: ' + str(lass.fit(X_train2, Y_train2).score(X_test2, Y_test2)))\n",
    "print('Testing on Sample: ' + str(lass.fit(X2, Y).score(X2, Y)))"
   ]
  },
  {
   "cell_type": "code",
   "execution_count": 41,
   "metadata": {},
   "outputs": [
    {
     "data": {
      "text/plain": [
       "array([0.94732074, 0.99813795, 0.97568997, 0.97567456, 0.94583006,\n",
       "       0.99167317, 0.99916342, 0.99157299, 0.99859939, 0.98815752])"
      ]
     },
     "execution_count": 41,
     "metadata": {},
     "output_type": "execute_result"
    }
   ],
   "source": [
    "from sklearn.model_selection import cross_val_score\n",
    "cross_val_score(lass, X_test, Y_test, cv=10)"
   ]
  },
  {
   "cell_type": "markdown",
   "metadata": {},
   "source": [
    "There were a few different interesting things that were discovered during the analysis.  \n",
    "\n",
    "While searching through the data we included a few different features in predicting population with crime.  We had population squared and the square root of population in there, to see if they were functional.  We included for low frequency crimes a categorical feature for them.  For the features of murder, burglary, and assault.\n",
    "\n",
    "After looking through the different models.  And testing on test and training sets.  It looks like the ridge regression model is the most efficient amongst the test and training methods.  Although it does appear that the model may be overfitting.  Second I would choose lasso because it helps prevent overfitting and may prevent a more honest representation.  "
   ]
  },
  {
   "cell_type": "code",
   "execution_count": null,
   "metadata": {},
   "outputs": [],
   "source": []
  }
 ],
 "metadata": {
  "kernelspec": {
   "display_name": "Python [default]",
   "language": "python",
   "name": "python3"
  },
  "language_info": {
   "codemirror_mode": {
    "name": "ipython",
    "version": 3
   },
   "file_extension": ".py",
   "mimetype": "text/x-python",
   "name": "python",
   "nbconvert_exporter": "python",
   "pygments_lexer": "ipython3",
   "version": "3.6.4"
  }
 },
 "nbformat": 4,
 "nbformat_minor": 2
}
