{
 "cells": [
  {
   "cell_type": "code",
   "execution_count": 1,
   "metadata": {},
   "outputs": [],
   "source": [
    "import numpy as np\n",
    "import pandas as pd\n",
    "import matplotlib.pyplot as plt\n",
    "import seaborn as sns\n",
    "from scipy.stats import norm\n",
    "from sklearn.preprocessing import StandardScaler\n",
    "from scipy import stats\n",
    "import warnings\n",
    "from sklearn.linear_model import LinearRegression, Lasso, Ridge, ElasticNet\n",
    "from scipy.stats import skew\n",
    "from math import sqrt\n",
    "\n",
    "warnings.filterwarnings('ignore')\n",
    "%matplotlib inline\n",
    "pd.set_option('display.max_columns', 300)"
   ]
  },
  {
   "cell_type": "code",
   "execution_count": 2,
   "metadata": {},
   "outputs": [],
   "source": [
    "violations = pd.read_csv(r'C:\\Users\\STEVEN\\Documents\\Thinkful\\Files\\Capstone\\restaurant_health_violations.csv')\n",
    "scores = pd.read_csv(r'C:\\Users\\STEVEN\\Documents\\Thinkful\\Files\\Capstone\\restaurant_health_inspections.csv')"
   ]
  },
  {
   "cell_type": "markdown",
   "metadata": {},
   "source": [
    "First lets investigate the violations data base"
   ]
  },
  {
   "cell_type": "code",
   "execution_count": 3,
   "metadata": {},
   "outputs": [
    {
     "name": "stdout",
     "output_type": "stream",
     "text": [
      "  serial_number        activity_date facility_name violation_code  \\\n",
      "0     DA08R0TCU  2018-03-30T00:00:00   KRUANG TEDD           F030   \n",
      "\n",
      "                               violation_description   violation_status  \\\n",
      "0  # 30. Food properly stored; food storage conta...  OUT OF COMPLIANCE   \n",
      "\n",
      "   points grade     facility_address facility_city facility_id facility_state  \\\n",
      "0       1     A  5151 HOLLYWOOD BLVD   LOS ANGELES   FA0064949             CA   \n",
      "\n",
      "  facility_zip employee_id   owner_id          owner_name  \\\n",
      "0        90027   EE0000857  OW0001034  5151 HOLLYWOOD LLC   \n",
      "\n",
      "                       pe_description  program_element_pe program_name  \\\n",
      "0  RESTAURANT (31-60) SEATS HIGH RISK                1635  KRUANG TEDD   \n",
      "\n",
      "  program_status  record_id  score  service_code service_description  \\\n",
      "0         ACTIVE  PR0031205     92             1  ROUTINE INSPECTION   \n",
      "\n",
      "          row_id  \n",
      "0  DA08R0TCUF030  \n",
      "serial_number            object\n",
      "activity_date            object\n",
      "facility_name            object\n",
      "violation_code           object\n",
      "violation_description    object\n",
      "violation_status         object\n",
      "points                    int64\n",
      "grade                    object\n",
      "facility_address         object\n",
      "facility_city            object\n",
      "facility_id              object\n",
      "facility_state           object\n",
      "facility_zip             object\n",
      "employee_id              object\n",
      "owner_id                 object\n",
      "owner_name               object\n",
      "pe_description           object\n",
      "program_element_pe        int64\n",
      "program_name             object\n",
      "program_status           object\n",
      "record_id                object\n",
      "score                     int64\n",
      "service_code              int64\n",
      "service_description      object\n",
      "row_id                   object\n",
      "dtype: object\n",
      "(272801, 25)\n"
     ]
    }
   ],
   "source": [
    "print(violations.head(1))\n",
    "print(violations.dtypes)\n",
    "print(violations.shape)"
   ]
  },
  {
   "cell_type": "markdown",
   "metadata": {},
   "source": [
    "Now let's take a look at our Scores database"
   ]
  },
  {
   "cell_type": "code",
   "execution_count": 4,
   "metadata": {},
   "outputs": [
    {
     "name": "stdout",
     "output_type": "stream",
     "text": [
      "  serial_number        activity_date        facility_name  score grade  \\\n",
      "0     DAJ00E07B  2017-12-29T00:00:00  HABITAT COFFEE SHOP     95     A   \n",
      "\n",
      "   service_code service_description employee_id        facility_address  \\\n",
      "0             1  ROUTINE INSPECTION   EE0000923  3708 N EAGLE ROCK BLVD   \n",
      "\n",
      "  facility_city facility_id facility_state facility_zip   owner_id  \\\n",
      "0   LOS ANGELES   FA0170465             CA        90065  OW0178123   \n",
      "\n",
      "                 owner_name                         pe_description  \\\n",
      "0  GLASSELL COFFEE SHOP LLC  RESTAURANT (0-30) SEATS MODERATE RISK   \n",
      "\n",
      "   program_element_pe         program_name program_status  record_id  \n",
      "0                1631  HABITAT COFFEE SHOP         ACTIVE  PR0160774  \n",
      "serial_number          object\n",
      "activity_date          object\n",
      "facility_name          object\n",
      "score                   int64\n",
      "grade                  object\n",
      "service_code            int64\n",
      "service_description    object\n",
      "employee_id            object\n",
      "facility_address       object\n",
      "facility_city          object\n",
      "facility_id            object\n",
      "facility_state         object\n",
      "facility_zip           object\n",
      "owner_id               object\n",
      "owner_name             object\n",
      "pe_description         object\n",
      "program_element_pe      int64\n",
      "program_name           object\n",
      "program_status         object\n",
      "record_id              object\n",
      "dtype: object\n",
      "(58872, 20)\n"
     ]
    }
   ],
   "source": [
    "print(scores.head(1))\n",
    "print(scores.dtypes)\n",
    "print(scores.shape)"
   ]
  },
  {
   "cell_type": "markdown",
   "metadata": {},
   "source": [
    "As we can see there are many shared attributes in these two dataframes and we will be using this fact to better account and analyze our data"
   ]
  },
  {
   "cell_type": "markdown",
   "metadata": {},
   "source": [
    "First let's take a look and see how easily we can look up certain restaurants"
   ]
  },
  {
   "cell_type": "code",
   "execution_count": 5,
   "metadata": {},
   "outputs": [],
   "source": [
    "reilly = violations[violations['facility_name'] == 'REILLY\\'S']"
   ]
  },
  {
   "cell_type": "code",
   "execution_count": 6,
   "metadata": {},
   "outputs": [
    {
     "name": "stdout",
     "output_type": "stream",
     "text": [
      "       serial_number        activity_date facility_name violation_code  \\\n",
      "24668      DAQOKRFZB  2017-12-29T00:00:00      REILLY'S           F033   \n",
      "24669      DAQOKRFZB  2017-12-29T00:00:00      REILLY'S           F044   \n",
      "24670      DAQOKRFZB  2017-12-29T00:00:00      REILLY'S           F040   \n",
      "24671      DAQOKRFZB  2017-12-29T00:00:00      REILLY'S           F007   \n",
      "24672      DAQOKRFZB  2017-12-29T00:00:00      REILLY'S           F049   \n",
      "24673      DAQOKRFZB  2017-12-29T00:00:00      REILLY'S           F035   \n",
      "55247      DA1ELBR43  2017-09-08T00:00:00      REILLY'S           F033   \n",
      "55248      DA1ELBR43  2017-09-08T00:00:00      REILLY'S           F044   \n",
      "55249      DA1ELBR43  2017-09-08T00:00:00      REILLY'S           F036   \n",
      "103037     DA6TSAAKB  2017-03-24T00:00:00      REILLY'S           F033   \n",
      "103038     DA6TSAAKB  2017-03-24T00:00:00      REILLY'S           F007   \n",
      "103039     DA6TSAAKB  2017-03-24T00:00:00      REILLY'S           F049   \n",
      "103040     DA6TSAAKB  2017-03-24T00:00:00      REILLY'S           F035   \n",
      "103041     DA6TSAAKB  2017-03-24T00:00:00      REILLY'S           F009   \n",
      "103042     DA6TSAAKB  2017-03-24T00:00:00      REILLY'S           F006   \n",
      "\n",
      "                                    violation_description   violation_status  \\\n",
      "24668   # 33. Nonfood-contact surfaces clean and in go...  OUT OF COMPLIANCE   \n",
      "24669   # 44. Floors, walls and ceilings: properly bui...  OUT OF COMPLIANCE   \n",
      "24670   # 40. Plumbing: Plumbing in good repair, prope...  OUT OF COMPLIANCE   \n",
      "24671      # 07. Proper hot and cold holding temperatures  OUT OF COMPLIANCE   \n",
      "24672   # 50. Impoundment of unsanitary equipment or food  OUT OF COMPLIANCE   \n",
      "24673   # 35. Equipment/Utensils - approved; installed...  OUT OF COMPLIANCE   \n",
      "55247   # 33. Nonfood-contact surfaces clean and in go...  OUT OF COMPLIANCE   \n",
      "55248   # 44. Floors, walls and ceilings: properly bui...  OUT OF COMPLIANCE   \n",
      "55249   # 36. Equipment, utensils and linens: storage ...  OUT OF COMPLIANCE   \n",
      "103037  # 33. Nonfood-contact surfaces clean and in go...  OUT OF COMPLIANCE   \n",
      "103038     # 07. Proper hot and cold holding temperatures  OUT OF COMPLIANCE   \n",
      "103039  # 50. Impoundment of unsanitary equipment or food  OUT OF COMPLIANCE   \n",
      "103040  # 35. Equipment/Utensils - approved; installed...  OUT OF COMPLIANCE   \n",
      "103041                       # 09. Proper cooling methods  OUT OF COMPLIANCE   \n",
      "103042  # 06. Adequate handwashing facilities supplied...  OUT OF COMPLIANCE   \n",
      "\n",
      "        points grade     facility_address facility_city facility_id  \\\n",
      "24668        1     A  100 WORLD WAY # 120   LOS ANGELES   FA0244690   \n",
      "24669        1     A  100 WORLD WAY # 120   LOS ANGELES   FA0244690   \n",
      "24670        1     A  100 WORLD WAY # 120   LOS ANGELES   FA0244690   \n",
      "24671        4     A  100 WORLD WAY # 120   LOS ANGELES   FA0244690   \n",
      "24672        0     A  100 WORLD WAY # 120   LOS ANGELES   FA0244690   \n",
      "24673        1     A  100 WORLD WAY # 120   LOS ANGELES   FA0244690   \n",
      "55247        1     A  100 WORLD WAY # 120   LOS ANGELES   FA0244690   \n",
      "55248        1     A  100 WORLD WAY # 120   LOS ANGELES   FA0244690   \n",
      "55249        1     A  100 WORLD WAY # 120   LOS ANGELES   FA0244690   \n",
      "103037       1     A  100 WORLD WAY # 120   LOS ANGELES   FA0244690   \n",
      "103038       4     A  100 WORLD WAY # 120   LOS ANGELES   FA0244690   \n",
      "103039       0     A  100 WORLD WAY # 120   LOS ANGELES   FA0244690   \n",
      "103040       1     A  100 WORLD WAY # 120   LOS ANGELES   FA0244690   \n",
      "103041       2     A  100 WORLD WAY # 120   LOS ANGELES   FA0244690   \n",
      "103042       2     A  100 WORLD WAY # 120   LOS ANGELES   FA0244690   \n",
      "\n",
      "       facility_state facility_zip employee_id   owner_id  \\\n",
      "24668              CA        90045   EE0000633  OW0208441   \n",
      "24669              CA        90045   EE0000633  OW0208441   \n",
      "24670              CA        90045   EE0000633  OW0208441   \n",
      "24671              CA        90045   EE0000633  OW0208441   \n",
      "24672              CA        90045   EE0000633  OW0208441   \n",
      "24673              CA        90045   EE0000633  OW0208441   \n",
      "55247              CA        90045   EE0000633  OW0208441   \n",
      "55248              CA        90045   EE0000633  OW0208441   \n",
      "55249              CA        90045   EE0000633  OW0208441   \n",
      "103037             CA        90045   EE0000633  OW0208441   \n",
      "103038             CA        90045   EE0000633  OW0208441   \n",
      "103039             CA        90045   EE0000633  OW0208441   \n",
      "103040             CA        90045   EE0000633  OW0208441   \n",
      "103041             CA        90045   EE0000633  OW0208441   \n",
      "103042             CA        90045   EE0000633  OW0208441   \n",
      "\n",
      "                       owner_name                         pe_description  \\\n",
      "24668   AREAS SKYVIEW LAX JV, LLC  RESTAURANT (0-30) SEATS MODERATE RISK   \n",
      "24669   AREAS SKYVIEW LAX JV, LLC  RESTAURANT (0-30) SEATS MODERATE RISK   \n",
      "24670   AREAS SKYVIEW LAX JV, LLC  RESTAURANT (0-30) SEATS MODERATE RISK   \n",
      "24671   AREAS SKYVIEW LAX JV, LLC  RESTAURANT (0-30) SEATS MODERATE RISK   \n",
      "24672   AREAS SKYVIEW LAX JV, LLC  RESTAURANT (0-30) SEATS MODERATE RISK   \n",
      "24673   AREAS SKYVIEW LAX JV, LLC  RESTAURANT (0-30) SEATS MODERATE RISK   \n",
      "55247   AREAS SKYVIEW LAX JV, LLC  RESTAURANT (0-30) SEATS MODERATE RISK   \n",
      "55248   AREAS SKYVIEW LAX JV, LLC  RESTAURANT (0-30) SEATS MODERATE RISK   \n",
      "55249   AREAS SKYVIEW LAX JV, LLC  RESTAURANT (0-30) SEATS MODERATE RISK   \n",
      "103037  AREAS SKYVIEW LAX JV, LLC  RESTAURANT (0-30) SEATS MODERATE RISK   \n",
      "103038  AREAS SKYVIEW LAX JV, LLC  RESTAURANT (0-30) SEATS MODERATE RISK   \n",
      "103039  AREAS SKYVIEW LAX JV, LLC  RESTAURANT (0-30) SEATS MODERATE RISK   \n",
      "103040  AREAS SKYVIEW LAX JV, LLC  RESTAURANT (0-30) SEATS MODERATE RISK   \n",
      "103041  AREAS SKYVIEW LAX JV, LLC  RESTAURANT (0-30) SEATS MODERATE RISK   \n",
      "103042  AREAS SKYVIEW LAX JV, LLC  RESTAURANT (0-30) SEATS MODERATE RISK   \n",
      "\n",
      "        program_element_pe program_name program_status  record_id  score  \\\n",
      "24668                 1631     REILLY'S         ACTIVE  PR0193026     92   \n",
      "24669                 1631     REILLY'S         ACTIVE  PR0193026     92   \n",
      "24670                 1631     REILLY'S         ACTIVE  PR0193026     92   \n",
      "24671                 1631     REILLY'S         ACTIVE  PR0193026     92   \n",
      "24672                 1631     REILLY'S         ACTIVE  PR0193026     92   \n",
      "24673                 1631     REILLY'S         ACTIVE  PR0193026     92   \n",
      "55247                 1631     REILLY'S         ACTIVE  PR0193026     97   \n",
      "55248                 1631     REILLY'S         ACTIVE  PR0193026     97   \n",
      "55249                 1631     REILLY'S         ACTIVE  PR0193026     97   \n",
      "103037                1631     REILLY'S         ACTIVE  PR0193026     90   \n",
      "103038                1631     REILLY'S         ACTIVE  PR0193026     90   \n",
      "103039                1631     REILLY'S         ACTIVE  PR0193026     90   \n",
      "103040                1631     REILLY'S         ACTIVE  PR0193026     90   \n",
      "103041                1631     REILLY'S         ACTIVE  PR0193026     90   \n",
      "103042                1631     REILLY'S         ACTIVE  PR0193026     90   \n",
      "\n",
      "        service_code service_description         row_id  \n",
      "24668              1  ROUTINE INSPECTION  DAQOKRFZBF033  \n",
      "24669              1  ROUTINE INSPECTION  DAQOKRFZBF044  \n",
      "24670              1  ROUTINE INSPECTION  DAQOKRFZBF040  \n",
      "24671              1  ROUTINE INSPECTION  DAQOKRFZBF007  \n",
      "24672              1  ROUTINE INSPECTION  DAQOKRFZBF049  \n",
      "24673              1  ROUTINE INSPECTION  DAQOKRFZBF035  \n",
      "55247              1  ROUTINE INSPECTION  DA1ELBR43F033  \n",
      "55248              1  ROUTINE INSPECTION  DA1ELBR43F044  \n",
      "55249              1  ROUTINE INSPECTION  DA1ELBR43F036  \n",
      "103037             1  ROUTINE INSPECTION  DA6TSAAKBF033  \n",
      "103038             1  ROUTINE INSPECTION  DA6TSAAKBF007  \n",
      "103039             1  ROUTINE INSPECTION  DA6TSAAKBF049  \n",
      "103040             1  ROUTINE INSPECTION  DA6TSAAKBF035  \n",
      "103041             1  ROUTINE INSPECTION  DA6TSAAKBF009  \n",
      "103042             1  ROUTINE INSPECTION  DA6TSAAKBF006  \n"
     ]
    }
   ],
   "source": [
    "print(reilly)"
   ]
  },
  {
   "cell_type": "code",
   "execution_count": 7,
   "metadata": {},
   "outputs": [
    {
     "name": "stdout",
     "output_type": "stream",
     "text": [
      "serial_number          58872\n",
      "activity_date            767\n",
      "facility_name          11681\n",
      "score                     36\n",
      "grade                      4\n",
      "service_code               2\n",
      "service_description        2\n",
      "employee_id              129\n",
      "facility_address       11537\n",
      "facility_city              1\n",
      "facility_id            13093\n",
      "facility_state             1\n",
      "facility_zip             952\n",
      "owner_id               11389\n",
      "owner_name             11165\n",
      "pe_description            18\n",
      "program_element_pe        18\n",
      "program_name           12446\n",
      "program_status             2\n",
      "record_id              14066\n",
      "dtype: int64\n"
     ]
    }
   ],
   "source": [
    "#Let's explore how many unique entries there are in each different group\n",
    "\n",
    "print(scores.nunique())"
   ]
  },
  {
   "cell_type": "markdown",
   "metadata": {},
   "source": [
    "When looking at the data columns side by side it appears that there is not much use for the two different data sets and that just using the score data set will be perfectly functional.  "
   ]
  },
  {
   "cell_type": "code",
   "execution_count": 8,
   "metadata": {},
   "outputs": [
    {
     "name": "stdout",
     "output_type": "stream",
     "text": [
      "36814    EE0000006\n",
      "15692    EE0000006\n",
      "35573    EE0000006\n",
      "23492    EE0000006\n",
      "29604    EE0000006\n",
      "36387    EE0000006\n",
      "2396     EE0000006\n",
      "27640    EE0000006\n",
      "45729    EE0000006\n",
      "38581    EE0000006\n",
      "50006    EE0000006\n",
      "36394    EE0000006\n",
      "31964    EE0000006\n",
      "375      EE0000006\n",
      "23482    EE0000006\n",
      "15673    EE0000006\n",
      "3213     EE0000006\n",
      "15653    EE0000006\n",
      "53432    EE0000006\n",
      "42616    EE0000006\n",
      "10617    EE0000006\n",
      "38556    EE0000006\n",
      "29682    EE0000006\n",
      "31951    EE0000006\n",
      "29686    EE0000006\n",
      "10624    EE0000006\n",
      "29697    EE0000006\n",
      "38549    EE0000006\n",
      "57751    EE0000006\n",
      "40060    EE0000006\n",
      "           ...    \n",
      "38618    EE0001073\n",
      "44937    EE0001073\n",
      "47504    EE0001073\n",
      "53881    EE0001073\n",
      "10464    EE0001073\n",
      "38644    EE0001073\n",
      "10501    EE0001073\n",
      "45363    EE0001073\n",
      "2579     EE0001073\n",
      "12649    EE0001073\n",
      "25447    EE0001073\n",
      "47491    EE0001073\n",
      "12658    EE0001073\n",
      "26174    EE0001073\n",
      "45359    EE0001073\n",
      "23771    EE0001073\n",
      "13713    EE0001073\n",
      "44127    EE0001073\n",
      "22799    EE0001073\n",
      "14813    EE0001073\n",
      "40011    EE0001073\n",
      "39484    EE0001073\n",
      "16396    EE0001073\n",
      "22796    EE0001073\n",
      "15775    EE0001073\n",
      "47926    EE0001073\n",
      "31340    EE0001073\n",
      "21419    EE0001073\n",
      "22800    EE0001073\n",
      "40810    EE0001073\n",
      "Name: employee_id, Length: 58872, dtype: object\n"
     ]
    }
   ],
   "source": [
    "ascending = scores.sort_values(by='employee_id')\n",
    "print(ascending.employee_id)"
   ]
  },
  {
   "cell_type": "code",
   "execution_count": 9,
   "metadata": {},
   "outputs": [
    {
     "name": "stdout",
     "output_type": "stream",
     "text": [
      "employee_id\n",
      "EE0000006    93.322034\n",
      "EE0000015    93.365025\n",
      "EE0000025    99.000000\n",
      "EE0000037    96.014286\n",
      "EE0000043    95.364583\n",
      "EE0000059    91.570397\n",
      "EE0000063    97.785714\n",
      "EE0000064    89.300000\n",
      "EE0000093    99.833333\n",
      "EE0000117    96.791536\n",
      "EE0000122    94.683794\n",
      "EE0000140    95.182796\n",
      "EE0000144    94.418564\n",
      "EE0000147    96.500000\n",
      "EE0000160    93.000000\n",
      "EE0000162    95.063136\n",
      "EE0000176    92.994231\n",
      "EE0000183    98.000000\n",
      "EE0000195    95.339468\n",
      "EE0000198    93.536585\n",
      "EE0000224    94.935484\n",
      "EE0000246    96.724638\n",
      "EE0000249    96.750000\n",
      "EE0000255    95.517241\n",
      "EE0000259    99.571429\n",
      "EE0000262    96.300000\n",
      "EE0000338    91.355117\n",
      "EE0000360    92.203431\n",
      "EE0000366    93.609496\n",
      "EE0000375    92.562500\n",
      "               ...    \n",
      "EE0000905    94.345725\n",
      "EE0000911    91.652745\n",
      "EE0000912    92.734807\n",
      "EE0000923    93.158159\n",
      "EE0000924    93.399703\n",
      "EE0000925    94.677419\n",
      "EE0000927    96.000000\n",
      "EE0000946    93.165888\n",
      "EE0000950    95.460000\n",
      "EE0000951    92.289140\n",
      "EE0000953    92.803977\n",
      "EE0000955    94.545181\n",
      "EE0000957    92.467456\n",
      "EE0000958    91.336879\n",
      "EE0000965    91.000000\n",
      "EE0000997    94.171913\n",
      "EE0001002    96.750000\n",
      "EE0001003    91.913386\n",
      "EE0001004    93.735294\n",
      "EE0001006    92.946970\n",
      "EE0001014    94.340909\n",
      "EE0001021    94.894118\n",
      "EE0001025    92.468935\n",
      "EE0001026    93.077031\n",
      "EE0001045    98.000000\n",
      "EE0001048    92.647359\n",
      "EE0001049    91.302270\n",
      "EE0001058    93.252682\n",
      "EE0001064    94.253041\n",
      "EE0001073    92.925043\n",
      "Name: score, Length: 129, dtype: float64\n"
     ]
    }
   ],
   "source": [
    "employee = scores.groupby('employee_id').aggregate(np.mean)\n",
    "print(employee.score)\n",
    "#sb =sns.barplot(y='score', data=employee, orient= \"v\")\n",
    "#sb.set_xticklabels(sb.get_xticklabels(), rotation=40, ha=\"right\")"
   ]
  },
  {
   "cell_type": "code",
   "execution_count": 10,
   "metadata": {},
   "outputs": [],
   "source": [
    "#Let's investigate the differences between the 2 different types of services and see if they are significant\n",
    "\n",
    "scores[scores['service_description'] == 'OWNER INITIATED ROUTINE INSPECT.'].mean()\n",
    "#Isolate the scores seperated based on owner vs. routine inspections.  \n",
    "owner_initiated = scores[scores['service_description'] == 'OWNER INITIATED ROUTINE INSPECT.']\n",
    "routine_inspection = scores[scores['service_description']== 'ROUTINE INSPECTION']"
   ]
  },
  {
   "cell_type": "code",
   "execution_count": 11,
   "metadata": {
    "scrolled": true
   },
   "outputs": [
    {
     "name": "stdout",
     "output_type": "stream",
     "text": [
      "93.31721981306474\n",
      "92.76488395560041\n"
     ]
    }
   ],
   "source": [
    "# now lets compare the two means of the different scores\n",
    "\n",
    "print(scores[scores['service_description'] == 'ROUTINE INSPECTION'].score.mean())\n",
    "print(scores[scores['service_description'] == 'OWNER INITIATED ROUTINE INSPECT.'].score.mean())"
   ]
  },
  {
   "cell_type": "code",
   "execution_count": 12,
   "metadata": {},
   "outputs": [
    {
     "data": {
      "text/plain": [
       "Ttest_indResult(statistic=-4.314354358218672, pvalue=1.603305255449405e-05)"
      ]
     },
     "execution_count": 12,
     "metadata": {},
     "output_type": "execute_result"
    }
   ],
   "source": [
    "#print(owner_initiated)\n",
    "#now let's test it and make sure that the scores are significantly different and we can use them in our model\n",
    "stats.ttest_ind(owner_initiated['score'], routine_inspection['score'])"
   ]
  },
  {
   "cell_type": "code",
   "execution_count": 13,
   "metadata": {},
   "outputs": [
    {
     "data": {
      "text/plain": [
       "array(['OW0031567', 'OW0029295', 'OW0031565', 'OW0031578', 'OW0031540',\n",
       "       'OW0031573', 'OW0031558'], dtype=object)"
      ]
     },
     "execution_count": 13,
     "metadata": {},
     "output_type": "execute_result"
    }
   ],
   "source": [
    "#Now let's take a look at the differences between owner id and owner name\n",
    "unique_owner = scores.groupby('owner_name').nunique()\n",
    "\n",
    "unique_unique = unique_owner['owner_id']\n",
    "#print(unique_unique.loc[unique_unique > 1].value_counts())\n",
    "#print(unique_unique.loc[unique_unique > 6])\n",
    "unique = scores[scores['owner_name'] == 'R & B SANCHEZ DBA MCDONALD\\'S']\n",
    "unique.owner_id.unique()"
   ]
  },
  {
   "cell_type": "code",
   "execution_count": 24,
   "metadata": {
    "scrolled": true
   },
   "outputs": [
    {
     "name": "stdout",
     "output_type": "stream",
     "text": [
      "OW0029458    557\n",
      "OW0021606    380\n",
      "OW0021612    323\n",
      "OW0033938    273\n",
      "OW0100211    234\n",
      "OW0038181    234\n",
      "OW0012108    232\n",
      "OW0016382    211\n",
      "OW0038850    198\n",
      "OW0033717    167\n",
      "OW0034460    163\n",
      "OW0010868    151\n",
      "OW0001761    140\n",
      "OW0007608    128\n",
      "OW0027458    121\n",
      "OW0012926    121\n",
      "OW0021931    118\n",
      "OW0017025    117\n",
      "OW0017276    115\n",
      "OW0005591    111\n",
      "OW0033334    111\n",
      "OW0101581    105\n",
      "OW0004937    102\n",
      "OW0037014    100\n",
      "OW0026268     99\n",
      "OW0026360     91\n",
      "OW0121804     88\n",
      "OW0040037     87\n",
      "OW0033830     81\n",
      "OW0035897     80\n",
      "            ... \n",
      "OW0242588      1\n",
      "OW0117815      1\n",
      "OW0030736      1\n",
      "OW0240722      1\n",
      "OW0248903      1\n",
      "OW0001495      1\n",
      "OW0249165      1\n",
      "OW0183694      1\n",
      "OW0033804      1\n",
      "OW0244780      1\n",
      "OW0130794      1\n",
      "OW0240989      1\n",
      "OW0235878      1\n",
      "OW0029011      1\n",
      "OW0030794      1\n",
      "OW0229449      1\n",
      "OW0033660      1\n",
      "OW0249521      1\n",
      "OW0022994      1\n",
      "OW0127683      1\n",
      "OW0183425      1\n",
      "OW0249261      1\n",
      "OW0026800      1\n",
      "OW0017557      1\n",
      "OW0007730      1\n",
      "OW0019294      1\n",
      "OW0237126      1\n",
      "OW0249646      1\n",
      "OW0248916      1\n",
      "OW0249483      1\n",
      "Name: owner_id, Length: 11389, dtype: int64\n"
     ]
    }
   ],
   "source": [
    "#Now let's take this and convert it into a useable form for our algorithim. \n",
    "#We will convert the amount of times the owner id appears in the data to another column.  \n",
    "scores['freq'] = scores.groupby('owner_id')['owner_id'].transform('count')\n",
    "#print(scores['freq'])\n",
    "print(scores.owner_id.value_counts())"
   ]
  },
  {
   "cell_type": "code",
   "execution_count": 25,
   "metadata": {},
   "outputs": [
    {
     "data": {
      "text/plain": [
       "Text(0.5,1,'Owned Restaurants per Owner')"
      ]
     },
     "execution_count": 25,
     "metadata": {},
     "output_type": "execute_result"
    },
    {
     "data": {
      "image/png": "[encoded data removed]",
      "text/plain": [
       "<matplotlib.figure.Figure at 0x166ef5f0e48>"
      ]
     },
     "metadata": {},
     "output_type": "display_data"
    }
   ],
   "source": [
    "#this is a histogram of the average distribution of counts for the owner id.\n",
    "\n",
    "plt.hist(scores.owner_id.value_counts(), bins=[0,1,5,10,20,40,80,200,300] )\n",
    "plt.xlabel('Owned Restaurants')\n",
    "plt.ylabel('Count')\n",
    "plt.title('Owned Restaurants per Owner')"
   ]
  },
  {
   "cell_type": "code",
   "execution_count": 16,
   "metadata": {},
   "outputs": [],
   "source": [
    "#Here we will begin to convert the amount of times amount of times an owner appears into a categorical variable\n",
    "\n",
    "def cat_to_num(x):\n",
    "    if x >= 100: \n",
    "        return 0\n",
    "    if x >= 60: \n",
    "        return 1\n",
    "    if x >= 40:\n",
    "        return 2\n",
    "    if x >= 20:\n",
    "        return 3\n",
    "    if x >= 10:\n",
    "        return 4\n",
    "    if x >= 5:\n",
    "        return 5\n",
    "    if x > 1:\n",
    "        return 6\n",
    "    if x == 1:\n",
    "        return 7\n",
    "    \n",
    "scores['uniqueness'] = scores.freq.apply(cat_to_num)"
   ]
  },
  {
   "cell_type": "code",
   "execution_count": 17,
   "metadata": {
    "scrolled": true
   },
   "outputs": [
    {
     "name": "stdout",
     "output_type": "stream",
     "text": [
      "118            MCDONALD'S CORPORATION\n",
      "162      R & B SANCHEZ DBA MCDONALD'S\n",
      "971                   MCDONALD'S CORP\n",
      "1810     R & B SANCHEZ DBA MCDONALD'S\n",
      "2128           MCDONALD'S CORPORATION\n",
      "2282           MCDONALD'S CORPORATION\n",
      "3301     R & B SANCHEZ DBA MCDONALD'S\n",
      "3337           MCDONALD'S CORPORATION\n",
      "3493           MCDONALD'S CORPORATION\n",
      "4300           MCDONALD'S CORPORATION\n",
      "5433           MCDONALD'S CORPORATION\n",
      "7146     R & B SANCHEZ DBA MCDONALD'S\n",
      "8395           MCDONALD'S CORPORATION\n",
      "8758           MCDONALD'S CORPORATION\n",
      "8940           MCDONALD'S CORPORATION\n",
      "9172           MCDONALD'S CORPORATION\n",
      "9300           MCDONALD'S CORPORATION\n",
      "9692     R & B SANCHEZ DBA MCDONALD'S\n",
      "9884     R & B SANCHEZ DBA MCDONALD'S\n",
      "10044          MCDONALD'S CORPORATION\n",
      "10268          MCDONALD'S CORPORATION\n",
      "10953    R & B SANCHEZ DBA MCDONALD'S\n",
      "11128                 MCDONALD'S CORP\n",
      "11158          MCDONALD'S CORPORATION\n",
      "11192    R & B SANCHEZ DBA MCDONALD'S\n",
      "12067    R & B SANCHEZ DBA MCDONALD'S\n",
      "12280          MCDONALD'S CORPORATION\n",
      "13845    R & B SANCHEZ DBA MCDONALD'S\n",
      "15714          MCDONALD'S CORPORATION\n",
      "16406    R & B SANCHEZ DBA MCDONALD'S\n",
      "                     ...             \n",
      "42203    R & B SANCHEZ DBA MCDONALD'S\n",
      "42543          MCDONALD'S CORPORATION\n",
      "43259          MCDONALD'S CORPORATION\n",
      "43809          MCDONALD'S CORPORATION\n",
      "44290    R & B SANCHEZ DBA MCDONALD'S\n",
      "44310          MCDONALD'S CORPORATION\n",
      "44878    R & B SANCHEZ DBA MCDONALD'S\n",
      "46110          MCDONALD'S CORPORATION\n",
      "47332          MCDONALD'S CORPORATION\n",
      "48241          MCDONALD'S CORPORATION\n",
      "49213          MCDONALD'S CORPORATION\n",
      "49268          MCDONALD'S CORPORATION\n",
      "49454          MCDONALD'S CORPORATION\n",
      "49913          MCDONALD'S CORPORATION\n",
      "50748          MCDONALD'S CORPORATION\n",
      "51210    R & B SANCHEZ DBA MCDONALD'S\n",
      "51451    R & B SANCHEZ DBA MCDONALD'S\n",
      "51492    R & B SANCHEZ DBA MCDONALD'S\n",
      "51813                 MCDONALD'S CORP\n",
      "52353          MCDONALD'S CORPORATION\n",
      "52493          MCDONALD'S CORPORATION\n",
      "52794          MCDONALD'S CORPORATION\n",
      "53472          MCDONALD'S CORPORATION\n",
      "53492          MCDONALD'S CORPORATION\n",
      "53861          MCDONALD'S CORPORATION\n",
      "54214          MCDONALD'S CORPORATION\n",
      "55335          MCDONALD'S CORPORATION\n",
      "56568          MCDONALD'S CORPORATION\n",
      "56858          MCDONALD'S CORPORATION\n",
      "57154    R & B SANCHEZ DBA MCDONALD'S\n",
      "Name: owner_name, Length: 109, dtype: object\n"
     ]
    }
   ],
   "source": [
    "print(scores.owner_name[scores.owner_name.str.contains(\"MCDONALD\")])"
   ]
  },
  {
   "cell_type": "code",
   "execution_count": 18,
   "metadata": {},
   "outputs": [
    {
     "name": "stdout",
     "output_type": "stream",
     "text": [
      "                                                 score  service_code  \\\n",
      "pe_description                                                         \n",
      "FOOD MKT RETAIL (2,000+ SF) HIGH RISK        91.938861      4.685092   \n",
      "FOOD MKT RETAIL (2,000+ SF) LOW RISK         95.123580      2.988636   \n",
      "FOOD MKT RETAIL (2,000+ SF) MODERATE RISK    94.728205      7.153846   \n",
      "FOOD MKT RETAIL (25-1,999 SF) HIGH RISK      93.573434      3.159827   \n",
      "FOOD MKT RETAIL (25-1,999 SF) LOW RISK       95.574088      2.094891   \n",
      "FOOD MKT RETAIL (25-1,999 SF) MODERATE RISK  93.909657      4.115265   \n",
      "RESTAURANT (0-30) SEATS HIGH RISK            92.573571      7.232253   \n",
      "RESTAURANT (0-30) SEATS LOW RISK             95.200938      3.679169   \n",
      "RESTAURANT (0-30) SEATS MODERATE RISK        93.888662      6.325317   \n",
      "RESTAURANT (151 + ) SEATS HIGH RISK          93.030751     14.258786   \n",
      "RESTAURANT (151 + ) SEATS LOW RISK           95.770115      1.000000   \n",
      "RESTAURANT (151 + ) SEATS MODERATE RISK      94.522267      7.477733   \n",
      "RESTAURANT (31-60) SEATS HIGH RISK           92.327699      9.958377   \n",
      "RESTAURANT (31-60) SEATS LOW RISK            95.105590      3.484472   \n",
      "RESTAURANT (31-60) SEATS MODERATE RISK       94.125144      9.304498   \n",
      "RESTAURANT (61-150) SEATS HIGH RISK          92.251525     14.302353   \n",
      "RESTAURANT (61-150) SEATS LOW RISK           95.456604      2.509434   \n",
      "RESTAURANT (61-150) SEATS MODERATE RISK      94.336108      8.908429   \n",
      "\n",
      "                                             program_element_pe       freq  \\\n",
      "pe_description                                                               \n",
      "FOOD MKT RETAIL (2,000+ SF) HIGH RISK                    1615.0  19.826633   \n",
      "FOOD MKT RETAIL (2,000+ SF) LOW RISK                     1613.0  60.799716   \n",
      "FOOD MKT RETAIL (2,000+ SF) MODERATE RISK                1614.0  40.861538   \n",
      "FOOD MKT RETAIL (25-1,999 SF) HIGH RISK                  1612.0  69.678906   \n",
      "FOOD MKT RETAIL (25-1,999 SF) LOW RISK                   1610.0   7.254562   \n",
      "FOOD MKT RETAIL (25-1,999 SF) MODERATE RISK              1611.0  15.194704   \n",
      "RESTAURANT (0-30) SEATS HIGH RISK                        1632.0  24.075573   \n",
      "RESTAURANT (0-30) SEATS LOW RISK                         1630.0  66.352981   \n",
      "RESTAURANT (0-30) SEATS MODERATE RISK                    1631.0  44.677582   \n",
      "RESTAURANT (151 + ) SEATS HIGH RISK                      1641.0  31.998003   \n",
      "RESTAURANT (151 + ) SEATS LOW RISK                       1639.0  21.160920   \n",
      "RESTAURANT (151 + ) SEATS MODERATE RISK                  1640.0  72.226721   \n",
      "RESTAURANT (31-60) SEATS HIGH RISK                       1635.0  13.090746   \n",
      "RESTAURANT (31-60) SEATS LOW RISK                        1633.0  83.898551   \n",
      "RESTAURANT (31-60) SEATS MODERATE RISK                   1634.0  23.331027   \n",
      "RESTAURANT (61-150) SEATS HIGH RISK                      1638.0  11.701423   \n",
      "RESTAURANT (61-150) SEATS LOW RISK                       1636.0  24.358491   \n",
      "RESTAURANT (61-150) SEATS MODERATE RISK                  1637.0  26.170656   \n",
      "\n",
      "                                             uniqueness  \n",
      "pe_description                                           \n",
      "FOOD MKT RETAIL (2,000+ SF) HIGH RISK          4.582077  \n",
      "FOOD MKT RETAIL (2,000+ SF) LOW RISK           3.879261  \n",
      "FOOD MKT RETAIL (2,000+ SF) MODERATE RISK      4.502564  \n",
      "FOOD MKT RETAIL (25-1,999 SF) HIGH RISK        3.660547  \n",
      "FOOD MKT RETAIL (25-1,999 SF) LOW RISK         5.687409  \n",
      "FOOD MKT RETAIL (25-1,999 SF) MODERATE RISK    5.137072  \n",
      "RESTAURANT (0-30) SEATS HIGH RISK              4.739498  \n",
      "RESTAURANT (0-30) SEATS LOW RISK               3.962492  \n",
      "RESTAURANT (0-30) SEATS MODERATE RISK          4.280223  \n",
      "RESTAURANT (151 + ) SEATS HIGH RISK            4.163738  \n",
      "RESTAURANT (151 + ) SEATS LOW RISK             4.459770  \n",
      "RESTAURANT (151 + ) SEATS MODERATE RISK        3.372470  \n",
      "RESTAURANT (31-60) SEATS HIGH RISK             4.839108  \n",
      "RESTAURANT (31-60) SEATS LOW RISK              3.563147  \n",
      "RESTAURANT (31-60) SEATS MODERATE RISK         4.201269  \n",
      "RESTAURANT (61-150) SEATS HIGH RISK            4.799012  \n",
      "RESTAURANT (61-150) SEATS LOW RISK             4.867925  \n",
      "RESTAURANT (61-150) SEATS MODERATE RISK        3.880333  \n"
     ]
    }
   ],
   "source": [
    "#Now let's take a look at the differences between different program element description and see if there is any \n",
    "#significant differences between them.\n",
    "\n",
    "description_violations = violations.groupby('pe_description').aggregate(np.mean)\n",
    "description_scores = scores.groupby('pe_description').aggregate(np.mean)\n",
    "print(description_scores)"
   ]
  },
  {
   "cell_type": "code",
   "execution_count": 19,
   "metadata": {},
   "outputs": [],
   "source": [
    "types_grouped = scores['pe_description'].value_counts()"
   ]
  },
  {
   "cell_type": "code",
   "execution_count": 20,
   "metadata": {},
   "outputs": [
    {
     "name": "stdout",
     "output_type": "stream",
     "text": [
      "RESTAURANT (0-30) SEATS HIGH RISK              69820\n",
      "RESTAURANT (31-60) SEATS HIGH RISK             50136\n",
      "RESTAURANT (0-30) SEATS MODERATE RISK          38839\n",
      "RESTAURANT (61-150) SEATS HIGH RISK            36937\n",
      "FOOD MKT RETAIL (25-1,999 SF) LOW RISK         17890\n",
      "FOOD MKT RETAIL (25-1,999 SF) HIGH RISK        12399\n",
      "RESTAURANT (151 + ) SEATS HIGH RISK            12202\n",
      "RESTAURANT (31-60) SEATS MODERATE RISK          7049\n",
      "FOOD MKT RETAIL (2,000+ SF) HIGH RISK           6610\n",
      "FOOD MKT RETAIL (2,000+ SF) LOW RISK            5057\n",
      "RESTAURANT (0-30) SEATS LOW RISK                4921\n",
      "RESTAURANT (61-150) SEATS MODERATE RISK         3715\n",
      "FOOD MKT RETAIL (25-1,999 SF) MODERATE RISK     2694\n",
      "RESTAURANT (31-60) SEATS LOW RISK               1639\n",
      "RESTAURANT (151 + ) SEATS MODERATE RISK          970\n",
      "RESTAURANT (61-150) SEATS LOW RISK               886\n",
      "FOOD MKT RETAIL (2,000+ SF) MODERATE RISK        769\n",
      "RESTAURANT (151 + ) SEATS LOW RISK               268\n",
      "Name: pe_description, dtype: int64\n"
     ]
    }
   ],
   "source": [
    "#Here we can see the distribution between all the different restaurant types\n",
    "\n",
    "types_violations_grouped = violations['pe_description'].value_counts()\n",
    "print(types_violations_grouped)"
   ]
  },
  {
   "cell_type": "code",
   "execution_count": 26,
   "metadata": {},
   "outputs": [
    {
     "data": {
      "text/plain": [
       "[Text(0,0,'RESTAURANT (0-30) SEATS HIGH RISK'),\n",
       " Text(0,0,'RESTAURANT (31-60) SEATS HIGH RISK'),\n",
       " Text(0,0,'RESTAURANT (0-30) SEATS MODERATE RISK'),\n",
       " Text(0,0,'RESTAURANT (61-150) SEATS HIGH RISK'),\n",
       " Text(0,0,'FOOD MKT RETAIL (25-1,999 SF) LOW RISK'),\n",
       " Text(0,0,'FOOD MKT RETAIL (25-1,999 SF) HIGH RISK'),\n",
       " Text(0,0,'RESTAURANT (151 + ) SEATS HIGH RISK'),\n",
       " Text(0,0,'RESTAURANT (31-60) SEATS MODERATE RISK'),\n",
       " Text(0,0,'RESTAURANT (0-30) SEATS LOW RISK'),\n",
       " Text(0,0,'FOOD MKT RETAIL (2,000+ SF) LOW RISK'),\n",
       " Text(0,0,'FOOD MKT RETAIL (2,000+ SF) HIGH RISK'),\n",
       " Text(0,0,'RESTAURANT (61-150) SEATS MODERATE RISK'),\n",
       " Text(0,0,'FOOD MKT RETAIL (25-1,999 SF) MODERATE RISK'),\n",
       " Text(0,0,'RESTAURANT (31-60) SEATS LOW RISK'),\n",
       " Text(0,0,'RESTAURANT (61-150) SEATS LOW RISK'),\n",
       " Text(0,0,'RESTAURANT (151 + ) SEATS MODERATE RISK'),\n",
       " Text(0,0,'FOOD MKT RETAIL (2,000+ SF) MODERATE RISK'),\n",
       " Text(0,0,'RESTAURANT (151 + ) SEATS LOW RISK')]"
      ]
     },
     "execution_count": 26,
     "metadata": {},
     "output_type": "execute_result"
    },
    {
     "data": {
      "image/png": "[encoded data removed]",
      "text/plain": [
       "<matplotlib.figure.Figure at 0x166ef618400>"
      ]
     },
     "metadata": {},
     "output_type": "display_data"
    }
   ],
   "source": [
    "#Let's look at this in a graphic view.  As we can see that their are some\n",
    "#groups that are highly concentrated and some that have very few.  \n",
    "\n",
    "ax =sns.countplot(x='pe_description', data=scores, orient= \"v\", order=scores.pe_description.value_counts().index)\n",
    "\n",
    "ax.set_xticklabels(ax.get_xticklabels(), rotation=40, ha=\"right\")"
   ]
  },
  {
   "cell_type": "code",
   "execution_count": 22,
   "metadata": {},
   "outputs": [
    {
     "name": "stdout",
     "output_type": "stream",
     "text": [
      "FOOD MKT RETAIL (2,000+ SF) HIGH RISK          5.536013\n",
      "RESTAURANT (61-150) SEATS HIGH RISK            5.364072\n",
      "RESTAURANT (31-60) SEATS HIGH RISK             5.296429\n",
      "RESTAURANT (0-30) SEATS HIGH RISK              5.083364\n",
      "RESTAURANT (151 + ) SEATS HIGH RISK            4.873003\n",
      "FOOD MKT RETAIL (25-1,999 SF) HIGH RISK        4.463283\n",
      "FOOD MKT RETAIL (25-1,999 SF) MODERATE RISK    4.196262\n",
      "RESTAURANT (0-30) SEATS MODERATE RISK          4.169959\n",
      "RESTAURANT (31-60) SEATS MODERATE RISK         4.065167\n",
      "FOOD MKT RETAIL (2,000+ SF) MODERATE RISK      3.943590\n",
      "RESTAURANT (151 + ) SEATS MODERATE RISK        3.927126\n",
      "RESTAURANT (61-150) SEATS MODERATE RISK        3.865765\n",
      "FOOD MKT RETAIL (2,000+ SF) LOW RISK           3.591619\n",
      "RESTAURANT (31-60) SEATS LOW RISK              3.393375\n",
      "RESTAURANT (61-150) SEATS LOW RISK             3.343396\n",
      "RESTAURANT (0-30) SEATS LOW RISK               3.296048\n",
      "FOOD MKT RETAIL (25-1,999 SF) LOW RISK         3.264599\n",
      "RESTAURANT (151 + ) SEATS LOW RISK             3.080460\n",
      "Name: pe_description, dtype: float64\n"
     ]
    }
   ],
   "source": [
    "#Create the average health code violation per restaurant group\n",
    "\n",
    "per_type = types_violations_grouped / types_grouped\n",
    "per_type = per_type.sort_values(ascending=False)\n",
    "print(per_type)"
   ]
  },
  {
   "cell_type": "code",
   "execution_count": 23,
   "metadata": {},
   "outputs": [
    {
     "name": "stdout",
     "output_type": "stream",
     "text": [
      "AxesSubplot(0.1,0.15;0.8x0.75)\n"
     ]
    },
    {
     "data": {
      "image/png": "[encoded data removed]",
      "text/plain": [
       "<matplotlib.figure.Figure at 0x1beb1dca4a8>"
      ]
     },
     "metadata": {},
     "output_type": "display_data"
    }
   ],
   "source": [
    "#Lets begin to investigate the distribution of Risk and what it means for our data\n",
    "\n",
    "scores['high'] = scores['pe_description'].str.contains('HIGH')\n",
    "scores['medium'] = scores['pe_description'].str.contains('MODERATE')\n",
    "scores['low'] = scores['pe_description'].str.contains('LOW')\n",
    "#print(scores[['low', 'pe_description', 'high', 'medium']])\n",
    "scores['risk'] = scores['low'].apply(lambda x: 'low' if x else np.NaN)\n",
    "scores['risk'][scores.high == True] = 'high'\n",
    "scores['risk'][scores.medium == True] = 'medium'\n",
    "\n",
    "\n",
    "print(scores[['score', 'risk']].boxplot(by='risk'))"
   ]
  },
  {
   "cell_type": "markdown",
   "metadata": {},
   "source": [
    "It appears to me that all of the different risk ratings are assigned previously before the actuall inspection. "
   ]
  },
  {
   "cell_type": "code",
   "execution_count": 24,
   "metadata": {},
   "outputs": [
    {
     "data": {
      "text/plain": [
       "<matplotlib.axes._subplots.AxesSubplot at 0x1beb1dc2e80>"
      ]
     },
     "execution_count": 24,
     "metadata": {},
     "output_type": "execute_result"
    },
    {
     "data": {
      "image/png": "[encoded data removed]",
      "text/plain": [
       "<matplotlib.figure.Figure at 0x1beb1dc2748>"
      ]
     },
     "metadata": {},
     "output_type": "display_data"
    }
   ],
   "source": [
    "#Let's take a look at the correlation between our different variables.\n",
    "corr_scores = scores.corr()\n",
    "\n",
    "sns.heatmap(corr_scores)"
   ]
  },
  {
   "cell_type": "code",
   "execution_count": 25,
   "metadata": {},
   "outputs": [
    {
     "data": {
      "text/plain": [
       "Index(['serial_number', 'activity_date', 'facility_name', 'score', 'grade',\n",
       "       'service_code', 'service_description', 'employee_id',\n",
       "       'facility_address', 'facility_city', 'facility_id', 'facility_state',\n",
       "       'facility_zip', 'owner_id', 'owner_name', 'pe_description',\n",
       "       'program_element_pe', 'program_name', 'program_status', 'record_id',\n",
       "       'freq', 'uniqueness', 'high', 'medium', 'low', 'risk'],\n",
       "      dtype='object')"
      ]
     },
     "execution_count": 25,
     "metadata": {},
     "output_type": "execute_result"
    }
   ],
   "source": [
    "#Now let's take a quick look at the columns we have been able to generate.\n",
    "\n",
    "scores.columns\n"
   ]
  },
  {
   "cell_type": "code",
   "execution_count": 26,
   "metadata": {},
   "outputs": [],
   "source": [
    "#Create wanted data frame with parameters\n",
    "X = scores[['service_code', 'facility_city', 'facility_zip', 'pe_description', 'program_status', 'employee_id', 'risk', 'freq', 'uniqueness']]\n",
    "y = scores[['score']]\n"
   ]
  },
  {
   "cell_type": "code",
   "execution_count": 27,
   "metadata": {},
   "outputs": [],
   "source": [
    "#get_dummies for certain columns\n",
    "X = pd.get_dummies(X, columns=['service_code', 'facility_city', 'employee_id', 'facility_zip', 'pe_description', 'program_status', 'risk'])\n"
   ]
  },
  {
   "cell_type": "code",
   "execution_count": null,
   "metadata": {},
   "outputs": [],
   "source": []
  },
  {
   "cell_type": "code",
   "execution_count": null,
   "metadata": {},
   "outputs": [],
   "source": []
  },
  {
   "cell_type": "code",
   "execution_count": 28,
   "metadata": {},
   "outputs": [],
   "source": [
    "#Create training and test for the data\n",
    "from sklearn.model_selection import train_test_split\n",
    "\n",
    "X_train, X_test, y_train, y_test = train_test_split(X, y, test_size=0.4)"
   ]
  },
  {
   "cell_type": "code",
   "execution_count": null,
   "metadata": {},
   "outputs": [
    {
     "data": {
      "text/plain": [
       "array([0.17808042, 0.15083608, 0.17882869, 0.13749109, 0.15273061])"
      ]
     },
     "execution_count": 29,
     "metadata": {},
     "output_type": "execute_result"
    }
   ],
   "source": [
    "#First let's create a regression model using the Random forest decision tree. \n",
    "\n",
    "from sklearn import ensemble\n",
    "from sklearn.model_selection import cross_val_score\n",
    "rfr = ensemble.RandomForestRegressor()\n",
    "rfr.fit(X_train, y_train)\n",
    "cross_val_score(rfr, X_train, y_train, cv=5)"
   ]
  },
  {
   "cell_type": "code",
   "execution_count": null,
   "metadata": {},
   "outputs": [],
   "source": [
    "# Let's take a look and see if we can boost our model to try and save these terrible results\n",
    "#We see a minor increase in predictability\n",
    "params = {'n_estimators': 500, \n",
    "         'max_depth': 3,\n",
    "         'loss': 'ls'}\n",
    "clf = ensemble.GradientBoostingRegressor(**params)\n",
    "clf.fit(X_train, y_train)\n",
    "cross_val_score(clf, X_train, y_train, cv=5)"
   ]
  },
  {
   "cell_type": "markdown",
   "metadata": {},
   "source": [
    "Well that didn't work out very well.  Let's investigate how the model does as a categorizer when looking at the data.  "
   ]
  },
  {
   "cell_type": "code",
   "execution_count": 27,
   "metadata": {},
   "outputs": [
    {
     "data": {
      "text/plain": [
       "array(['A', 'B', 'C', ' '], dtype=object)"
      ]
     },
     "execution_count": 27,
     "metadata": {},
     "output_type": "execute_result"
    }
   ],
   "source": [
    "scores.grade.unique()"
   ]
  },
  {
   "cell_type": "markdown",
   "metadata": {},
   "source": [
    "Now that we have investigated the unique types of grades we can convert them to something we can run a model on"
   ]
  },
  {
   "cell_type": "code",
   "execution_count": 28,
   "metadata": {},
   "outputs": [],
   "source": [
    "def letter_to_num(x):\n",
    "    if x =='A':\n",
    "        return 1 \n",
    "    if x =='B':\n",
    "        return 2\n",
    "    if x == 'C':\n",
    "        return 3\n",
    "    if x == ' ':\n",
    "        return 3\n",
    "\n",
    "\n",
    "scores['letter_num'] = scores.grade.apply(letter_to_num)  \n",
    "\n"
   ]
  },
  {
   "cell_type": "code",
   "execution_count": 29,
   "metadata": {},
   "outputs": [],
   "source": [
    "def letter_to_num2(x):\n",
    "    if x =='A':\n",
    "        return 1 \n",
    "    if x =='B':\n",
    "        return 2\n",
    "    if x == 'C':\n",
    "        return 2\n",
    "    if x == ' ':\n",
    "        return 2\n",
    "\n",
    "\n",
    "scores['two_grades'] = scores.grade.apply(letter_to_num2)  \n",
    "\n"
   ]
  },
  {
   "cell_type": "code",
   "execution_count": 30,
   "metadata": {},
   "outputs": [
    {
     "data": {
      "text/plain": [
       "<matplotlib.axes._subplots.AxesSubplot at 0x166ef776a20>"
      ]
     },
     "execution_count": 30,
     "metadata": {},
     "output_type": "execute_result"
    },
    {
     "data": {
      "image/png": "[encoded data removed]",
      "text/plain": [
       "<matplotlib.figure.Figure at 0x166ef6d9c50>"
      ]
     },
     "metadata": {},
     "output_type": "display_data"
    }
   ],
   "source": [
    "#Let's see if the correlations are any different now that we only have three different\n",
    "#variables we are looking at\n",
    "\n",
    "correlation_mat = scores.corr()\n",
    "sns.heatmap(correlation_mat)"
   ]
  },
  {
   "cell_type": "code",
   "execution_count": 36,
   "metadata": {},
   "outputs": [
    {
     "data": {
      "image/png": "[encoded data removed]",
      "text/plain": [
       "<matplotlib.figure.Figure at 0x166ef8a3e48>"
      ]
     },
     "metadata": {},
     "output_type": "display_data"
    }
   ],
   "source": [
    "scores.letter_num.value_counts()\n",
    "xz = ['A', 'B', 'C']\n",
    "yz = [54904, 3676, 292]\n",
    "plt.bar(xz, yz)\n",
    "plt.xlabel('Type')\n",
    "plt.ylabel('Count')\n",
    "plt.title('Counts of Grading')\n",
    "plt.show()"
   ]
  },
  {
   "cell_type": "code",
   "execution_count": 33,
   "metadata": {},
   "outputs": [
    {
     "data": {
      "image/png": "[encoded data removed]",
      "text/plain": [
       "<matplotlib.figure.Figure at 0x166ef807f98>"
      ]
     },
     "metadata": {},
     "output_type": "display_data"
    }
   ],
   "source": [
    "\n",
    "plt.hist(scores.letter_num)\n",
    "plt.xlabel('Type')\n",
    "plt.ylabel('Count')\n",
    "plt.title(\"Counts of Grading\")\n",
    "plt.show()"
   ]
  },
  {
   "cell_type": "code",
   "execution_count": 32,
   "metadata": {},
   "outputs": [
    {
     "data": {
      "text/plain": [
       "1    54904\n",
       "2     3676\n",
       "3      292\n",
       "Name: letter_num, dtype: int64"
      ]
     },
     "execution_count": 32,
     "metadata": {},
     "output_type": "execute_result"
    }
   ],
   "source": [
    "scores.letter_num.value_counts()"
   ]
  },
  {
   "cell_type": "code",
   "execution_count": null,
   "metadata": {},
   "outputs": [],
   "source": [
    "#how would it do against all As, or Bs, or Cs\n",
    "#Group into either all A or not A\n",
    "#bernouli naive bayes:\n",
    "#kNN"
   ]
  },
  {
   "cell_type": "code",
   "execution_count": null,
   "metadata": {},
   "outputs": [],
   "source": [
    "y2 = scores['letter_num']\n",
    "y3 = scores['two_grades']"
   ]
  },
  {
   "cell_type": "code",
   "execution_count": null,
   "metadata": {},
   "outputs": [],
   "source": [
    "X_train, X_test, y_train2, y_test2 = train_test_split(X, y2, test_size=0.4)\n",
    "\n",
    "X_train, X_test, y_train3, y_test3 = train_test_split(X, y3, test_size=0.4)"
   ]
  },
  {
   "cell_type": "code",
   "execution_count": null,
   "metadata": {},
   "outputs": [],
   "source": [
    "# on the classifier first of all groups\n",
    "rfc = ensemble.RandomForestClassifier()\n",
    "rfc.fit(X_train, y_train2)\n",
    "cross_val_score(rfc, X_train, y_train2, cv=5)"
   ]
  },
  {
   "cell_type": "code",
   "execution_count": null,
   "metadata": {},
   "outputs": [],
   "source": [
    "#crosstab to see if we are generating errors and how we are doing it:\n",
    "from sklearn.metrics import confusion_matrix\n",
    "y_pred = rfc.fit(X_train, y_train2).predict(X_train)\n",
    "\n",
    "confusion_matrix(y_train2, y_pred)"
   ]
  },
  {
   "cell_type": "code",
   "execution_count": null,
   "metadata": {},
   "outputs": [],
   "source": [
    "# either A or not A\n",
    "rfc.fit(X_train, y_train3)\n",
    "cross_val_score(rfc, X_train, y_train3, cv=5)"
   ]
  },
  {
   "cell_type": "code",
   "execution_count": null,
   "metadata": {},
   "outputs": [],
   "source": [
    "#now lets take a look at the kind of errors we are generating to see how well\n",
    "#it is performing\n",
    "y_pred2 = rfc.fit(X_train, y_train3).predict(X_train)\n",
    "\n",
    "confusion_matrix(y_train3, y_pred2)"
   ]
  },
  {
   "cell_type": "code",
   "execution_count": null,
   "metadata": {},
   "outputs": [],
   "source": [
    "#Now lets take a look at this through the lense of the bernoulli.\n",
    "#Errors seem to be about the same between bernoulli and random forest classifier\n",
    "\n",
    "from sklearn.naive_bayes import BernoulliNB\n",
    "bnb = BernoulliNB()\n",
    "bnb.fit(X_train, y_train3)\n",
    "cross_val_score(bnb, X_train, y_train3, cv=5)"
   ]
  },
  {
   "cell_type": "code",
   "execution_count": null,
   "metadata": {},
   "outputs": [],
   "source": [
    "#It appears that the system mislabels more than if it were to just assume all were\n",
    "#just labeled as As\n",
    "\n",
    "y_pred3 = bnb.predict(X_train)\n",
    "\n",
    "print(\"Number of mislabeled points out of a total {} points : {}\".format(\n",
    "    X_train.shape[0],\n",
    "    (y_train3 != y_pred).sum()\n",
    "))"
   ]
  },
  {
   "cell_type": "code",
   "execution_count": null,
   "metadata": {},
   "outputs": [],
   "source": [
    "confusion_matrix(y_train3, y_pred3)"
   ]
  },
  {
   "cell_type": "code",
   "execution_count": null,
   "metadata": {},
   "outputs": [],
   "source": []
  },
  {
   "cell_type": "code",
   "execution_count": null,
   "metadata": {},
   "outputs": [],
   "source": []
  }
 ],
 "metadata": {
  "kernelspec": {
   "display_name": "Python [conda env:Anaconda3]",
   "language": "python",
   "name": "conda-env-Anaconda3-py"
  },
  "language_info": {
   "codemirror_mode": {
    "name": "ipython",
    "version": 3
   },
   "file_extension": ".py",
   "mimetype": "text/x-python",
   "name": "python",
   "nbconvert_exporter": "python",
   "pygments_lexer": "ipython3",
   "version": "3.6.4"
  }
 },
 "nbformat": 4,
 "nbformat_minor": 2
}
