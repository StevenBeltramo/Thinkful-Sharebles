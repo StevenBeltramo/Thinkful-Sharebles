{
 "cells": [
  {
   "cell_type": "code",
   "execution_count": 27,
   "metadata": {},
   "outputs": [],
   "source": [
    "%matplotlib inline\n",
    "import numpy as np\n",
    "import pandas as pd\n",
    "import scipy\n",
    "import sklearn\n",
    "import matplotlib.pyplot as plt\n",
    "import seaborn as sns\n",
    "\n",
    "import math\n",
    "import warnings\n",
    "\n",
    "from IPython.display import display\n",
    "from sklearn import linear_model\n",
    "import statsmodels.formula.api as smf\n",
    "\n",
    "# Display preferences.\n",
    "%matplotlib inline\n",
    "pd.options.display.float_format = '{:.3f}'.format\n",
    "\n",
    "# Suppress annoying harmless error.\n",
    "warnings.filterwarnings(\n",
    "    action=\"ignore\",\n",
    "    module=\"scipy\",\n",
    "    message=\"^internal gelsd\"\n",
    ")"
   ]
  },
  {
   "cell_type": "code",
   "execution_count": 28,
   "metadata": {},
   "outputs": [],
   "source": [
    "df = pd.read_csv('C:\\\\Users\\\\STEVEN\\\\Documents\\\\Thinkful\\\\new_york.csv')"
   ]
  },
  {
   "cell_type": "code",
   "execution_count": 29,
   "metadata": {},
   "outputs": [
    {
     "name": "stdout",
     "output_type": "stream",
     "text": [
      "            City Population Violent\\ncrime  \\\n",
      "0  Adams Village      1,861              0   \n",
      "\n",
      "   Murder and\\nnonnegligent\\nmanslaughter  Rape\\n(revised\\ndefinition)1  \\\n",
      "0                                   0.000                           nan   \n",
      "\n",
      "  Rape\\n(legacy\\ndefinition)2 Robbery Aggravated\\nassault Property\\ncrime  \\\n",
      "0                           0       0                   0              12   \n",
      "\n",
      "  Burglary Larceny-\\ntheft Motor\\nvehicle\\ntheft  Arson3  Unnamed: 13  \n",
      "0        2              10                     0   0.000          nan  \n"
     ]
    }
   ],
   "source": [
    "print(df.head(1))\n"
   ]
  },
  {
   "cell_type": "code",
   "execution_count": 30,
   "metadata": {},
   "outputs": [
    {
     "data": {
      "text/plain": [
       "351"
      ]
     },
     "execution_count": 30,
     "metadata": {},
     "output_type": "execute_result"
    }
   ],
   "source": [
    "df.shape[0]"
   ]
  },
  {
   "cell_type": "code",
   "execution_count": 31,
   "metadata": {},
   "outputs": [
    {
     "name": "stdout",
     "output_type": "stream",
     "text": [
      "City                                      Adams Village\n",
      "Population                                        1,861\n",
      "Violent\\ncrime                                        0\n",
      "Murder and\\nnonnegligent\\nmanslaughter            0.000\n",
      "Rape\\n(revised\\ndefinition)1                        NaN\n",
      "Rape\\n(legacy\\ndefinition)2                           0\n",
      "Robbery                                               0\n",
      "Aggravated\\nassault                                   0\n",
      "Property\\ncrime                                      12\n",
      "Burglary                                              2\n",
      "Larceny-\\ntheft                                      10\n",
      "Motor\\nvehicle\\ntheft                                 0\n",
      "Arson3                                            0.000\n",
      "Unnamed: 13                                         NaN\n",
      "Name: 0, dtype: object\n"
     ]
    }
   ],
   "source": [
    "print(df.loc[0,:])"
   ]
  },
  {
   "cell_type": "code",
   "execution_count": 32,
   "metadata": {},
   "outputs": [
    {
     "name": "stdout",
     "output_type": "stream",
     "text": [
      "City                                      Adams Village\n",
      "Population                                        1,861\n",
      "Violent\\ncrime                                        0\n",
      "Murder and\\nnonnegligent\\nmanslaughter            0.000\n",
      "Rape\\n(revised\\ndefinition)1                      0.000\n",
      "Rape\\n(legacy\\ndefinition)2                           0\n",
      "Robbery                                               0\n",
      "Aggravated\\nassault                                   0\n",
      "Property\\ncrime                                      12\n",
      "Burglary                                              2\n",
      "Larceny-\\ntheft                                      10\n",
      "Motor\\nvehicle\\ntheft                                 0\n",
      "Arson3                                            0.000\n",
      "Unnamed: 13                                       0.000\n",
      "Name: 0, dtype: object\n"
     ]
    }
   ],
   "source": [
    "#fill in all missing datas with 0\n",
    "\n",
    "df = df.fillna(0)\n",
    "print(df.loc[0,:])"
   ]
  },
  {
   "cell_type": "code",
   "execution_count": 33,
   "metadata": {},
   "outputs": [],
   "source": [
    "#lets create some features\n",
    "\n",
    "df['Population'] = df['Population'].str.replace(',', '')\n",
    "df = df.fillna(0)\n",
    "df['Population'] = df['Population'].astype(int)"
   ]
  },
  {
   "cell_type": "code",
   "execution_count": 34,
   "metadata": {},
   "outputs": [],
   "source": [
    "df['Population_sq'] = np.square(df['Population'])"
   ]
  },
  {
   "cell_type": "code",
   "execution_count": 35,
   "metadata": {},
   "outputs": [],
   "source": [
    "#messing with cat. for murder\n",
    "df = df.rename(index=str,columns={'Murder and\\nnonnegligent\\nmanslaughter': 'Murder'})\n",
    "df['Murder'] = df['Murder'].astype(int)\n",
    "\n",
    "murder_ca = []\n",
    "\n",
    "for x in df['Murder']:\n",
    "    if x == 0: \n",
    "        murder_ca.append(x)\n",
    "    else: \n",
    "        x = 1\n",
    "        murder_ca.append(x)\n",
    "\n",
    "\n",
    "se = pd.Series(murder_ca)\n",
    "df['murder_cat'] = se.values\n",
    "#df['Murder']"
   ]
  },
  {
   "cell_type": "code",
   "execution_count": 36,
   "metadata": {},
   "outputs": [],
   "source": [
    "from sklearn import preprocessing\n",
    "#Robbery now\n",
    "df['Robbery'] = df['Robbery'].str.replace(',', '')\n",
    "df = df.fillna(0)\n",
    "df['Robbery'] = df['Robbery'].astype(int)\n",
    "\n",
    "robbery_ca = []\n",
    "\n",
    "for x in df['Robbery']:\n",
    "    if x == 0: \n",
    "        robbery_ca.append(x)\n",
    "    elif x > 0: \n",
    "        x = 1\n",
    "        robbery_ca.append(x)\n",
    "\n",
    "se = pd.Series(robbery_ca)\n",
    "df['robbery_cat'] = se.values\n",
    "#print(robbery_ca)\n",
    "\n",
    "df['robbery_cat2'] = df['Robbery'].apply(lambda x: 0 if x == 0 else 1)\n",
    "\n",
    "\n"
   ]
  },
  {
   "cell_type": "code",
   "execution_count": 37,
   "metadata": {},
   "outputs": [],
   "source": [
    "test = df[['Population'] + ['Population_sq'] + ['murder_cat'] + ['robbery_cat']]"
   ]
  },
  {
   "cell_type": "code",
   "execution_count": 38,
   "metadata": {},
   "outputs": [],
   "source": [
    "#Cleaning up property crime: \n",
    "df['Property\\ncrime'] = df['Property\\ncrime'].str.replace(',', '')\n",
    "df = df.fillna(0)\n",
    "df['Property\\ncrime'] = df['Property\\ncrime'].astype(int)"
   ]
  },
  {
   "cell_type": "code",
   "execution_count": 39,
   "metadata": {},
   "outputs": [
    {
     "name": "stdout",
     "output_type": "stream",
     "text": [
      "\n",
      "Coefficients: \n",
      " [ 1.69008489e-02 -1.74015373e-07  6.15485365e+02  1.47795726e+02]\n",
      "\n",
      "Intercept: \n",
      " -24.850723319938652\n",
      "\n",
      "R-squared:\n",
      "0.9935844589734969\n"
     ]
    }
   ],
   "source": [
    "#Creating the regression analysis:\n",
    "regr = linear_model.LinearRegression()\n",
    "Y = df['Property\\ncrime']\n",
    "X = test\n",
    "regr.fit(X, Y)\n",
    "\n",
    "print('\\nCoefficients: \\n', regr.coef_)\n",
    "print('\\nIntercept: \\n', regr.intercept_)\n",
    "print('\\nR-squared:')\n",
    "print(regr.score(X, Y))"
   ]
  },
  {
   "cell_type": "code",
   "execution_count": 40,
   "metadata": {},
   "outputs": [
    {
     "data": {
      "image/png": "[encoded data removed]",
      "text/plain": [
       "<Figure size 432x288 with 1 Axes>"
      ]
     },
     "metadata": {},
     "output_type": "display_data"
    }
   ],
   "source": [
    "predicted = regr.predict(X).ravel()\n",
    "actual = df['Property\\ncrime']\n",
    "\n",
    "residual = actual - predicted\n",
    "\n",
    "plt.hist(residual)\n",
    "plt.title('Residual counts')\n",
    "plt.xlabel('Residual')\n",
    "plt.ylabel('Count')\n",
    "plt.show()"
   ]
  },
  {
   "cell_type": "code",
   "execution_count": 41,
   "metadata": {},
   "outputs": [
    {
     "data": {
      "image/png": "[encoded data removed]",
      "text/plain": [
       "<Figure size 432x288 with 1 Axes>"
      ]
     },
     "metadata": {},
     "output_type": "display_data"
    }
   ],
   "source": [
    "plt.scatter(predicted, residual)\n",
    "plt.xlabel('Predicted')\n",
    "plt.ylabel('Residual')\n",
    "plt.axhline(y=0)\n",
    "plt.title('Residual vs. Predicted')\n",
    "plt.show()\n"
   ]
  },
  {
   "cell_type": "code",
   "execution_count": 42,
   "metadata": {},
   "outputs": [
    {
     "data": {
      "text/html": [
       "<div>\n",
       "<style scoped>\n",
       "    .dataframe tbody tr th:only-of-type {\n",
       "        vertical-align: middle;\n",
       "    }\n",
       "\n",
       "    .dataframe tbody tr th {\n",
       "        vertical-align: top;\n",
       "    }\n",
       "\n",
       "    .dataframe thead th {\n",
       "        text-align: right;\n",
       "    }\n",
       "</style>\n",
       "<table border=\"1\" class=\"dataframe\">\n",
       "  <thead>\n",
       "    <tr style=\"text-align: right;\">\n",
       "      <th></th>\n",
       "      <th>Population</th>\n",
       "      <th>Population_sq</th>\n",
       "      <th>murder_cat</th>\n",
       "      <th>robbery_cat</th>\n",
       "    </tr>\n",
       "  </thead>\n",
       "  <tbody>\n",
       "    <tr>\n",
       "      <th>Population</th>\n",
       "      <td>1.000</td>\n",
       "      <td>0.155</td>\n",
       "      <td>0.162</td>\n",
       "      <td>0.065</td>\n",
       "    </tr>\n",
       "    <tr>\n",
       "      <th>Population_sq</th>\n",
       "      <td>0.155</td>\n",
       "      <td>1.000</td>\n",
       "      <td>0.122</td>\n",
       "      <td>0.239</td>\n",
       "    </tr>\n",
       "    <tr>\n",
       "      <th>murder_cat</th>\n",
       "      <td>0.162</td>\n",
       "      <td>0.122</td>\n",
       "      <td>1.000</td>\n",
       "      <td>0.315</td>\n",
       "    </tr>\n",
       "    <tr>\n",
       "      <th>robbery_cat</th>\n",
       "      <td>0.065</td>\n",
       "      <td>0.239</td>\n",
       "      <td>0.315</td>\n",
       "      <td>1.000</td>\n",
       "    </tr>\n",
       "  </tbody>\n",
       "</table>\n",
       "</div>"
      ],
      "text/plain": [
       "               Population  Population_sq  murder_cat  robbery_cat\n",
       "Population          1.000          0.155       0.162        0.065\n",
       "Population_sq       0.155          1.000       0.122        0.239\n",
       "murder_cat          0.162          0.122       1.000        0.315\n",
       "robbery_cat         0.065          0.239       0.315        1.000"
      ]
     },
     "metadata": {},
     "output_type": "display_data"
    }
   ],
   "source": [
    "correlation_matrix = X.corr()\n",
    "display(correlation_matrix)"
   ]
  },
  {
   "cell_type": "code",
   "execution_count": 44,
   "metadata": {},
   "outputs": [
    {
     "name": "stdout",
     "output_type": "stream",
     "text": [
      "141971\n"
     ]
    }
   ],
   "source": [
    "print(df['Property\\ncrime'].max())"
   ]
  },
  {
   "cell_type": "code",
   "execution_count": 45,
   "metadata": {},
   "outputs": [
    {
     "name": "stdout",
     "output_type": "stream",
     "text": [
      "         City  Population Violent\\ncrime  Murder  \\\n",
      "216  New York     8396126         52,384     335   \n",
      "\n",
      "     Rape\\n(revised\\ndefinition)1 Rape\\n(legacy\\ndefinition)2  Robbery  \\\n",
      "216                         0.000                       1,112    19170   \n",
      "\n",
      "    Aggravated\\nassault  Property\\ncrime Burglary Larceny-\\ntheft  \\\n",
      "216              31,767           141971   16,606         117,931   \n",
      "\n",
      "    Motor\\nvehicle\\ntheft  Arson3  Unnamed: 13  Population_sq  murder_cat  \\\n",
      "216                 7,434   0.000        0.000     1633578628           1   \n",
      "\n",
      "     robbery_cat  robbery_cat2  \n",
      "216            1             1  \n"
     ]
    }
   ],
   "source": [
    "print(df[df['Property\\ncrime'] == 141971])"
   ]
  },
  {
   "cell_type": "markdown",
   "metadata": {},
   "source": [
    "I chose to just run with the basic features that thinkful already prescribes.\n",
    "\n",
    "It seems to predict the data very well with a very large amount of confidence.  None of the features necessary dictate or highly correlate with the each other, besides our categorical columns which makes sense.  \n",
    "\n",
    "One interesting thing is the fair amount of accuracy that it was able to predict New York City.  This is most likely due to the population and population squared features.  Population squared is interesting in the idea that as population increases murder shouls also increase at an exponential rate.  \n",
    "\n",
    "There are some areas where my module predicted to little crime for an area.  This occurence was more likely than predicting to much crime.  "
   ]
  },
  {
   "cell_type": "code",
   "execution_count": null,
   "metadata": {},
   "outputs": [],
   "source": []
  }
 ],
 "metadata": {
  "kernelspec": {
   "display_name": "Python 3",
   "language": "python",
   "name": "python3"
  },
  "language_info": {
   "codemirror_mode": {
    "name": "ipython",
    "version": 3
   },
   "file_extension": ".py",
   "mimetype": "text/x-python",
   "name": "python",
   "nbconvert_exporter": "python",
   "pygments_lexer": "ipython3",
   "version": "3.6.5"
  }
 },
 "nbformat": 4,
 "nbformat_minor": 2
}
