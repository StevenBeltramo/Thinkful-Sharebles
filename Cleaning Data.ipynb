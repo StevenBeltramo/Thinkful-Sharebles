{
 "cells": [
  {
   "cell_type": "code",
   "execution_count": 79,
   "metadata": {},
   "outputs": [],
   "source": [
    "import numpy as np\n",
    "import pandas as pd\n",
    "import scipy\n",
    "import matplotlib.pyplot as plt\n",
    "import matplotlib\n",
    "import re\n",
    "import collections\n",
    "import statistics"
   ]
  },
  {
   "cell_type": "code",
   "execution_count": 80,
   "metadata": {},
   "outputs": [],
   "source": [
    "#df = pd.read_csv('C:\\\\Users\\\\STEVEN\\\\Documents\\\\Thinkful\\\\Files\\\\Journal\\\\APC_data.csv', encoding='utf-16',skiprows=5)\n",
    "#pd.read_csv('C:\\\\Users\\\\STEVEN\\\\Documents\\\\Thinkful\\\\Files\\\\Journal\\\\APC_data.csv',sep=u'\\t'.encode('utf-16le'), skiprows=5, encoding='utf-16le')\n",
    "#df=pd.read_csv('C:\\\\Users\\\\STEVEN\\\\Documents\\\\Thinkful\\\\Files\\\\Journal\\\\APC_data.csv',sep=u'\\t'.encode('utf-16'),encoding='utf-16')\n",
    "df = pd.read_csv('C:\\\\Users\\\\STEVEN\\\\Documents\\\\Thinkful\\\\Files\\\\Journal\\\\APC_data.csv', encoding = \"ISO-8859-1\")"
   ]
  },
  {
   "cell_type": "code",
   "execution_count": 81,
   "metadata": {},
   "outputs": [
    {
     "name": "stdout",
     "output_type": "stream",
     "text": [
      "(2127, 5)\n",
      "PMID/PMCID                                                                                           NaN\n",
      "Publisher                                                                                            CUP\n",
      "Journal title                                                                     Psychological Medicine\n",
      "Article title                                          Reduced parahippocampal cortical thickness in ...\n",
      "COST (£) charged to Wellcome (inc VAT when charged)                                                £0.00\n",
      "Name: 0, dtype: object\n",
      "0                                  Psychological Medicine\n",
      "1                                       Biomacromolecules\n",
      "2                                              J Med Chem\n",
      "3                                              J Med Chem\n",
      "4                                              J Org Chem\n",
      "5                          Journal of Medicinal Chemistry\n",
      "6                            Journal of Proteome Research\n",
      "7                                               Mol Pharm\n",
      "8                                    ACS Chemical Biology\n",
      "9                                    ACS Chemical Biology\n",
      "10           Journal of Chemical Information and Modeling\n",
      "11                         Journal of Medicinal Chemistry\n",
      "12                         Journal of Medicinal Chemistry\n",
      "13                                           Biochemistry\n",
      "14                         Journal of Medicinal Chemistry\n",
      "15                                       Gastroenterology\n",
      "16                        Journal of Biological Chemistry\n",
      "17                                  Journal of Immunology\n",
      "18                                  Journal of Immunology\n",
      "19                                   ACS Chemical Biology\n",
      "20                                   ACS Chemical Biology\n",
      "21                                   ACS Chemical Biology\n",
      "22                              ACS Chemical Neuroscience\n",
      "23                                               ACS NANO\n",
      "24                              American Chemical Society\n",
      "25                                   Analytical Chemistry\n",
      "26                                   Analytical Chemistry\n",
      "27                                   Analytical Chemistry\n",
      "28                                 Bioconjugate Chemistry\n",
      "29                         Journal of Medicinal Chemistry\n",
      "                              ...                        \n",
      "2097                               Molecular Microbiology\n",
      "2098                                      Obesity Reviews\n",
      "2099                                      Obesity Reviews\n",
      "2100                               Statistics in Medicine\n",
      "2101                                           Stem Cells\n",
      "2102                                              Synapse\n",
      "2103                 The European Journal of Neuroscience\n",
      "2104                                              Traffic\n",
      "2105                                              Traffic\n",
      "2106                           Zoonoses and Public Health\n",
      "2107                  American Journal of Transplantation\n",
      "2108                                   Angew chems Int Ed\n",
      "2109                                          CHEMBIOCHEM\n",
      "2110                                          Chemmedchem\n",
      "2111                                          Chemmedchem\n",
      "2112                                          ChemMedChem\n",
      "2113                                            Protemics\n",
      "2114                     Journal of Small Animal Practice\n",
      "2115                                                 AIDS\n",
      "2116                                         AIDS Journal\n",
      "2117                                              AIDS UK\n",
      "2118                                              AIDS UK\n",
      "2119    JAIDS Journal of Acquired Immune Deficiency Sy...\n",
      "2120    Journal of Acquired Immune Deficiency Syndroms...\n",
      "2121                                      Journal of Aids\n",
      "2122                                 Circulation Research\n",
      "2123                                                 AIDS\n",
      "2124                                 Pediatr Infect Dis J\n",
      "2125                                                 AIDS\n",
      "2126      Journal of Acquired Immune Deficiency Syndromes\n",
      "Name: Journal title, Length: 2127, dtype: object\n"
     ]
    }
   ],
   "source": [
    "print(df.shape)\n",
    "print(df.loc[0,:])\n",
    "print(df['Journal title'])"
   ]
  },
  {
   "cell_type": "code",
   "execution_count": 82,
   "metadata": {},
   "outputs": [
    {
     "name": "stdout",
     "output_type": "stream",
     "text": [
      "Index(['PMID/PMCID', 'Publisher', 'Journal title', 'Article title',\n",
      "       'COST (£) charged to Wellcome (inc VAT when charged)'],\n",
      "      dtype='object')\n",
      "PMID/PMCID                                                                                   NaN\n",
      "Publisher                                                                                    CUP\n",
      "Journaltitle                                                              Psychological Medicine\n",
      "Articletitle                                   Reduced parahippocampal cortical thickness in ...\n",
      "COST(£)chargedtoWellcome(incVATwhencharged)                                                £0.00\n",
      "Name: 0, dtype: object\n"
     ]
    }
   ],
   "source": [
    "#five most common journals and the total articles for each. Next, calculate the mean, median, and\n",
    "#standard deviation of the open-access cost per article for each journal\n",
    "#print(df['journal_title'].head())\n",
    "print(df.columns)\n",
    "#grouping column names together for easier calling\n",
    "df.columns = df.columns.str.replace(' ', '')\n",
    "print(df.loc[0,:])"
   ]
  },
  {
   "cell_type": "code",
   "execution_count": 83,
   "metadata": {},
   "outputs": [
    {
     "name": "stdout",
     "output_type": "stream",
     "text": [
      "PLOS Journal Standard Name: 298\n",
      "ACS Journal Standard Name: 161\n",
      "BMC Journal Standard Name: 65\n",
      "International Journal Standard Name: 53\n",
      "Journal of Biological Chemistry: 48\n"
     ]
    }
   ],
   "source": [
    "#convert journaltitle to strings\n",
    "df['Journaltitle'] = df.Journaltitle.astype(str)\n",
    "#print(df['Journaltitle'])\n",
    "#create list of journal titles:\n",
    "titles = df['Journaltitle']\n",
    "#print(titles)\n",
    "\n",
    "result = ['ACS Journal Standard Name' if len(re.findall(r'ACS*', name, flags=re.IGNORECASE))>0 else name for name in titles]\n",
    "result = ['BMC Journal Standard Name' if len(re.findall(r'BMC*', name, flags=re.IGNORECASE))>0 else name for name in result]\n",
    "result = ['AIDS Journal Standard Name' if len(re.findall(r'AIDS*', name, flags=re.IGNORECASE))>0 else name for name in result]\n",
    "result = ['Acta Journal Standard Name' if len(re.findall(r'Acta*', name, flags=re.IGNORECASE))>0 else name for name in result]\n",
    "result = ['International Journal Standard Name' if len(re.findall(r'International*', name, flags=re.IGNORECASE))>0 else name for name in result]\n",
    "result = ['Royal Society Journal Standard Name' if len(re.findall(r'Royal Society*', name, flags=re.IGNORECASE))>0 else name for name in result]\n",
    "result = ['Neuroimage Journal Standard Name' if len(re.findall(r'Neuroimage*', name, flags=re.IGNORECASE))>0 else name for name in result]\n",
    "result = ['American Journal Standard Name' if len(re.findall(r'American*', name, flags=re.IGNORECASE))>0 else name for name in result]\n",
    "result = ['PLOS Journal Standard Name' if len(re.findall(r'PLOS*', name, flags=re.IGNORECASE))>0 else name for name in result]\n",
    "#print(result)\n",
    "#ASC = df.Journaltitle.apply(lambda x: re.findall('ASC*', x))\n",
    "#print(ASC)\n",
    "my_dict = {i:result.count(i) for i in result}\n",
    "#creating my top 5\n",
    "def keyfunction(k):\n",
    "    return my_dict[k]\n",
    "\n",
    "# sort by dictionary by the values and print top 5 {key, value} pairs\n",
    "for key in sorted(my_dict, key=keyfunction, reverse=True)[:5]:\n",
    "    print(\"%s: %i\" % (key, my_dict[key]))\n",
    "#top_5 = my_dict.most_common(5)\n",
    "#print(my_dict)\n",
    "#sort_dict = sorted(my_dict)\n",
    "#print(sort_dict)"
   ]
  },
  {
   "cell_type": "code",
   "execution_count": 84,
   "metadata": {},
   "outputs": [],
   "source": [
    "#let's isolate the cost as a seperate list\n",
    "costs = df['COST(£)chargedtoWellcome(incVATwhencharged)']\n",
    "costs = costs.astype(str)"
   ]
  },
  {
   "cell_type": "code",
   "execution_count": 85,
   "metadata": {},
   "outputs": [],
   "source": [
    "#print(costs)\n",
    "#We want to remove the currency sign from the front of the costs and then\n",
    "#turn them into floats\n",
    "cost = []\n",
    "cleaner_cost = []\n",
    "for t in costs: \n",
    "    clean_cost = t.replace('£','')\n",
    "    cost.append(clean_cost)\n",
    "for t in cost: \n",
    "    clean_cost = t.replace('$','')\n",
    "    cleaner_cost.append(clean_cost)\n",
    "\n",
    "    \n",
    "    "
   ]
  },
  {
   "cell_type": "code",
   "execution_count": 86,
   "metadata": {},
   "outputs": [],
   "source": [
    "#print(cost)\n",
    "#we are now seeing our data set somewhat clean:  \n",
    "#we can assume that \"999999.00 is most likely where no one put any thing in\"\n",
    "\n",
    "cleaner_cost = [x for x in cleaner_cost if x != '999999.00']"
   ]
  },
  {
   "cell_type": "code",
   "execution_count": 87,
   "metadata": {},
   "outputs": [],
   "source": [
    "#now to turn it into a float\n",
    "float_list = []\n",
    "for x in cleaner_cost:\n",
    "    float_list.append(float(x))\n",
    "#print(float_list)"
   ]
  },
  {
   "cell_type": "code",
   "execution_count": 92,
   "metadata": {},
   "outputs": [
    {
     "name": "stdout",
     "output_type": "stream",
     "text": [
      "                   0\n",
      "count    2080.000000\n",
      "mean     2015.038038\n",
      "std      6100.422956\n",
      "min         0.000000\n",
      "25%      1268.700000\n",
      "50%      1852.505000\n",
      "75%      2302.930000\n",
      "max    201024.000000\n",
      "\n",
      "\n",
      "Median: 1852.505\n"
     ]
    }
   ],
   "source": [
    "#It's done yay let's toss it in a new data frame and have fun with our new data\n",
    "cleaned_costs = pd.DataFrame(float_list)\n",
    "print(cleaned_costs.describe())\n",
    "print('\\n')\n",
    "print(\"Median: {}\".format(statistics.median(float_list)))"
   ]
  },
  {
   "cell_type": "code",
   "execution_count": 73,
   "metadata": {},
   "outputs": [],
   "source": []
  },
  {
   "cell_type": "code",
   "execution_count": 74,
   "metadata": {},
   "outputs": [
    {
     "data": {
      "text/html": [
       "<div>\n",
       "<style scoped>\n",
       "    .dataframe tbody tr th:only-of-type {\n",
       "        vertical-align: middle;\n",
       "    }\n",
       "\n",
       "    .dataframe tbody tr th {\n",
       "        vertical-align: top;\n",
       "    }\n",
       "\n",
       "    .dataframe thead th {\n",
       "        text-align: right;\n",
       "    }\n",
       "</style>\n",
       "<table border=\"1\" class=\"dataframe\">\n",
       "  <thead>\n",
       "    <tr style=\"text-align: right;\">\n",
       "      <th></th>\n",
       "      <th>0</th>\n",
       "    </tr>\n",
       "  </thead>\n",
       "  <tbody>\n",
       "    <tr>\n",
       "      <th>count</th>\n",
       "      <td>2080.000000</td>\n",
       "    </tr>\n",
       "    <tr>\n",
       "      <th>mean</th>\n",
       "      <td>2015.038038</td>\n",
       "    </tr>\n",
       "    <tr>\n",
       "      <th>std</th>\n",
       "      <td>6100.422956</td>\n",
       "    </tr>\n",
       "    <tr>\n",
       "      <th>min</th>\n",
       "      <td>0.000000</td>\n",
       "    </tr>\n",
       "    <tr>\n",
       "      <th>25%</th>\n",
       "      <td>1268.700000</td>\n",
       "    </tr>\n",
       "    <tr>\n",
       "      <th>50%</th>\n",
       "      <td>1852.505000</td>\n",
       "    </tr>\n",
       "    <tr>\n",
       "      <th>75%</th>\n",
       "      <td>2302.930000</td>\n",
       "    </tr>\n",
       "    <tr>\n",
       "      <th>max</th>\n",
       "      <td>201024.000000</td>\n",
       "    </tr>\n",
       "  </tbody>\n",
       "</table>\n",
       "</div>"
      ],
      "text/plain": [
       "                   0\n",
       "count    2080.000000\n",
       "mean     2015.038038\n",
       "std      6100.422956\n",
       "min         0.000000\n",
       "25%      1268.700000\n",
       "50%      1852.505000\n",
       "75%      2302.930000\n",
       "max    201024.000000"
      ]
     },
     "execution_count": 74,
     "metadata": {},
     "output_type": "execute_result"
    }
   ],
   "source": []
  },
  {
   "cell_type": "code",
   "execution_count": null,
   "metadata": {},
   "outputs": [],
   "source": []
  }
 ],
 "metadata": {
  "kernelspec": {
   "display_name": "Python 3",
   "language": "python",
   "name": "python3"
  },
  "language_info": {
   "codemirror_mode": {
    "name": "ipython",
    "version": 3
   },
   "file_extension": ".py",
   "mimetype": "text/x-python",
   "name": "python",
   "nbconvert_exporter": "python",
   "pygments_lexer": "ipython3",
   "version": "3.6.5"
  }
 },
 "nbformat": 4,
 "nbformat_minor": 2
}
