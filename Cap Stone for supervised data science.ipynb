{
 "cells": [
  {
   "cell_type": "code",
   "execution_count": 2,
   "metadata": {},
   "outputs": [],
   "source": [
    "import numpy as np\n",
    "import pandas as pd\n",
    "import matplotlib.pyplot as plt\n",
    "import seaborn as sns\n",
    "from scipy.stats import norm\n",
    "from sklearn.preprocessing import StandardScaler\n",
    "from scipy import stats\n",
    "import warnings\n",
    "from sklearn.linear_model import LinearRegression, Lasso, Ridge, ElasticNet\n",
    "from scipy.stats import skew\n",
    "from math import sqrt\n",
    "\n",
    "warnings.filterwarnings('ignore')\n",
    "%matplotlib inline\n",
    "pd.set_option('display.max_columns', 300)"
   ]
  },
  {
   "cell_type": "code",
   "execution_count": 3,
   "metadata": {},
   "outputs": [],
   "source": [
    "violations = pd.read_csv(r'C:\\Users\\STEVEN\\Documents\\Thinkful\\Files\\Capstone\\restaurant_health_violations.csv')\n",
    "scores = pd.read_csv(r'C:\\Users\\STEVEN\\Documents\\Thinkful\\Files\\Capstone\\restaurant_health_inspections.csv')"
   ]
  },
  {
   "cell_type": "markdown",
   "metadata": {},
   "source": [
    "First lets investigate the violations data base"
   ]
  },
  {
   "cell_type": "code",
   "execution_count": 26,
   "metadata": {},
   "outputs": [
    {
     "name": "stdout",
     "output_type": "stream",
     "text": [
      "  serial_number        activity_date facility_name violation_code  \\\n",
      "0     DA08R0TCU  2018-03-30T00:00:00   KRUANG TEDD           F030   \n",
      "\n",
      "                               violation_description   violation_status  \\\n",
      "0  # 30. Food properly stored; food storage conta...  OUT OF COMPLIANCE   \n",
      "\n",
      "   points grade     facility_address facility_city facility_id facility_state  \\\n",
      "0       1     A  5151 HOLLYWOOD BLVD   LOS ANGELES   FA0064949             CA   \n",
      "\n",
      "  facility_zip employee_id   owner_id          owner_name  \\\n",
      "0        90027   EE0000857  OW0001034  5151 HOLLYWOOD LLC   \n",
      "\n",
      "                       pe_description  program_element_pe program_name  \\\n",
      "0  RESTAURANT (31-60) SEATS HIGH RISK                1635  KRUANG TEDD   \n",
      "\n",
      "  program_status  record_id  score  service_code service_description  \\\n",
      "0         ACTIVE  PR0031205     92             1  ROUTINE INSPECTION   \n",
      "\n",
      "          row_id  \n",
      "0  DA08R0TCUF030  \n",
      "serial_number            object\n",
      "activity_date            object\n",
      "facility_name            object\n",
      "violation_code           object\n",
      "violation_description    object\n",
      "violation_status         object\n",
      "points                    int64\n",
      "grade                    object\n",
      "facility_address         object\n",
      "facility_city            object\n",
      "facility_id              object\n",
      "facility_state           object\n",
      "facility_zip             object\n",
      "employee_id              object\n",
      "owner_id                 object\n",
      "owner_name               object\n",
      "pe_description           object\n",
      "program_element_pe        int64\n",
      "program_name             object\n",
      "program_status           object\n",
      "record_id                object\n",
      "score                     int64\n",
      "service_code              int64\n",
      "service_description      object\n",
      "row_id                   object\n",
      "dtype: object\n",
      "(272801, 25)\n"
     ]
    }
   ],
   "source": [
    "print(violations.head(1))\n",
    "print(violations.dtypes)\n",
    "print(violations.shape)"
   ]
  },
  {
   "cell_type": "markdown",
   "metadata": {},
   "source": [
    "Now let's take a look at our Scores database"
   ]
  },
  {
   "cell_type": "code",
   "execution_count": 27,
   "metadata": {},
   "outputs": [
    {
     "name": "stdout",
     "output_type": "stream",
     "text": [
      "  serial_number        activity_date        facility_name  score grade  \\\n",
      "0     DAJ00E07B  2017-12-29T00:00:00  HABITAT COFFEE SHOP     95     A   \n",
      "\n",
      "   service_code service_description employee_id        facility_address  \\\n",
      "0             1  ROUTINE INSPECTION   EE0000923  3708 N EAGLE ROCK BLVD   \n",
      "\n",
      "  facility_city facility_id facility_state facility_zip   owner_id  \\\n",
      "0   LOS ANGELES   FA0170465             CA        90065  OW0178123   \n",
      "\n",
      "                 owner_name                         pe_description  \\\n",
      "0  GLASSELL COFFEE SHOP LLC  RESTAURANT (0-30) SEATS MODERATE RISK   \n",
      "\n",
      "   program_element_pe         program_name program_status  record_id  \n",
      "0                1631  HABITAT COFFEE SHOP         ACTIVE  PR0160774  \n",
      "serial_number          object\n",
      "activity_date          object\n",
      "facility_name          object\n",
      "score                   int64\n",
      "grade                  object\n",
      "service_code            int64\n",
      "service_description    object\n",
      "employee_id            object\n",
      "facility_address       object\n",
      "facility_city          object\n",
      "facility_id            object\n",
      "facility_state         object\n",
      "facility_zip           object\n",
      "owner_id               object\n",
      "owner_name             object\n",
      "pe_description         object\n",
      "program_element_pe      int64\n",
      "program_name           object\n",
      "program_status         object\n",
      "record_id              object\n",
      "dtype: object\n",
      "(58872, 20)\n"
     ]
    }
   ],
   "source": [
    "print(scores.head(1))\n",
    "print(scores.dtypes)\n",
    "print(scores.shape)"
   ]
  },
  {
   "cell_type": "markdown",
   "metadata": {},
   "source": [
    "As we can see there are many shared attributes in these two dataframes and we will be using this fact to better account and analyze our data"
   ]
  },
  {
   "cell_type": "markdown",
   "metadata": {},
   "source": [
    "First let's take a look and see how easily we can look up certain restaurants"
   ]
  },
  {
   "cell_type": "code",
   "execution_count": 28,
   "metadata": {},
   "outputs": [],
   "source": [
    "reilly = violations[violations['facility_name'] == 'REILLY\\'S']"
   ]
  },
  {
   "cell_type": "code",
   "execution_count": 29,
   "metadata": {},
   "outputs": [
    {
     "name": "stdout",
     "output_type": "stream",
     "text": [
      "       serial_number        activity_date facility_name violation_code  \\\n",
      "24668      DAQOKRFZB  2017-12-29T00:00:00      REILLY'S           F033   \n",
      "24669      DAQOKRFZB  2017-12-29T00:00:00      REILLY'S           F044   \n",
      "24670      DAQOKRFZB  2017-12-29T00:00:00      REILLY'S           F040   \n",
      "24671      DAQOKRFZB  2017-12-29T00:00:00      REILLY'S           F007   \n",
      "24672      DAQOKRFZB  2017-12-29T00:00:00      REILLY'S           F049   \n",
      "24673      DAQOKRFZB  2017-12-29T00:00:00      REILLY'S           F035   \n",
      "55247      DA1ELBR43  2017-09-08T00:00:00      REILLY'S           F033   \n",
      "55248      DA1ELBR43  2017-09-08T00:00:00      REILLY'S           F044   \n",
      "55249      DA1ELBR43  2017-09-08T00:00:00      REILLY'S           F036   \n",
      "103037     DA6TSAAKB  2017-03-24T00:00:00      REILLY'S           F033   \n",
      "103038     DA6TSAAKB  2017-03-24T00:00:00      REILLY'S           F007   \n",
      "103039     DA6TSAAKB  2017-03-24T00:00:00      REILLY'S           F049   \n",
      "103040     DA6TSAAKB  2017-03-24T00:00:00      REILLY'S           F035   \n",
      "103041     DA6TSAAKB  2017-03-24T00:00:00      REILLY'S           F009   \n",
      "103042     DA6TSAAKB  2017-03-24T00:00:00      REILLY'S           F006   \n",
      "\n",
      "                                    violation_description   violation_status  \\\n",
      "24668   # 33. Nonfood-contact surfaces clean and in go...  OUT OF COMPLIANCE   \n",
      "24669   # 44. Floors, walls and ceilings: properly bui...  OUT OF COMPLIANCE   \n",
      "24670   # 40. Plumbing: Plumbing in good repair, prope...  OUT OF COMPLIANCE   \n",
      "24671      # 07. Proper hot and cold holding temperatures  OUT OF COMPLIANCE   \n",
      "24672   # 50. Impoundment of unsanitary equipment or food  OUT OF COMPLIANCE   \n",
      "24673   # 35. Equipment/Utensils - approved; installed...  OUT OF COMPLIANCE   \n",
      "55247   # 33. Nonfood-contact surfaces clean and in go...  OUT OF COMPLIANCE   \n",
      "55248   # 44. Floors, walls and ceilings: properly bui...  OUT OF COMPLIANCE   \n",
      "55249   # 36. Equipment, utensils and linens: storage ...  OUT OF COMPLIANCE   \n",
      "103037  # 33. Nonfood-contact surfaces clean and in go...  OUT OF COMPLIANCE   \n",
      "103038     # 07. Proper hot and cold holding temperatures  OUT OF COMPLIANCE   \n",
      "103039  # 50. Impoundment of unsanitary equipment or food  OUT OF COMPLIANCE   \n",
      "103040  # 35. Equipment/Utensils - approved; installed...  OUT OF COMPLIANCE   \n",
      "103041                       # 09. Proper cooling methods  OUT OF COMPLIANCE   \n",
      "103042  # 06. Adequate handwashing facilities supplied...  OUT OF COMPLIANCE   \n",
      "\n",
      "        points grade     facility_address facility_city facility_id  \\\n",
      "24668        1     A  100 WORLD WAY # 120   LOS ANGELES   FA0244690   \n",
      "24669        1     A  100 WORLD WAY # 120   LOS ANGELES   FA0244690   \n",
      "24670        1     A  100 WORLD WAY # 120   LOS ANGELES   FA0244690   \n",
      "24671        4     A  100 WORLD WAY # 120   LOS ANGELES   FA0244690   \n",
      "24672        0     A  100 WORLD WAY # 120   LOS ANGELES   FA0244690   \n",
      "24673        1     A  100 WORLD WAY # 120   LOS ANGELES   FA0244690   \n",
      "55247        1     A  100 WORLD WAY # 120   LOS ANGELES   FA0244690   \n",
      "55248        1     A  100 WORLD WAY # 120   LOS ANGELES   FA0244690   \n",
      "55249        1     A  100 WORLD WAY # 120   LOS ANGELES   FA0244690   \n",
      "103037       1     A  100 WORLD WAY # 120   LOS ANGELES   FA0244690   \n",
      "103038       4     A  100 WORLD WAY # 120   LOS ANGELES   FA0244690   \n",
      "103039       0     A  100 WORLD WAY # 120   LOS ANGELES   FA0244690   \n",
      "103040       1     A  100 WORLD WAY # 120   LOS ANGELES   FA0244690   \n",
      "103041       2     A  100 WORLD WAY # 120   LOS ANGELES   FA0244690   \n",
      "103042       2     A  100 WORLD WAY # 120   LOS ANGELES   FA0244690   \n",
      "\n",
      "       facility_state facility_zip employee_id   owner_id  \\\n",
      "24668              CA        90045   EE0000633  OW0208441   \n",
      "24669              CA        90045   EE0000633  OW0208441   \n",
      "24670              CA        90045   EE0000633  OW0208441   \n",
      "24671              CA        90045   EE0000633  OW0208441   \n",
      "24672              CA        90045   EE0000633  OW0208441   \n",
      "24673              CA        90045   EE0000633  OW0208441   \n",
      "55247              CA        90045   EE0000633  OW0208441   \n",
      "55248              CA        90045   EE0000633  OW0208441   \n",
      "55249              CA        90045   EE0000633  OW0208441   \n",
      "103037             CA        90045   EE0000633  OW0208441   \n",
      "103038             CA        90045   EE0000633  OW0208441   \n",
      "103039             CA        90045   EE0000633  OW0208441   \n",
      "103040             CA        90045   EE0000633  OW0208441   \n",
      "103041             CA        90045   EE0000633  OW0208441   \n",
      "103042             CA        90045   EE0000633  OW0208441   \n",
      "\n",
      "                       owner_name                         pe_description  \\\n",
      "24668   AREAS SKYVIEW LAX JV, LLC  RESTAURANT (0-30) SEATS MODERATE RISK   \n",
      "24669   AREAS SKYVIEW LAX JV, LLC  RESTAURANT (0-30) SEATS MODERATE RISK   \n",
      "24670   AREAS SKYVIEW LAX JV, LLC  RESTAURANT (0-30) SEATS MODERATE RISK   \n",
      "24671   AREAS SKYVIEW LAX JV, LLC  RESTAURANT (0-30) SEATS MODERATE RISK   \n",
      "24672   AREAS SKYVIEW LAX JV, LLC  RESTAURANT (0-30) SEATS MODERATE RISK   \n",
      "24673   AREAS SKYVIEW LAX JV, LLC  RESTAURANT (0-30) SEATS MODERATE RISK   \n",
      "55247   AREAS SKYVIEW LAX JV, LLC  RESTAURANT (0-30) SEATS MODERATE RISK   \n",
      "55248   AREAS SKYVIEW LAX JV, LLC  RESTAURANT (0-30) SEATS MODERATE RISK   \n",
      "55249   AREAS SKYVIEW LAX JV, LLC  RESTAURANT (0-30) SEATS MODERATE RISK   \n",
      "103037  AREAS SKYVIEW LAX JV, LLC  RESTAURANT (0-30) SEATS MODERATE RISK   \n",
      "103038  AREAS SKYVIEW LAX JV, LLC  RESTAURANT (0-30) SEATS MODERATE RISK   \n",
      "103039  AREAS SKYVIEW LAX JV, LLC  RESTAURANT (0-30) SEATS MODERATE RISK   \n",
      "103040  AREAS SKYVIEW LAX JV, LLC  RESTAURANT (0-30) SEATS MODERATE RISK   \n",
      "103041  AREAS SKYVIEW LAX JV, LLC  RESTAURANT (0-30) SEATS MODERATE RISK   \n",
      "103042  AREAS SKYVIEW LAX JV, LLC  RESTAURANT (0-30) SEATS MODERATE RISK   \n",
      "\n",
      "        program_element_pe program_name program_status  record_id  score  \\\n",
      "24668                 1631     REILLY'S         ACTIVE  PR0193026     92   \n",
      "24669                 1631     REILLY'S         ACTIVE  PR0193026     92   \n",
      "24670                 1631     REILLY'S         ACTIVE  PR0193026     92   \n",
      "24671                 1631     REILLY'S         ACTIVE  PR0193026     92   \n",
      "24672                 1631     REILLY'S         ACTIVE  PR0193026     92   \n",
      "24673                 1631     REILLY'S         ACTIVE  PR0193026     92   \n",
      "55247                 1631     REILLY'S         ACTIVE  PR0193026     97   \n",
      "55248                 1631     REILLY'S         ACTIVE  PR0193026     97   \n",
      "55249                 1631     REILLY'S         ACTIVE  PR0193026     97   \n",
      "103037                1631     REILLY'S         ACTIVE  PR0193026     90   \n",
      "103038                1631     REILLY'S         ACTIVE  PR0193026     90   \n",
      "103039                1631     REILLY'S         ACTIVE  PR0193026     90   \n",
      "103040                1631     REILLY'S         ACTIVE  PR0193026     90   \n",
      "103041                1631     REILLY'S         ACTIVE  PR0193026     90   \n",
      "103042                1631     REILLY'S         ACTIVE  PR0193026     90   \n",
      "\n",
      "        service_code service_description         row_id  \n",
      "24668              1  ROUTINE INSPECTION  DAQOKRFZBF033  \n",
      "24669              1  ROUTINE INSPECTION  DAQOKRFZBF044  \n",
      "24670              1  ROUTINE INSPECTION  DAQOKRFZBF040  \n",
      "24671              1  ROUTINE INSPECTION  DAQOKRFZBF007  \n",
      "24672              1  ROUTINE INSPECTION  DAQOKRFZBF049  \n",
      "24673              1  ROUTINE INSPECTION  DAQOKRFZBF035  \n",
      "55247              1  ROUTINE INSPECTION  DA1ELBR43F033  \n",
      "55248              1  ROUTINE INSPECTION  DA1ELBR43F044  \n",
      "55249              1  ROUTINE INSPECTION  DA1ELBR43F036  \n",
      "103037             1  ROUTINE INSPECTION  DA6TSAAKBF033  \n",
      "103038             1  ROUTINE INSPECTION  DA6TSAAKBF007  \n",
      "103039             1  ROUTINE INSPECTION  DA6TSAAKBF049  \n",
      "103040             1  ROUTINE INSPECTION  DA6TSAAKBF035  \n",
      "103041             1  ROUTINE INSPECTION  DA6TSAAKBF009  \n",
      "103042             1  ROUTINE INSPECTION  DA6TSAAKBF006  \n"
     ]
    }
   ],
   "source": [
    "print(reilly)"
   ]
  },
  {
   "cell_type": "code",
   "execution_count": 30,
   "metadata": {},
   "outputs": [
    {
     "name": "stdout",
     "output_type": "stream",
     "text": [
      "serial_number          58872\n",
      "activity_date            767\n",
      "facility_name          11681\n",
      "score                     36\n",
      "grade                      4\n",
      "service_code               2\n",
      "service_description        2\n",
      "employee_id              129\n",
      "facility_address       11537\n",
      "facility_city              1\n",
      "facility_id            13093\n",
      "facility_state             1\n",
      "facility_zip             952\n",
      "owner_id               11389\n",
      "owner_name             11165\n",
      "pe_description            18\n",
      "program_element_pe        18\n",
      "program_name           12446\n",
      "program_status             2\n",
      "record_id              14066\n",
      "dtype: int64\n"
     ]
    }
   ],
   "source": [
    "#Let's explore how many unique entries there are in each different group\n",
    "\n",
    "print(scores.nunique())"
   ]
  },
  {
   "cell_type": "markdown",
   "metadata": {},
   "source": [
    "When looking at the data columns side by side it appears that there is not much use for the two different data sets and that just using the score data set will be perfectly functional.  "
   ]
  },
  {
   "cell_type": "code",
   "execution_count": 1,
   "metadata": {},
   "outputs": [
    {
     "ename": "NameError",
     "evalue": "name 'scores' is not defined",
     "output_type": "error",
     "traceback": [
      "\u001b[1;31m---------------------------------------------------------------------------\u001b[0m",
      "\u001b[1;31mNameError\u001b[0m                                 Traceback (most recent call last)",
      "\u001b[1;32m<ipython-input-1-e6a58004ebe0>\u001b[0m in \u001b[0;36m<module>\u001b[1;34m()\u001b[0m\n\u001b[1;32m----> 1\u001b[1;33m \u001b[0mprint\u001b[0m\u001b[1;33m(\u001b[0m\u001b[0mscores\u001b[0m\u001b[1;33m.\u001b[0m\u001b[0memployee_id\u001b[0m\u001b[1;33m)\u001b[0m\u001b[1;33m\u001b[0m\u001b[0m\n\u001b[0m",
      "\u001b[1;31mNameError\u001b[0m: name 'scores' is not defined"
     ]
    }
   ],
   "source": [
    "print(scores.employee_id)"
   ]
  },
  {
   "cell_type": "code",
   "execution_count": 31,
   "metadata": {},
   "outputs": [],
   "source": [
    "#Let's investigate the differences between the 2 different types of services and see if they are significant\n",
    "\n",
    "scores[scores['service_description'] == 'OWNER INITIATED ROUTINE INSPECT.'].mean()\n",
    "#Isolate the scores seperated based on owner vs. routine inspections.  \n",
    "owner_initiated = scores[scores['service_description'] == 'OWNER INITIATED ROUTINE INSPECT.']\n",
    "routine_inspection = scores[scores['service_description']== 'ROUTINE INSPECTION']"
   ]
  },
  {
   "cell_type": "code",
   "execution_count": 32,
   "metadata": {
    "scrolled": true
   },
   "outputs": [
    {
     "name": "stdout",
     "output_type": "stream",
     "text": [
      "93.31721981306474\n",
      "92.76488395560041\n"
     ]
    }
   ],
   "source": [
    "# now lets compare the two means of the different scores\n",
    "\n",
    "print(scores[scores['service_description'] == 'ROUTINE INSPECTION'].score.mean())\n",
    "print(scores[scores['service_description'] == 'OWNER INITIATED ROUTINE INSPECT.'].score.mean())"
   ]
  },
  {
   "cell_type": "code",
   "execution_count": 33,
   "metadata": {},
   "outputs": [
    {
     "data": {
      "text/plain": [
       "Ttest_indResult(statistic=-4.314354358218672, pvalue=1.603305255449405e-05)"
      ]
     },
     "execution_count": 33,
     "metadata": {},
     "output_type": "execute_result"
    }
   ],
   "source": [
    "#print(owner_initiated)\n",
    "#now let's test it and make sure that the scores are significantly different and we can use them in our model\n",
    "stats.ttest_ind(owner_initiated['score'], routine_inspection['score'])"
   ]
  },
  {
   "cell_type": "code",
   "execution_count": 34,
   "metadata": {},
   "outputs": [
    {
     "data": {
      "text/plain": [
       "array(['OW0031567', 'OW0029295', 'OW0031565', 'OW0031578', 'OW0031540',\n",
       "       'OW0031573', 'OW0031558'], dtype=object)"
      ]
     },
     "execution_count": 34,
     "metadata": {},
     "output_type": "execute_result"
    }
   ],
   "source": [
    "#Now let's take a look at the differences between owner id and owner name\n",
    "unique_owner = scores.groupby('owner_name').nunique()\n",
    "\n",
    "unique_unique = unique_owner['owner_id']\n",
    "#print(unique_unique.loc[unique_unique > 1].value_counts())\n",
    "#print(unique_unique.loc[unique_unique > 6])\n",
    "unique = scores[scores['owner_name'] == 'R & B SANCHEZ DBA MCDONALD\\'S']\n",
    "unique.owner_id.unique()"
   ]
  },
  {
   "cell_type": "code",
   "execution_count": 35,
   "metadata": {},
   "outputs": [
    {
     "name": "stdout",
     "output_type": "stream",
     "text": [
      "0          5\n",
      "1         16\n",
      "2          3\n",
      "3          2\n",
      "4          6\n",
      "5          1\n",
      "6          3\n",
      "7          1\n",
      "8          3\n",
      "9          1\n",
      "10        16\n",
      "11         2\n",
      "12         2\n",
      "13         5\n",
      "14         8\n",
      "15       151\n",
      "16         6\n",
      "17         5\n",
      "18         4\n",
      "19         5\n",
      "20         3\n",
      "21         7\n",
      "22         4\n",
      "23         4\n",
      "24         8\n",
      "25         4\n",
      "26         8\n",
      "27         1\n",
      "28        12\n",
      "29         3\n",
      "        ... \n",
      "58842      4\n",
      "58843      9\n",
      "58844      8\n",
      "58845     14\n",
      "58846      8\n",
      "58847      7\n",
      "58848      9\n",
      "58849     15\n",
      "58850      9\n",
      "58851      9\n",
      "58852      8\n",
      "58853      7\n",
      "58854     11\n",
      "58855      8\n",
      "58856      7\n",
      "58857      8\n",
      "58858      7\n",
      "58859      8\n",
      "58860      9\n",
      "58861      8\n",
      "58862      6\n",
      "58863      9\n",
      "58864    167\n",
      "58865      2\n",
      "58866      7\n",
      "58867      8\n",
      "58868      8\n",
      "58869      8\n",
      "58870      4\n",
      "58871      4\n",
      "Name: freq, Length: 58872, dtype: int64\n"
     ]
    }
   ],
   "source": [
    "#Now let's take this and convert it into a useable form for our algorithim. \n",
    "#We will convert the amount of times the owner id appears in the data to another column.  \n",
    "scores['freq'] = scores.groupby('owner_id')['owner_id'].transform('count')\n",
    "print(scores['freq'])"
   ]
  },
  {
   "cell_type": "code",
   "execution_count": 36,
   "metadata": {},
   "outputs": [
    {
     "data": {
      "text/plain": [
       "(array([   0., 6069., 4866.,  318.,   77.,   29.,   22.,    8.]),\n",
       " array([   0,    1,    5,   10,   20,   40,   80,  200, 1000]),\n",
       " <a list of 8 Patch objects>)"
      ]
     },
     "execution_count": 36,
     "metadata": {},
     "output_type": "execute_result"
    },
    {
     "data": {
      "image/png": "[encoded data removed]",
      "text/plain": [
       "<matplotlib.figure.Figure at 0x1eea1335668>"
      ]
     },
     "metadata": {},
     "output_type": "display_data"
    }
   ],
   "source": [
    "#this is a histogram of the average distribution of counts for the owner id.\n",
    "\n",
    "plt.hist(scores.owner_id.value_counts(), bins=[0,1,5,10,20,40,80,200,1000] )"
   ]
  },
  {
   "cell_type": "code",
   "execution_count": 37,
   "metadata": {},
   "outputs": [],
   "source": [
    "#Here we will begin to convert the amount of times amount of times an owner appears into a categorical variable\n",
    "\n",
    "def cat_to_num(x):\n",
    "    if x >= 100: \n",
    "        return 0\n",
    "    if x >= 60: \n",
    "        return 1\n",
    "    if x >= 40:\n",
    "        return 2\n",
    "    if x >= 20:\n",
    "        return 3\n",
    "    if x >= 10:\n",
    "        return 4\n",
    "    if x >= 5:\n",
    "        return 5\n",
    "    if x > 1:\n",
    "        return 6\n",
    "    if x == 1:\n",
    "        return 7\n",
    "    \n",
    "scores['uniqueness'] = scores.freq.apply(cat_to_num)"
   ]
  },
  {
   "cell_type": "code",
   "execution_count": 38,
   "metadata": {
    "scrolled": true
   },
   "outputs": [
    {
     "name": "stdout",
     "output_type": "stream",
     "text": [
      "118            MCDONALD'S CORPORATION\n",
      "162      R & B SANCHEZ DBA MCDONALD'S\n",
      "971                   MCDONALD'S CORP\n",
      "1810     R & B SANCHEZ DBA MCDONALD'S\n",
      "2128           MCDONALD'S CORPORATION\n",
      "2282           MCDONALD'S CORPORATION\n",
      "3301     R & B SANCHEZ DBA MCDONALD'S\n",
      "3337           MCDONALD'S CORPORATION\n",
      "3493           MCDONALD'S CORPORATION\n",
      "4300           MCDONALD'S CORPORATION\n",
      "5433           MCDONALD'S CORPORATION\n",
      "7146     R & B SANCHEZ DBA MCDONALD'S\n",
      "8395           MCDONALD'S CORPORATION\n",
      "8758           MCDONALD'S CORPORATION\n",
      "8940           MCDONALD'S CORPORATION\n",
      "9172           MCDONALD'S CORPORATION\n",
      "9300           MCDONALD'S CORPORATION\n",
      "9692     R & B SANCHEZ DBA MCDONALD'S\n",
      "9884     R & B SANCHEZ DBA MCDONALD'S\n",
      "10044          MCDONALD'S CORPORATION\n",
      "10268          MCDONALD'S CORPORATION\n",
      "10953    R & B SANCHEZ DBA MCDONALD'S\n",
      "11128                 MCDONALD'S CORP\n",
      "11158          MCDONALD'S CORPORATION\n",
      "11192    R & B SANCHEZ DBA MCDONALD'S\n",
      "12067    R & B SANCHEZ DBA MCDONALD'S\n",
      "12280          MCDONALD'S CORPORATION\n",
      "13845    R & B SANCHEZ DBA MCDONALD'S\n",
      "15714          MCDONALD'S CORPORATION\n",
      "16406    R & B SANCHEZ DBA MCDONALD'S\n",
      "                     ...             \n",
      "42203    R & B SANCHEZ DBA MCDONALD'S\n",
      "42543          MCDONALD'S CORPORATION\n",
      "43259          MCDONALD'S CORPORATION\n",
      "43809          MCDONALD'S CORPORATION\n",
      "44290    R & B SANCHEZ DBA MCDONALD'S\n",
      "44310          MCDONALD'S CORPORATION\n",
      "44878    R & B SANCHEZ DBA MCDONALD'S\n",
      "46110          MCDONALD'S CORPORATION\n",
      "47332          MCDONALD'S CORPORATION\n",
      "48241          MCDONALD'S CORPORATION\n",
      "49213          MCDONALD'S CORPORATION\n",
      "49268          MCDONALD'S CORPORATION\n",
      "49454          MCDONALD'S CORPORATION\n",
      "49913          MCDONALD'S CORPORATION\n",
      "50748          MCDONALD'S CORPORATION\n",
      "51210    R & B SANCHEZ DBA MCDONALD'S\n",
      "51451    R & B SANCHEZ DBA MCDONALD'S\n",
      "51492    R & B SANCHEZ DBA MCDONALD'S\n",
      "51813                 MCDONALD'S CORP\n",
      "52353          MCDONALD'S CORPORATION\n",
      "52493          MCDONALD'S CORPORATION\n",
      "52794          MCDONALD'S CORPORATION\n",
      "53472          MCDONALD'S CORPORATION\n",
      "53492          MCDONALD'S CORPORATION\n",
      "53861          MCDONALD'S CORPORATION\n",
      "54214          MCDONALD'S CORPORATION\n",
      "55335          MCDONALD'S CORPORATION\n",
      "56568          MCDONALD'S CORPORATION\n",
      "56858          MCDONALD'S CORPORATION\n",
      "57154    R & B SANCHEZ DBA MCDONALD'S\n",
      "Name: owner_name, Length: 109, dtype: object\n"
     ]
    }
   ],
   "source": [
    "print(scores.owner_name[scores.owner_name.str.contains(\"MCDONALD\")])"
   ]
  },
  {
   "cell_type": "code",
   "execution_count": 39,
   "metadata": {},
   "outputs": [
    {
     "name": "stdout",
     "output_type": "stream",
     "text": [
      "                                                 score  service_code  \\\n",
      "pe_description                                                         \n",
      "FOOD MKT RETAIL (2,000+ SF) HIGH RISK        91.938861      4.685092   \n",
      "FOOD MKT RETAIL (2,000+ SF) LOW RISK         95.123580      2.988636   \n",
      "FOOD MKT RETAIL (2,000+ SF) MODERATE RISK    94.728205      7.153846   \n",
      "FOOD MKT RETAIL (25-1,999 SF) HIGH RISK      93.573434      3.159827   \n",
      "FOOD MKT RETAIL (25-1,999 SF) LOW RISK       95.574088      2.094891   \n",
      "FOOD MKT RETAIL (25-1,999 SF) MODERATE RISK  93.909657      4.115265   \n",
      "RESTAURANT (0-30) SEATS HIGH RISK            92.573571      7.232253   \n",
      "RESTAURANT (0-30) SEATS LOW RISK             95.200938      3.679169   \n",
      "RESTAURANT (0-30) SEATS MODERATE RISK        93.888662      6.325317   \n",
      "RESTAURANT (151 + ) SEATS HIGH RISK          93.030751     14.258786   \n",
      "RESTAURANT (151 + ) SEATS LOW RISK           95.770115      1.000000   \n",
      "RESTAURANT (151 + ) SEATS MODERATE RISK      94.522267      7.477733   \n",
      "RESTAURANT (31-60) SEATS HIGH RISK           92.327699      9.958377   \n",
      "RESTAURANT (31-60) SEATS LOW RISK            95.105590      3.484472   \n",
      "RESTAURANT (31-60) SEATS MODERATE RISK       94.125144      9.304498   \n",
      "RESTAURANT (61-150) SEATS HIGH RISK          92.251525     14.302353   \n",
      "RESTAURANT (61-150) SEATS LOW RISK           95.456604      2.509434   \n",
      "RESTAURANT (61-150) SEATS MODERATE RISK      94.336108      8.908429   \n",
      "\n",
      "                                             program_element_pe       freq  \\\n",
      "pe_description                                                               \n",
      "FOOD MKT RETAIL (2,000+ SF) HIGH RISK                    1615.0  19.826633   \n",
      "FOOD MKT RETAIL (2,000+ SF) LOW RISK                     1613.0  60.799716   \n",
      "FOOD MKT RETAIL (2,000+ SF) MODERATE RISK                1614.0  40.861538   \n",
      "FOOD MKT RETAIL (25-1,999 SF) HIGH RISK                  1612.0  69.678906   \n",
      "FOOD MKT RETAIL (25-1,999 SF) LOW RISK                   1610.0   7.254562   \n",
      "FOOD MKT RETAIL (25-1,999 SF) MODERATE RISK              1611.0  15.194704   \n",
      "RESTAURANT (0-30) SEATS HIGH RISK                        1632.0  24.075573   \n",
      "RESTAURANT (0-30) SEATS LOW RISK                         1630.0  66.352981   \n",
      "RESTAURANT (0-30) SEATS MODERATE RISK                    1631.0  44.677582   \n",
      "RESTAURANT (151 + ) SEATS HIGH RISK                      1641.0  31.998003   \n",
      "RESTAURANT (151 + ) SEATS LOW RISK                       1639.0  21.160920   \n",
      "RESTAURANT (151 + ) SEATS MODERATE RISK                  1640.0  72.226721   \n",
      "RESTAURANT (31-60) SEATS HIGH RISK                       1635.0  13.090746   \n",
      "RESTAURANT (31-60) SEATS LOW RISK                        1633.0  83.898551   \n",
      "RESTAURANT (31-60) SEATS MODERATE RISK                   1634.0  23.331027   \n",
      "RESTAURANT (61-150) SEATS HIGH RISK                      1638.0  11.701423   \n",
      "RESTAURANT (61-150) SEATS LOW RISK                       1636.0  24.358491   \n",
      "RESTAURANT (61-150) SEATS MODERATE RISK                  1637.0  26.170656   \n",
      "\n",
      "                                             uniqueness  \n",
      "pe_description                                           \n",
      "FOOD MKT RETAIL (2,000+ SF) HIGH RISK          4.582077  \n",
      "FOOD MKT RETAIL (2,000+ SF) LOW RISK           3.879261  \n",
      "FOOD MKT RETAIL (2,000+ SF) MODERATE RISK      4.502564  \n",
      "FOOD MKT RETAIL (25-1,999 SF) HIGH RISK        3.660547  \n",
      "FOOD MKT RETAIL (25-1,999 SF) LOW RISK         5.687409  \n",
      "FOOD MKT RETAIL (25-1,999 SF) MODERATE RISK    5.137072  \n",
      "RESTAURANT (0-30) SEATS HIGH RISK              4.739498  \n",
      "RESTAURANT (0-30) SEATS LOW RISK               3.962492  \n",
      "RESTAURANT (0-30) SEATS MODERATE RISK          4.280223  \n",
      "RESTAURANT (151 + ) SEATS HIGH RISK            4.163738  \n",
      "RESTAURANT (151 + ) SEATS LOW RISK             4.459770  \n",
      "RESTAURANT (151 + ) SEATS MODERATE RISK        3.372470  \n",
      "RESTAURANT (31-60) SEATS HIGH RISK             4.839108  \n",
      "RESTAURANT (31-60) SEATS LOW RISK              3.563147  \n",
      "RESTAURANT (31-60) SEATS MODERATE RISK         4.201269  \n",
      "RESTAURANT (61-150) SEATS HIGH RISK            4.799012  \n",
      "RESTAURANT (61-150) SEATS LOW RISK             4.867925  \n",
      "RESTAURANT (61-150) SEATS MODERATE RISK        3.880333  \n"
     ]
    }
   ],
   "source": [
    "#Now let's take a look at the differences between different program element description and see if there is any \n",
    "#significant differences between them.\n",
    "\n",
    "description_violations = violations.groupby('pe_description').aggregate(np.mean)\n",
    "description_scores = scores.groupby('pe_description').aggregate(np.mean)\n",
    "print(description_scores)"
   ]
  },
  {
   "cell_type": "code",
   "execution_count": 48,
   "metadata": {},
   "outputs": [],
   "source": [
    "types_grouped = scores['pe_description'].value_counts()"
   ]
  },
  {
   "cell_type": "code",
   "execution_count": 40,
   "metadata": {},
   "outputs": [
    {
     "name": "stdout",
     "output_type": "stream",
     "text": [
      "RESTAURANT (0-30) SEATS HIGH RISK              69820\n",
      "RESTAURANT (31-60) SEATS HIGH RISK             50136\n",
      "RESTAURANT (0-30) SEATS MODERATE RISK          38839\n",
      "RESTAURANT (61-150) SEATS HIGH RISK            36937\n",
      "FOOD MKT RETAIL (25-1,999 SF) LOW RISK         17890\n",
      "FOOD MKT RETAIL (25-1,999 SF) HIGH RISK        12399\n",
      "RESTAURANT (151 + ) SEATS HIGH RISK            12202\n",
      "RESTAURANT (31-60) SEATS MODERATE RISK          7049\n",
      "FOOD MKT RETAIL (2,000+ SF) HIGH RISK           6610\n",
      "FOOD MKT RETAIL (2,000+ SF) LOW RISK            5057\n",
      "RESTAURANT (0-30) SEATS LOW RISK                4921\n",
      "RESTAURANT (61-150) SEATS MODERATE RISK         3715\n",
      "FOOD MKT RETAIL (25-1,999 SF) MODERATE RISK     2694\n",
      "RESTAURANT (31-60) SEATS LOW RISK               1639\n",
      "RESTAURANT (151 + ) SEATS MODERATE RISK          970\n",
      "RESTAURANT (61-150) SEATS LOW RISK               886\n",
      "FOOD MKT RETAIL (2,000+ SF) MODERATE RISK        769\n",
      "RESTAURANT (151 + ) SEATS LOW RISK               268\n",
      "Name: pe_description, dtype: int64\n"
     ]
    }
   ],
   "source": [
    "#Here we can see the distribution between all the different restaurant types\n",
    "\n",
    "types_violations_grouped = violations['pe_description'].value_counts()\n",
    "print(types_violations_grouped)"
   ]
  },
  {
   "cell_type": "code",
   "execution_count": 47,
   "metadata": {},
   "outputs": [
    {
     "data": {
      "text/plain": [
       "<matplotlib.axes._subplots.AxesSubplot at 0x1eea0d2d828>"
      ]
     },
     "execution_count": 47,
     "metadata": {},
     "output_type": "execute_result"
    },
    {
     "data": {
      "image/png": "[encoded data removed]",
      "text/plain": [
       "<matplotlib.figure.Figure at 0x1eea0d662e8>"
      ]
     },
     "metadata": {},
     "output_type": "display_data"
    }
   ],
   "source": [
    "#Let's look at this in a graphic view.  As we can see that their are some\n",
    "#groups that are highly concentrated and some that have very few.  \n",
    "\n",
    "sns.countplot(x='pe_description', data=scores, orient= \"v\")"
   ]
  },
  {
   "cell_type": "code",
   "execution_count": 18,
   "metadata": {},
   "outputs": [
    {
     "name": "stdout",
     "output_type": "stream",
     "text": [
      "FOOD MKT RETAIL (2,000+ SF) HIGH RISK          5.536013\n",
      "RESTAURANT (61-150) SEATS HIGH RISK            5.364072\n",
      "RESTAURANT (31-60) SEATS HIGH RISK             5.296429\n",
      "RESTAURANT (0-30) SEATS HIGH RISK              5.083364\n",
      "RESTAURANT (151 + ) SEATS HIGH RISK            4.873003\n",
      "FOOD MKT RETAIL (25-1,999 SF) HIGH RISK        4.463283\n",
      "FOOD MKT RETAIL (25-1,999 SF) MODERATE RISK    4.196262\n",
      "RESTAURANT (0-30) SEATS MODERATE RISK          4.169959\n",
      "RESTAURANT (31-60) SEATS MODERATE RISK         4.065167\n",
      "FOOD MKT RETAIL (2,000+ SF) MODERATE RISK      3.943590\n",
      "RESTAURANT (151 + ) SEATS MODERATE RISK        3.927126\n",
      "RESTAURANT (61-150) SEATS MODERATE RISK        3.865765\n",
      "FOOD MKT RETAIL (2,000+ SF) LOW RISK           3.591619\n",
      "RESTAURANT (31-60) SEATS LOW RISK              3.393375\n",
      "RESTAURANT (61-150) SEATS LOW RISK             3.343396\n",
      "RESTAURANT (0-30) SEATS LOW RISK               3.296048\n",
      "FOOD MKT RETAIL (25-1,999 SF) LOW RISK         3.264599\n",
      "RESTAURANT (151 + ) SEATS LOW RISK             3.080460\n",
      "Name: pe_description, dtype: float64\n"
     ]
    }
   ],
   "source": [
    "#Create the average health code violation per restaurant group\n",
    "\n",
    "per_type = types_violations_grouped / types_grouped\n",
    "per_type = per_type.sort_values(ascending=False)\n",
    "print(per_type)"
   ]
  },
  {
   "cell_type": "code",
   "execution_count": 49,
   "metadata": {},
   "outputs": [
    {
     "name": "stdout",
     "output_type": "stream",
     "text": [
      "AxesSubplot(0.1,0.15;0.8x0.75)\n"
     ]
    },
    {
     "data": {
      "image/png": "[encoded data removed]",
      "text/plain": [
       "<matplotlib.figure.Figure at 0x1eea140da20>"
      ]
     },
     "metadata": {},
     "output_type": "display_data"
    }
   ],
   "source": [
    "#Lets begin to investigate the distribution of Risk and what it means for our data\n",
    "\n",
    "scores['high'] = scores['pe_description'].str.contains('HIGH')\n",
    "scores['medium'] = scores['pe_description'].str.contains('MODERATE')\n",
    "scores['low'] = scores['pe_description'].str.contains('LOW')\n",
    "#print(scores[['low', 'pe_description', 'high', 'medium']])\n",
    "scores['risk'] = scores['low'].apply(lambda x: 'low' if x else np.NaN)\n",
    "scores['risk'][scores.high == True] = 'high'\n",
    "scores['risk'][scores.medium == True] = 'medium'\n",
    "\n",
    "\n",
    "print(scores[['score', 'risk']].boxplot(by='risk'))"
   ]
  },
  {
   "cell_type": "markdown",
   "metadata": {},
   "source": [
    "It appears to me that all of the different risk ratings are assigned previously before the actuall inspection. "
   ]
  },
  {
   "cell_type": "code",
   "execution_count": 50,
   "metadata": {},
   "outputs": [
    {
     "data": {
      "text/plain": [
       "<matplotlib.axes._subplots.AxesSubplot at 0x1eea0e32898>"
      ]
     },
     "execution_count": 50,
     "metadata": {},
     "output_type": "execute_result"
    },
    {
     "data": {
      "image/png": "[encoded data removed]",
      "text/plain": [
       "<matplotlib.figure.Figure at 0x1eea0db8358>"
      ]
     },
     "metadata": {},
     "output_type": "display_data"
    }
   ],
   "source": [
    "#Let's take a look at the correlation between our different variables.\n",
    "corr_scores = scores.corr()\n",
    "\n",
    "sns.heatmap(corr_scores)"
   ]
  },
  {
   "cell_type": "code",
   "execution_count": 29,
   "metadata": {},
   "outputs": [
    {
     "data": {
      "text/plain": [
       "Index(['serial_number', 'activity_date', 'facility_name', 'score', 'grade',\n",
       "       'service_code', 'service_description', 'employee_id',\n",
       "       'facility_address', 'facility_city', 'facility_id', 'facility_state',\n",
       "       'facility_zip', 'owner_id', 'owner_name', 'pe_description',\n",
       "       'program_element_pe', 'program_name', 'program_status', 'record_id',\n",
       "       'high', 'medium', 'low', 'risk', 'freq', 'uniqueness'],\n",
       "      dtype='object')"
      ]
     },
     "execution_count": 29,
     "metadata": {},
     "output_type": "execute_result"
    }
   ],
   "source": [
    "#Now let's take a quick look at the columns we have been able to generate.\n",
    "\n",
    "scores.columns\n"
   ]
  },
  {
   "cell_type": "code",
   "execution_count": 63,
   "metadata": {},
   "outputs": [],
   "source": [
    "#Create wanted data frame with parameters\n",
    "X = scores[['service_code', 'facility_city', 'facility_zip', 'pe_description', 'program_status', 'risk', 'freq', 'uniqueness']]\n",
    "y = scores[['score']]\n"
   ]
  },
  {
   "cell_type": "code",
   "execution_count": 64,
   "metadata": {},
   "outputs": [],
   "source": [
    "#get_dummies for certain columns\n",
    "X = pd.get_dummies(X, columns=['service_code', 'facility_city', 'facility_zip', 'pe_description', 'program_status', 'risk'])\n"
   ]
  },
  {
   "cell_type": "code",
   "execution_count": null,
   "metadata": {},
   "outputs": [],
   "source": []
  },
  {
   "cell_type": "code",
   "execution_count": null,
   "metadata": {},
   "outputs": [],
   "source": []
  },
  {
   "cell_type": "code",
   "execution_count": 65,
   "metadata": {},
   "outputs": [],
   "source": [
    "#Create training and test for the data\n",
    "from sklearn.model_selection import train_test_split\n",
    "\n",
    "X_train, X_test, y_train, y_test = train_test_split(X, y, test_size=0.4)"
   ]
  },
  {
   "cell_type": "code",
   "execution_count": 33,
   "metadata": {},
   "outputs": [
    {
     "data": {
      "text/plain": [
       "array([0.16539393, 0.14183221, 0.16733931, 0.15700635, 0.12965472])"
      ]
     },
     "execution_count": 33,
     "metadata": {},
     "output_type": "execute_result"
    }
   ],
   "source": [
    "#First let's create a regression model using the Random forest decision tree. \n",
    "\n",
    "from sklearn import ensemble\n",
    "from sklearn.model_selection import cross_val_score\n",
    "rfr = ensemble.RandomForestRegressor()\n",
    "rfr.fit(X_train, y_train)\n",
    "cross_val_score(rfr, X_train, y_train, cv=5)"
   ]
  },
  {
   "cell_type": "code",
   "execution_count": 74,
   "metadata": {},
   "outputs": [
    {
     "data": {
      "text/plain": [
       "array([0.16685386, 0.1683267 , 0.17540772, 0.17067404, 0.17654952])"
      ]
     },
     "execution_count": 74,
     "metadata": {},
     "output_type": "execute_result"
    }
   ],
   "source": [
    "# Let's take a look and see if we can boost our model to try and save these terrible results\n",
    "#We see a minor increase in predictability\n",
    "params = {'n_estimators': 500, \n",
    "         'max_depth': 3,\n",
    "         'loss': 'ls'}\n",
    "clf = ensemble.GradientBoostingRegressor(**params)\n",
    "clf.fit(X_train, y_train)\n",
    "cross_val_score(clf, X_train, y_train, cv=5)"
   ]
  },
  {
   "cell_type": "markdown",
   "metadata": {},
   "source": [
    "Well that didn't work out very well.  Let's investigate how the model does as a categorizer when looking at the data.  "
   ]
  },
  {
   "cell_type": "code",
   "execution_count": 35,
   "metadata": {},
   "outputs": [
    {
     "data": {
      "text/plain": [
       "array(['A', 'B', 'C', ' '], dtype=object)"
      ]
     },
     "execution_count": 35,
     "metadata": {},
     "output_type": "execute_result"
    }
   ],
   "source": [
    "scores.grade.unique()"
   ]
  },
  {
   "cell_type": "markdown",
   "metadata": {},
   "source": [
    "Now that we have investigated the unique types of grades we can convert them to something we can run a model on"
   ]
  },
  {
   "cell_type": "code",
   "execution_count": 54,
   "metadata": {},
   "outputs": [],
   "source": [
    "def letter_to_num(x):\n",
    "    if x =='A':\n",
    "        return 1 \n",
    "    if x =='B':\n",
    "        return 2\n",
    "    if x == 'C':\n",
    "        return 3\n",
    "    if x == ' ':\n",
    "        return 3\n",
    "\n",
    "\n",
    "scores['letter_num'] = scores.grade.apply(letter_to_num)  \n",
    "\n"
   ]
  },
  {
   "cell_type": "code",
   "execution_count": 55,
   "metadata": {},
   "outputs": [],
   "source": [
    "def letter_to_num2(x):\n",
    "    if x =='A':\n",
    "        return 1 \n",
    "    if x =='B':\n",
    "        return 2\n",
    "    if x == 'C':\n",
    "        return 2\n",
    "    if x == ' ':\n",
    "        return 2\n",
    "\n",
    "\n",
    "scores['two_grades'] = scores.grade.apply(letter_to_num2)  \n",
    "\n"
   ]
  },
  {
   "cell_type": "code",
   "execution_count": 56,
   "metadata": {},
   "outputs": [
    {
     "data": {
      "text/plain": [
       "<matplotlib.axes._subplots.AxesSubplot at 0x1ee99160748>"
      ]
     },
     "execution_count": 56,
     "metadata": {},
     "output_type": "execute_result"
    },
    {
     "data": {
      "image/png": "[encoded data removed]",
      "text/plain": [
       "<matplotlib.figure.Figure at 0x1eea0e481d0>"
      ]
     },
     "metadata": {},
     "output_type": "display_data"
    }
   ],
   "source": [
    "#Let's see if the correlations are any different now that we only have three different\n",
    "#variables we are looking at\n",
    "\n",
    "correlation_mat = scores.corr()\n",
    "sns.heatmap(correlation_mat)"
   ]
  },
  {
   "cell_type": "code",
   "execution_count": 57,
   "metadata": {},
   "outputs": [
    {
     "data": {
      "text/plain": [
       "(array([54904.,     0.,     0.,     0.,     0.,  3676.,     0.,     0.,\n",
       "            0.,   292.]),\n",
       " array([1. , 1.2, 1.4, 1.6, 1.8, 2. , 2.2, 2.4, 2.6, 2.8, 3. ]),\n",
       " <a list of 10 Patch objects>)"
      ]
     },
     "execution_count": 57,
     "metadata": {},
     "output_type": "execute_result"
    },
    {
     "data": {
      "image/png": "[encoded data removed]",
      "text/plain": [
       "<matplotlib.figure.Figure at 0x1ee971e5d30>"
      ]
     },
     "metadata": {},
     "output_type": "display_data"
    }
   ],
   "source": [
    "plt.hist(scores.letter_num)"
   ]
  },
  {
   "cell_type": "code",
   "execution_count": 66,
   "metadata": {},
   "outputs": [
    {
     "data": {
      "text/plain": [
       "1    54904\n",
       "2     3676\n",
       "3      292\n",
       "Name: num_square, dtype: int64"
      ]
     },
     "execution_count": 66,
     "metadata": {},
     "output_type": "execute_result"
    }
   ],
   "source": [
    "scores.num_square.value_counts()"
   ]
  },
  {
   "cell_type": "code",
   "execution_count": 67,
   "metadata": {},
   "outputs": [],
   "source": [
    "#how would it do against all As, or Bs, or Cs\n",
    "#Group into either all A or not A\n",
    "#bernouli naive bayes:\n",
    "#kNN"
   ]
  },
  {
   "cell_type": "code",
   "execution_count": 68,
   "metadata": {},
   "outputs": [],
   "source": [
    "y2 = scores['num_square']\n",
    "y3 = scores['two_grades']"
   ]
  },
  {
   "cell_type": "code",
   "execution_count": 69,
   "metadata": {},
   "outputs": [],
   "source": [
    "X_train, X_test, y_train2, y_test2 = train_test_split(X, y2, test_size=0.4)\n",
    "\n",
    "X_train, X_test, y_train3, y_test3 = train_test_split(X, y3, test_size=0.4)"
   ]
  },
  {
   "cell_type": "code",
   "execution_count": 70,
   "metadata": {},
   "outputs": [
    {
     "ename": "NameError",
     "evalue": "name 'ensemble' is not defined",
     "output_type": "error",
     "traceback": [
      "\u001b[1;31m---------------------------------------------------------------------------\u001b[0m",
      "\u001b[1;31mNameError\u001b[0m                                 Traceback (most recent call last)",
      "\u001b[1;32m<ipython-input-70-252009a61980>\u001b[0m in \u001b[0;36m<module>\u001b[1;34m()\u001b[0m\n\u001b[0;32m      1\u001b[0m \u001b[1;31m# on the classifier first of all groups\u001b[0m\u001b[1;33m\u001b[0m\u001b[1;33m\u001b[0m\u001b[0m\n\u001b[1;32m----> 2\u001b[1;33m \u001b[0mrfc\u001b[0m \u001b[1;33m=\u001b[0m \u001b[0mensemble\u001b[0m\u001b[1;33m.\u001b[0m\u001b[0mRandomForestClassifier\u001b[0m\u001b[1;33m(\u001b[0m\u001b[1;33m)\u001b[0m\u001b[1;33m\u001b[0m\u001b[0m\n\u001b[0m\u001b[0;32m      3\u001b[0m \u001b[0mrfc\u001b[0m\u001b[1;33m.\u001b[0m\u001b[0mfit\u001b[0m\u001b[1;33m(\u001b[0m\u001b[0mX_train\u001b[0m\u001b[1;33m,\u001b[0m \u001b[0my_train2\u001b[0m\u001b[1;33m)\u001b[0m\u001b[1;33m\u001b[0m\u001b[0m\n\u001b[0;32m      4\u001b[0m \u001b[0mcross_val_score\u001b[0m\u001b[1;33m(\u001b[0m\u001b[0mrfc\u001b[0m\u001b[1;33m,\u001b[0m \u001b[0mX_train\u001b[0m\u001b[1;33m,\u001b[0m \u001b[0my_train2\u001b[0m\u001b[1;33m,\u001b[0m \u001b[0mcv\u001b[0m\u001b[1;33m=\u001b[0m\u001b[1;36m5\u001b[0m\u001b[1;33m)\u001b[0m\u001b[1;33m\u001b[0m\u001b[0m\n",
      "\u001b[1;31mNameError\u001b[0m: name 'ensemble' is not defined"
     ]
    }
   ],
   "source": [
    "# on the classifier first of all groups\n",
    "rfc = ensemble.RandomForestClassifier()\n",
    "rfc.fit(X_train, y_train2)\n",
    "cross_val_score(rfc, X_train, y_train2, cv=5)"
   ]
  },
  {
   "cell_type": "code",
   "execution_count": 61,
   "metadata": {},
   "outputs": [
    {
     "data": {
      "text/plain": [
       "array([[32865,   100,     9],\n",
       "       [ 1966,   213,     1],\n",
       "       [  159,     3,     7]], dtype=int64)"
      ]
     },
     "execution_count": 61,
     "metadata": {},
     "output_type": "execute_result"
    }
   ],
   "source": [
    "#crosstab to see if we are generating errors and how we are doing it:\n",
    "from sklearn.metrics import confusion_matrix\n",
    "y_pred = rfc.fit(X_train, y_train2).predict(X_train)\n",
    "\n",
    "confusion_matrix(y_train2, y_pred)"
   ]
  },
  {
   "cell_type": "code",
   "execution_count": 62,
   "metadata": {},
   "outputs": [
    {
     "data": {
      "text/plain": [
       "array([0.92696391, 0.92569002, 0.92512385, 0.924547  , 0.92652888])"
      ]
     },
     "execution_count": 62,
     "metadata": {},
     "output_type": "execute_result"
    }
   ],
   "source": [
    "# either A or not A\n",
    "rfc.fit(X_train, y_train3)\n",
    "cross_val_score(rfc, X_train, y_train3, cv=5)"
   ]
  },
  {
   "cell_type": "code",
   "execution_count": 63,
   "metadata": {},
   "outputs": [
    {
     "data": {
      "text/plain": [
       "array([[32750,   173],\n",
       "       [ 1928,   472]], dtype=int64)"
      ]
     },
     "execution_count": 63,
     "metadata": {},
     "output_type": "execute_result"
    }
   ],
   "source": [
    "#now lets take a look at the kind of errors we are generating to see how well\n",
    "#it is performing\n",
    "y_pred2 = rfc.fit(X_train, y_train3).predict(X_train)\n",
    "\n",
    "confusion_matrix(y_train3, y_pred2)"
   ]
  },
  {
   "cell_type": "code",
   "execution_count": 64,
   "metadata": {},
   "outputs": [
    {
     "data": {
      "text/plain": [
       "array([0.92229299, 0.92866242, 0.92540694, 0.92652888, 0.92483012])"
      ]
     },
     "execution_count": 64,
     "metadata": {},
     "output_type": "execute_result"
    }
   ],
   "source": [
    "#Now lets take a look at this through the lense of the bernoulli.\n",
    "#Errors seem to be about the same between bernoulli and random forest classifier\n",
    "\n",
    "from sklearn.naive_bayes import BernoulliNB\n",
    "bnb = BernoulliNB()\n",
    "bnb.fit(X_train, y_train3)\n",
    "cross_val_score(bnb, X_train, y_train3, cv=5)"
   ]
  },
  {
   "cell_type": "code",
   "execution_count": 65,
   "metadata": {},
   "outputs": [
    {
     "name": "stdout",
     "output_type": "stream",
     "text": [
      "Number of mislabeled points out of a total 35323 points : 2687\n"
     ]
    }
   ],
   "source": [
    "#It appears that the system mislabels more than if it were to just assume all were\n",
    "#just labeled as As\n",
    "\n",
    "y_pred3 = bnb.predict(X_train)\n",
    "\n",
    "print(\"Number of mislabeled points out of a total {} points : {}\".format(\n",
    "    X_train.shape[0],\n",
    "    (y_train3 != y_pred).sum()\n",
    "))"
   ]
  },
  {
   "cell_type": "code",
   "execution_count": 66,
   "metadata": {},
   "outputs": [
    {
     "data": {
      "text/plain": [
       "array([[32680,   243],\n",
       "       [ 2273,   127]], dtype=int64)"
      ]
     },
     "execution_count": 66,
     "metadata": {},
     "output_type": "execute_result"
    }
   ],
   "source": [
    "confusion_matrix(y_train3, y_pred3)"
   ]
  },
  {
   "cell_type": "code",
   "execution_count": null,
   "metadata": {},
   "outputs": [],
   "source": []
  }
 ],
 "metadata": {
  "kernelspec": {
   "display_name": "Python [conda env:Anaconda3]",
   "language": "python",
   "name": "conda-env-Anaconda3-py"
  },
  "language_info": {
   "codemirror_mode": {
    "name": "ipython",
    "version": 3
   },
   "file_extension": ".py",
   "mimetype": "text/x-python",
   "name": "python",
   "nbconvert_exporter": "python",
   "pygments_lexer": "ipython3",
   "version": "3.6.4"
  }
 },
 "nbformat": 4,
 "nbformat_minor": 2
}
