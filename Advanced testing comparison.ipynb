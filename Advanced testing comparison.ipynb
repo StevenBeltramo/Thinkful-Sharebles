{
 "cells": [
  {
   "cell_type": "code",
   "execution_count": 1,
   "metadata": {},
   "outputs": [],
   "source": [
    "%matplotlib inline\n",
    "import numpy as np\n",
    "import pandas as pd\n",
    "import scipy\n",
    "import sklearn\n",
    "import matplotlib.pyplot as plt\n",
    "import seaborn as sns\n",
    "\n",
    "import math\n",
    "import warnings\n",
    "\n",
    "from IPython.display import display\n",
    "from sklearn import linear_model\n",
    "import statsmodels.formula.api as smf\n",
    "\n",
    "# Display preferences.\n",
    "%matplotlib inline\n",
    "pd.options.display.float_format = '{:.3f}'.format\n",
    "\n",
    "# Suppress annoying harmless error.\n",
    "warnings.filterwarnings(\n",
    "    action=\"ignore\",\n",
    "    module=\"scipy\",\n",
    "    message=\"^internal gelsd\"\n",
    ")"
   ]
  },
  {
   "cell_type": "code",
   "execution_count": 2,
   "metadata": {},
   "outputs": [],
   "source": [
    "df = pd.read_csv('C:\\\\Users\\\\STEVEN\\\\Documents\\\\Thinkful\\\\florida_crime.csv')"
   ]
  },
  {
   "cell_type": "code",
   "execution_count": 3,
   "metadata": {},
   "outputs": [
    {
     "name": "stdout",
     "output_type": "stream",
     "text": [
      "City                                      Alachua\n",
      "Population                                  9,338\n",
      "Violent\\ncrime                                 36\n",
      "Murder and\\nnonnegligent\\nmanslaughter      0.000\n",
      "Rape\\n(revised\\ndefinition)1                2.000\n",
      "Rape\\n(legacy\\ndefinition)2                 0.000\n",
      "Robbery                                         2\n",
      "Aggravated\\nassault                            32\n",
      "Property\\ncrime                               166\n",
      "Burglary                                       40\n",
      "Larceny-\\ntheft                               120\n",
      "Motor\\nvehicle\\ntheft                           6\n",
      "Arson                                       1.000\n",
      "Unnamed: 13                                 0.000\n",
      "Name: 0, dtype: object\n"
     ]
    }
   ],
   "source": [
    "df = df.fillna(0)\n",
    "print(df.loc[0,:])"
   ]
  },
  {
   "cell_type": "code",
   "execution_count": 4,
   "metadata": {},
   "outputs": [],
   "source": [
    "#lets create some features and clean up\n",
    "\n",
    "df['Population'] = df['Population'].str.replace(',', '')\n",
    "df = df.fillna(0)\n",
    "df['Population'] = df['Population'].astype(int)"
   ]
  },
  {
   "cell_type": "code",
   "execution_count": 5,
   "metadata": {},
   "outputs": [],
   "source": [
    "df['Property\\ncrime'] = df['Property\\ncrime'].str.replace(',', '')\n",
    "df = df.fillna(0)\n",
    "df['Property\\ncrime'] = df['Property\\ncrime'].astype(int)\n",
    "\n",
    "df['Violent\\ncrime'] = df['Violent\\ncrime'].str.replace(',', '')\n",
    "df = df.fillna(0)\n",
    "df['Violent\\ncrime'] = df['Violent\\ncrime'].astype(int)\n",
    "\n",
    "df['Larceny-\\ntheft'] = df['Larceny-\\ntheft'].str.replace(',', '')\n",
    "df = df.fillna(0)\n",
    "df['Larceny-\\ntheft'] = df['Larceny-\\ntheft'].astype(int)"
   ]
  },
  {
   "cell_type": "code",
   "execution_count": 6,
   "metadata": {},
   "outputs": [],
   "source": [
    "\n",
    "df['Aggravated\\nassault'] = df['Aggravated\\nassault'].str.replace(',', '')\n",
    "df = df.fillna(0)\n",
    "df['Aggravated\\nassault'] = df['Aggravated\\nassault'].astype(int)\n",
    "\n"
   ]
  },
  {
   "cell_type": "code",
   "execution_count": 7,
   "metadata": {},
   "outputs": [],
   "source": [
    "#add categorical aggravated assault \n",
    "df['assualt_cat'] = df['Aggravated\\nassault'].apply(lambda x: 0 if x == 0 else 1)"
   ]
  },
  {
   "cell_type": "code",
   "execution_count": 8,
   "metadata": {},
   "outputs": [],
   "source": [
    "df['Motor\\nvehicle\\ntheft'] = df['Motor\\nvehicle\\ntheft'].str.replace(',', '')\n",
    "df = df.fillna(0)\n",
    "df['Motor\\nvehicle\\ntheft'] = df['Motor\\nvehicle\\ntheft'].astype(int)"
   ]
  },
  {
   "cell_type": "code",
   "execution_count": null,
   "metadata": {},
   "outputs": [],
   "source": []
  },
  {
   "cell_type": "code",
   "execution_count": 9,
   "metadata": {},
   "outputs": [],
   "source": [
    "#Create population squared\n",
    "df['Population_sq'] = df['Population'].apply(lambda x: x*x)\n",
    "# Robbery\n",
    "df['Robbery'] = df['Robbery'].str.replace(',', '')\n",
    "df = df.fillna(0)\n",
    "df['Robbery'] = df['Robbery'].astype(int)\n",
    "#Creating categorical murders\n",
    "df = df.rename(index=str,columns={'Murder and\\nnonnegligent\\nmanslaughter': 'Murder'})\n",
    "df['Murder'] = df['Murder'].astype(int)\n",
    "df['murder_cat'] = df['Murder'].apply(lambda x: 0 if x == 0 else 1)"
   ]
  },
  {
   "cell_type": "code",
   "execution_count": 10,
   "metadata": {},
   "outputs": [],
   "source": [
    "df['Population_sqrt'] = np.sqrt(df['Population'])\n",
    "\n",
    "df['Burglary'] = df['Burglary'].str.replace(',', '')\n",
    "df = df.fillna(0)\n",
    "df['Burglary'] = df['Burglary'].astype(int)\n",
    "df['burglary_cat'] = df['Burglary'].apply(lambda x: 0 if x == 0 else 1)"
   ]
  },
  {
   "cell_type": "code",
   "execution_count": null,
   "metadata": {},
   "outputs": [],
   "source": []
  },
  {
   "cell_type": "code",
   "execution_count": null,
   "metadata": {},
   "outputs": [],
   "source": []
  },
  {
   "cell_type": "code",
   "execution_count": 12,
   "metadata": {},
   "outputs": [
    {
     "data": {
      "text/plain": [
       "(293, 19)"
      ]
     },
     "execution_count": 12,
     "metadata": {},
     "output_type": "execute_result"
    }
   ],
   "source": [
    "df.shape"
   ]
  },
  {
   "cell_type": "code",
   "execution_count": 15,
   "metadata": {},
   "outputs": [
    {
     "name": "stdout",
     "output_type": "stream",
     "text": [
      "(293, 16)\n"
     ]
    }
   ],
   "source": [
    "X = df.drop(['City', 'Rape\\n(revised\\ndefinition)1', 'Rape\\n(legacy\\ndefinition)2'], axis=1)\n",
    "Y = df['Violent\\ncrime']\n",
    "\n",
    "print(X.shape)"
   ]
  },
  {
   "cell_type": "code",
   "execution_count": 16,
   "metadata": {},
   "outputs": [],
   "source": [
    "#Create training and test data\n",
    "trainsize = int(df.shape[0] / 2)\n",
    "df_test = X.iloc[trainsize:, :].copy()\n",
    "df_train = X.iloc[:trainsize, :].copy()\n",
    "\n",
    "#Train data\n",
    "Y_train = df_train['Violent\\ncrime'].values.reshape(-1, 1)\n",
    "X_train = df_train.loc[:, ~(df_train.columns).isin(['Violent\\ncrime'])]\n",
    "\n",
    "#Test data\n",
    "Y_test = df_test['Violent\\ncrime'].values.reshape(-1, 1)\n",
    "X_test = df_test.loc[:, ~(df_train.columns).isin(['Violent\\ncrime'])]"
   ]
  },
  {
   "cell_type": "code",
   "execution_count": 17,
   "metadata": {},
   "outputs": [
    {
     "name": "stdout",
     "output_type": "stream",
     "text": [
      "\n",
      " R2\n",
      "0.0136986301369863\n"
     ]
    },
    {
     "name": "stderr",
     "output_type": "stream",
     "text": [
      "c:\\users\\steven\\appdata\\local\\programs\\python\\python36-32\\lib\\site-packages\\sklearn\\utils\\validation.py:578: DataConversionWarning: A column-vector y was passed when a 1d array was expected. Please change the shape of y to (n_samples, ), for example using ravel().\n",
      "  y = column_or_1d(y, warn=True)\n",
      "c:\\users\\steven\\appdata\\local\\programs\\python\\python36-32\\lib\\site-packages\\sklearn\\utils\\validation.py:578: DataConversionWarning: A column-vector y was passed when a 1d array was expected. Please change the shape of y to (n_samples, ), for example using ravel().\n",
      "  y = column_or_1d(y, warn=True)\n"
     ]
    }
   ],
   "source": [
    "#Logistic Regression training data:\n",
    "\n",
    "\n",
    "from sklearn.linear_model import LogisticRegression\n",
    "lr = LogisticRegression(C=10)\n",
    "\n",
    "# Fit the model\n",
    "fit = lr.fit(X_train, Y_train)\n",
    "fit2 = lr.fit(X_train, Y_train)\n",
    "# Display.\n",
    "\n",
    "\n",
    "\n",
    "print('\\n R2')\n",
    "print(lr.score(X_train, Y_train))"
   ]
  },
  {
   "cell_type": "code",
   "execution_count": 18,
   "metadata": {},
   "outputs": [
    {
     "name": "stdout",
     "output_type": "stream",
     "text": [
      "With 20% Holdout: 0.0\n",
      "Testing on Sample: 0.006825938566552901\n"
     ]
    }
   ],
   "source": [
    "#Now to run it with our holdout comparison and cross folding.  \n",
    "from sklearn.model_selection import train_test_split\n",
    "\n",
    "X_train2, X_test2, Y_train2, Y_test2 = train_test_split(X, Y, test_size=0.2, random_state=20)\n",
    "print('With 20% Holdout: ' + str(lr.fit(X_train2, Y_train2).score(X_test2, Y_test2)))\n",
    "print('Testing on Sample: ' + str(lr.fit(X, Y).score(X, Y)))\n"
   ]
  },
  {
   "cell_type": "code",
   "execution_count": 19,
   "metadata": {},
   "outputs": [
    {
     "name": "stderr",
     "output_type": "stream",
     "text": [
      "c:\\users\\steven\\appdata\\local\\programs\\python\\python36-32\\lib\\site-packages\\sklearn\\model_selection\\_split.py:605: Warning: The least populated class in y has only 1 members, which is too few. The minimum number of members in any class cannot be less than n_splits=2.\n",
      "  % (min_groups, self.n_splits)), Warning)\n",
      "c:\\users\\steven\\appdata\\local\\programs\\python\\python36-32\\lib\\site-packages\\sklearn\\utils\\validation.py:578: DataConversionWarning: A column-vector y was passed when a 1d array was expected. Please change the shape of y to (n_samples, ), for example using ravel().\n",
      "  y = column_or_1d(y, warn=True)\n",
      "c:\\users\\steven\\appdata\\local\\programs\\python\\python36-32\\lib\\site-packages\\sklearn\\utils\\validation.py:578: DataConversionWarning: A column-vector y was passed when a 1d array was expected. Please change the shape of y to (n_samples, ), for example using ravel().\n",
      "  y = column_or_1d(y, warn=True)\n"
     ]
    },
    {
     "data": {
      "text/plain": [
       "array([0.01785714, 0.        ])"
      ]
     },
     "execution_count": 19,
     "metadata": {},
     "output_type": "execute_result"
    }
   ],
   "source": [
    "#Now run as cross validation: \n",
    "from sklearn.model_selection import cross_val_score\n",
    "cross_val_score(lr, X_test, Y_test, cv=2)\n"
   ]
  },
  {
   "cell_type": "code",
   "execution_count": 20,
   "metadata": {},
   "outputs": [
    {
     "name": "stdout",
     "output_type": "stream",
     "text": [
      "\n",
      " R2\n",
      "0.9998633400549388\n"
     ]
    },
    {
     "name": "stderr",
     "output_type": "stream",
     "text": [
      "c:\\users\\steven\\appdata\\local\\programs\\python\\python36-32\\lib\\site-packages\\sklearn\\linear_model\\ridge.py:112: LinAlgWarning: scipy.linalg.solve\n",
      "Ill-conditioned matrix detected. Result is not guaranteed to be accurate.\n",
      "Reciprocal condition number9.785413e-24\n",
      "  overwrite_a=True).T\n"
     ]
    }
   ],
   "source": [
    "# now it's time for ridge regression..\n",
    "from sklearn import linear_model\n",
    "from sklearn import preprocessing\n",
    "\n",
    "ridgeregr = linear_model.Ridge(alpha=5) \n",
    "\n",
    "# Fit the model\n",
    "fit = ridgeregr.fit(X_train, Y_train)\n",
    "\n",
    "# Display.\n",
    "\n",
    "\n",
    "\n",
    "print('\\n R2')\n",
    "print(ridgeregr.score(X_train, Y_train))\n"
   ]
  },
  {
   "cell_type": "code",
   "execution_count": 21,
   "metadata": {},
   "outputs": [
    {
     "name": "stdout",
     "output_type": "stream",
     "text": [
      "With 20% Holdout: 0.9999999982698611\n",
      "Testing on Sample: 0.9999999999824466\n"
     ]
    },
    {
     "name": "stderr",
     "output_type": "stream",
     "text": [
      "c:\\users\\steven\\appdata\\local\\programs\\python\\python36-32\\lib\\site-packages\\sklearn\\linear_model\\ridge.py:112: LinAlgWarning: scipy.linalg.solve\n",
      "Ill-conditioned matrix detected. Result is not guaranteed to be accurate.\n",
      "Reciprocal condition number8.411821e-23\n",
      "  overwrite_a=True).T\n",
      "c:\\users\\steven\\appdata\\local\\programs\\python\\python36-32\\lib\\site-packages\\sklearn\\linear_model\\ridge.py:112: LinAlgWarning: scipy.linalg.solve\n",
      "Ill-conditioned matrix detected. Result is not guaranteed to be accurate.\n",
      "Reciprocal condition number8.836555e-24\n",
      "  overwrite_a=True).T\n"
     ]
    }
   ],
   "source": [
    "X_train2, X_test2, Y_train2, Y_test2 = train_test_split(X, Y, test_size=0.2, random_state=20)\n",
    "print('With 20% Holdout: ' + str(ridgeregr.fit(X_train2, Y_train2).score(X_test2, Y_test2)))\n",
    "print('Testing on Sample: ' + str(ridgeregr.fit(X, Y).score(X, Y)))"
   ]
  },
  {
   "cell_type": "code",
   "execution_count": 22,
   "metadata": {},
   "outputs": [
    {
     "name": "stderr",
     "output_type": "stream",
     "text": [
      "c:\\users\\steven\\appdata\\local\\programs\\python\\python36-32\\lib\\site-packages\\sklearn\\linear_model\\ridge.py:112: LinAlgWarning: scipy.linalg.solve\n",
      "Ill-conditioned matrix detected. Result is not guaranteed to be accurate.\n",
      "Reciprocal condition number1.994048e-22\n",
      "  overwrite_a=True).T\n",
      "c:\\users\\steven\\appdata\\local\\programs\\python\\python36-32\\lib\\site-packages\\sklearn\\linear_model\\ridge.py:112: LinAlgWarning: scipy.linalg.solve\n",
      "Ill-conditioned matrix detected. Result is not guaranteed to be accurate.\n",
      "Reciprocal condition number9.241023e-23\n",
      "  overwrite_a=True).T\n",
      "c:\\users\\steven\\appdata\\local\\programs\\python\\python36-32\\lib\\site-packages\\sklearn\\linear_model\\ridge.py:112: LinAlgWarning: scipy.linalg.solve\n",
      "Ill-conditioned matrix detected. Result is not guaranteed to be accurate.\n",
      "Reciprocal condition number9.206527e-23\n",
      "  overwrite_a=True).T\n",
      "c:\\users\\steven\\appdata\\local\\programs\\python\\python36-32\\lib\\site-packages\\sklearn\\linear_model\\ridge.py:112: LinAlgWarning: scipy.linalg.solve\n",
      "Ill-conditioned matrix detected. Result is not guaranteed to be accurate.\n",
      "Reciprocal condition number9.851880e-23\n",
      "  overwrite_a=True).T\n",
      "c:\\users\\steven\\appdata\\local\\programs\\python\\python36-32\\lib\\site-packages\\sklearn\\linear_model\\ridge.py:112: LinAlgWarning: scipy.linalg.solve\n",
      "Ill-conditioned matrix detected. Result is not guaranteed to be accurate.\n",
      "Reciprocal condition number9.383320e-23\n",
      "  overwrite_a=True).T\n",
      "c:\\users\\steven\\appdata\\local\\programs\\python\\python36-32\\lib\\site-packages\\sklearn\\linear_model\\ridge.py:112: LinAlgWarning: scipy.linalg.solve\n",
      "Ill-conditioned matrix detected. Result is not guaranteed to be accurate.\n",
      "Reciprocal condition number9.213750e-23\n",
      "  overwrite_a=True).T\n",
      "c:\\users\\steven\\appdata\\local\\programs\\python\\python36-32\\lib\\site-packages\\sklearn\\linear_model\\ridge.py:112: LinAlgWarning: scipy.linalg.solve\n",
      "Ill-conditioned matrix detected. Result is not guaranteed to be accurate.\n",
      "Reciprocal condition number9.781642e-23\n",
      "  overwrite_a=True).T\n",
      "c:\\users\\steven\\appdata\\local\\programs\\python\\python36-32\\lib\\site-packages\\sklearn\\linear_model\\ridge.py:112: LinAlgWarning: scipy.linalg.solve\n",
      "Ill-conditioned matrix detected. Result is not guaranteed to be accurate.\n",
      "Reciprocal condition number1.275272e-22\n",
      "  overwrite_a=True).T\n",
      "c:\\users\\steven\\appdata\\local\\programs\\python\\python36-32\\lib\\site-packages\\sklearn\\linear_model\\ridge.py:112: LinAlgWarning: scipy.linalg.solve\n",
      "Ill-conditioned matrix detected. Result is not guaranteed to be accurate.\n",
      "Reciprocal condition number9.213663e-23\n",
      "  overwrite_a=True).T\n",
      "c:\\users\\steven\\appdata\\local\\programs\\python\\python36-32\\lib\\site-packages\\sklearn\\linear_model\\ridge.py:112: LinAlgWarning: scipy.linalg.solve\n",
      "Ill-conditioned matrix detected. Result is not guaranteed to be accurate.\n",
      "Reciprocal condition number9.216295e-23\n",
      "  overwrite_a=True).T\n"
     ]
    },
    {
     "data": {
      "text/plain": [
       "array([0.99660074, 0.99702223, 0.99892496, 0.99847739, 0.99694572,\n",
       "       0.99885043, 0.99883106, 0.99827847, 0.99901453, 0.99811488])"
      ]
     },
     "execution_count": 22,
     "metadata": {},
     "output_type": "execute_result"
    }
   ],
   "source": [
    "from sklearn.model_selection import cross_val_score\n",
    "cross_val_score(ridgeregr, X_test, Y_test, cv=10)"
   ]
  },
  {
   "cell_type": "code",
   "execution_count": 23,
   "metadata": {},
   "outputs": [],
   "source": [
    "#let's do lasso next"
   ]
  },
  {
   "cell_type": "code",
   "execution_count": 24,
   "metadata": {},
   "outputs": [
    {
     "name": "stdout",
     "output_type": "stream",
     "text": [
      "\n",
      " R2\n",
      "0.9963893114063697\n"
     ]
    }
   ],
   "source": [
    "lass = linear_model.Lasso(alpha=1000)\n",
    "\n",
    "# Fit the model\n",
    "fit = lass.fit(X_train, Y_train)\n",
    "\n",
    "# Display.\n",
    "\n",
    "\n",
    "\n",
    "print('\\n R2')\n",
    "print(lass.score(X_train, Y_train))\n"
   ]
  },
  {
   "cell_type": "code",
   "execution_count": 25,
   "metadata": {},
   "outputs": [
    {
     "name": "stdout",
     "output_type": "stream",
     "text": [
      "With 20% Holdout: 0.9884289328152084\n",
      "Testing on Sample: 0.9998625105444674\n"
     ]
    }
   ],
   "source": [
    "X_train2, X_test2, Y_train2, Y_test2 = train_test_split(X, Y, test_size=0.2, random_state=20)\n",
    "print('With 20% Holdout: ' + str(lass.fit(X_train2, Y_train2).score(X_test2, Y_test2)))\n",
    "print('Testing on Sample: ' + str(lass.fit(X, Y).score(X, Y)))"
   ]
  },
  {
   "cell_type": "code",
   "execution_count": 26,
   "metadata": {},
   "outputs": [
    {
     "data": {
      "text/plain": [
       "array([0.94732074, 0.99813795, 0.97568997, 0.97567456, 0.94583006,\n",
       "       0.99167317, 0.99916342, 0.99157299, 0.99859939, 0.98815752])"
      ]
     },
     "execution_count": 26,
     "metadata": {},
     "output_type": "execute_result"
    }
   ],
   "source": [
    "from sklearn.model_selection import cross_val_score\n",
    "cross_val_score(lass, X_test, Y_test, cv=10)"
   ]
  },
  {
   "cell_type": "markdown",
   "metadata": {},
   "source": [
    "There were a few different interesting things that were discovered during the analysis.  \n",
    "\n",
    "While searching through the data we included a few different features in predicting population with crime.  We had population squared and the square root of population in there, to see if they were functional.  We included for low frequency crimes a categorical feature for them.  For the features of murder, burglary, and assault.\n",
    "\n",
    "After looking through the different models.  And testing on test and training sets.  It looks like the ridge regression model is the most efficient amongst the test and training methods.  Although it does appear that the model may be overfitting.  Second I would choose lasso because it helps prevent overfitting and may prevent a more honest representation.  "
   ]
  }
 ],
 "metadata": {
  "kernelspec": {
   "display_name": "Python 3",
   "language": "python",
   "name": "python3"
  },
  "language_info": {
   "codemirror_mode": {
    "name": "ipython",
    "version": 3
   },
   "file_extension": ".py",
   "mimetype": "text/x-python",
   "name": "python",
   "nbconvert_exporter": "python",
   "pygments_lexer": "ipython3",
   "version": "3.6.5"
  }
 },
 "nbformat": 4,
 "nbformat_minor": 2
}
