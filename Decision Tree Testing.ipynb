{
 "cells": [
  {
   "cell_type": "code",
   "execution_count": 15,
   "metadata": {},
   "outputs": [],
   "source": [
    "import numpy as np\n",
    "import pandas as pd\n",
    "import matplotlib.pyplot as plt\n",
    "import seaborn as sns\n",
    "from scipy.stats import norm\n",
    "from sklearn.preprocessing import StandardScaler\n",
    "from scipy import stats\n",
    "import warnings\n",
    "from sklearn.linear_model import LinearRegression, Lasso, Ridge, ElasticNet\n",
    "from scipy.stats import skew\n",
    "from math import sqrt\n",
    "from sklearn import linear_model\n",
    "import statsmodels.formula.api as smf\n",
    "\n",
    "warnings.filterwarnings('ignore')\n",
    "%matplotlib inline\n",
    "pd.set_option('display.max_columns', 300)\n",
    "\n",
    "%matplotlib inline\n",
    "warnings.filterwarnings('ignore')\n",
    "\n",
    "pd.set_option('display.max_columns', 300)"
   ]
  },
  {
   "cell_type": "code",
   "execution_count": 16,
   "metadata": {},
   "outputs": [],
   "source": [
    "df_test = pd.read_csv('C:\\\\Users\\\\STEVEN\\\\Documents\\\\Thinkful\\\\Files\\\\Housing\\\\housing_test.csv', index_col='Id')\n",
    "df_train = pd.read_csv('C:\\\\Users\\\\STEVEN\\\\Documents\\\\Thinkful\\\\Files\\\\Housing\\\\train.csv', index_col='Id')"
   ]
  },
  {
   "cell_type": "code",
   "execution_count": 17,
   "metadata": {},
   "outputs": [],
   "source": [
    "y_train = df_train.SalePrice\n",
    "df_train = df_train.drop(columns='SalePrice')"
   ]
  },
  {
   "cell_type": "code",
   "execution_count": 18,
   "metadata": {},
   "outputs": [],
   "source": [
    "from sklearn.preprocessing import Imputer\n",
    "\n",
    "# Replace NaN with corresponding Neighborhood Median\n",
    "df_train[\"LotFrontage\"] = df_train.groupby(\"Neighborhood\")[\"LotFrontage\"].transform(\n",
    "    lambda x: x.fillna(x.median()))\n",
    "df_test[\"LotFrontage\"] = df_test.groupby(\"Neighborhood\")[\"LotFrontage\"].transform(\n",
    "    lambda x: x.fillna(x.median()))\n",
    "    \n",
    "# Replace NaN with Feature Median \n",
    "numerical_features = df_train.select_dtypes(include='number').columns\n",
    "my_imputer = Imputer()\n",
    "df_train[numerical_features] = my_imputer.fit_transform(df_train[numerical_features])\n",
    "df_test[numerical_features] = my_imputer.transform(df_test[numerical_features])"
   ]
  },
  {
   "cell_type": "code",
   "execution_count": 19,
   "metadata": {},
   "outputs": [],
   "source": [
    "idx_split = df_train.shape[0]\n",
    "df_train = df_train.append(df_test)"
   ]
  },
  {
   "cell_type": "code",
   "execution_count": 20,
   "metadata": {},
   "outputs": [],
   "source": [
    "NumStr = [\"MSSubClass\",\"BsmtFullBath\",\"BsmtHalfBath\",\"HalfBath\",\"BedroomAbvGr\",\"KitchenAbvGr\",\"MoSold\",\"YrSold\",\"YearBuilt\",\"YearRemodAdd\",\"LowQualFinSF\",\"GarageYrBlt\"]\n",
    "for col in NumStr:\n",
    "    df_train[col]=df_train[col].astype(str)\n",
    "    \n",
    "non_ordinal_features = ['LandSlope','Utilities','MSZoning', 'Street','Alley','LotShape','LandContour','LotConfig','Neighborhood','Condition1','Condition2','BldgType','HouseStyle', 'RoofStyle','RoofMatl','Exterior1st', 'Exterior2nd','MasVnrType','Foundation', 'BsmtExposure','BsmtFinType1','BsmtFinType2', 'Heating', 'CentralAir', 'Electrical','Functional', 'GarageType','GarageFinish','PavedDrive', 'Fence','MiscFeature','SaleType','SaleCondition', \"MSSubClass\",\"BsmtFullBath\",\"BsmtHalfBath\",\"HalfBath\",\"BedroomAbvGr\",\"KitchenAbvGr\",\"MoSold\",\"YrSold\",\"YearBuilt\",\"YearRemodAdd\",\"LowQualFinSF\",\"GarageYrBlt\"]\n",
    "ordinal_features = df_train.select_dtypes(include='object').columns.drop(non_ordinal_features)\n"
   ]
  },
  {
   "cell_type": "code",
   "execution_count": 21,
   "metadata": {},
   "outputs": [
    {
     "name": "stdout",
     "output_type": "stream",
     "text": [
      "Index(['ExterQual', 'ExterCond', 'BsmtQual', 'BsmtCond', 'HeatingQC',\n",
      "       'KitchenQual', 'FireplaceQu', 'GarageQual', 'GarageCond', 'PoolQC'],\n",
      "      dtype='object')\n"
     ]
    }
   ],
   "source": [
    "print(ordinal_features)"
   ]
  },
  {
   "cell_type": "code",
   "execution_count": 22,
   "metadata": {},
   "outputs": [],
   "source": [
    "dummies = pd.get_dummies(df_train.loc[:,non_ordinal_features], drop_first=True)\n",
    "df_train = pd.concat([df_train,dummies], axis=1)\n",
    "df_train = df_train.drop(non_ordinal_features,axis=1)"
   ]
  },
  {
   "cell_type": "code",
   "execution_count": 23,
   "metadata": {},
   "outputs": [],
   "source": [
    "def cat_to_num(x):\n",
    "    if x=='Ex':\n",
    "        return 5\n",
    "    if x=='Gd':\n",
    "        return 4\n",
    "    if x=='TA':\n",
    "        return 3\n",
    "    if x=='Fa':\n",
    "        return 2\n",
    "    if x=='Po':\n",
    "        return 1\n",
    "    if x=='None':\n",
    "        return 0\n",
    "\n",
    "df_train.loc[:,ordinal_features] = df_train.loc[:,ordinal_features].applymap(cat_to_num)"
   ]
  },
  {
   "cell_type": "code",
   "execution_count": 24,
   "metadata": {},
   "outputs": [],
   "source": [
    "X = df_train.loc[:idx_split, :]\n",
    "X_test = df_train.loc[idx_split+1:, :]"
   ]
  },
  {
   "cell_type": "code",
   "execution_count": 25,
   "metadata": {},
   "outputs": [],
   "source": [
    "X = X.assign(SalePrice=y_train)"
   ]
  },
  {
   "cell_type": "code",
   "execution_count": 26,
   "metadata": {},
   "outputs": [],
   "source": [
    "X[\"TotalHouse\"] = X[\"TotalBsmtSF\"] + X[\"1stFlrSF\"] + X[\"2ndFlrSF\"]   \n",
    "X[\"TotalHouse_OverallQual\"] = X[\"TotalHouse\"] * X[\"OverallQual\"]\n",
    "X[\"GrLivArea_OverallQual\"] = X[\"GrLivArea\"] * X[\"OverallQual\"]\n",
    "\n",
    "\n",
    "X_test[\"TotalHouse\"] = X_test[\"TotalBsmtSF\"] + X_test[\"1stFlrSF\"] + X_test[\"2ndFlrSF\"]   \n",
    "X_test[\"TotalHouse_OverallQual\"] = X_test[\"TotalHouse\"] * X_test[\"OverallQual\"]\n",
    "X_test[\"GrLivArea_OverallQual\"] = X_test[\"GrLivArea\"] * X_test[\"OverallQual\"]\n"
   ]
  },
  {
   "cell_type": "code",
   "execution_count": 27,
   "metadata": {},
   "outputs": [],
   "source": [
    "D = X['ExterQual'].values.reshape(-1,1)\n",
    "Z = X.drop(columns='ExterQual')\n",
    "Z2 = Z.dropna(axis=1)\n",
    "D2 = D\n",
    "Z3 = Z2"
   ]
  },
  {
   "cell_type": "code",
   "execution_count": 35,
   "metadata": {},
   "outputs": [
    {
     "name": "stdout",
     "output_type": "stream",
     "text": [
      "[0.61486486 0.61486486 0.61904762 0.62585034 0.7260274  0.63013699\n",
      " 0.62068966 0.62068966 0.625      0.73611111]\n",
      "--- 0.21442842483520508 seconds ---\n"
     ]
    }
   ],
   "source": [
    "from sklearn import tree\n",
    "\n",
    "from IPython.display import Image\n",
    "from sklearn.model_selection import cross_val_score\n",
    "#import pydotplus\n",
    "import time\n",
    "\n",
    "start_time = time.time()\n",
    "\n",
    "dct = tree.DecisionTreeClassifier(\n",
    "    max_features=1,\n",
    "    max_depth=4,\n",
    ")\n",
    "dct.fit(Z2, D)\n",
    "\n",
    "print(cross_val_score(dct, Z2, D, cv=10))\n",
    "\n",
    "\n",
    "\n",
    "print(\"--- %s seconds ---\" % (time.time() - start_time))"
   ]
  },
  {
   "cell_type": "code",
   "execution_count": 36,
   "metadata": {},
   "outputs": [
    {
     "name": "stdout",
     "output_type": "stream",
     "text": [
      "[0.82432432 0.87837838 0.87755102 0.89795918 0.87671233 0.84246575\n",
      " 0.91034483 0.86896552 0.89583333 0.875     ]\n",
      "--- 0.8257913589477539 seconds ---\n"
     ]
    }
   ],
   "source": [
    "from sklearn import ensemble\n",
    "from sklearn.model_selection import cross_val_score\n",
    "import time\n",
    "start_time = time.time()\n",
    "rfc = ensemble.RandomForestClassifier()\n",
    "rfc.fit(Z3, D2)\n",
    "\n",
    "print(cross_val_score(rfc, Z3, D2, cv=10))\n",
    "\n",
    "\n",
    "print(\"--- %s seconds ---\" % (time.time() - start_time))"
   ]
  },
  {
   "cell_type": "code",
   "execution_count": null,
   "metadata": {},
   "outputs": [],
   "source": []
  }
 ],
 "metadata": {
  "kernelspec": {
   "display_name": "Python [default]",
   "language": "python",
   "name": "python3"
  },
  "language_info": {
   "codemirror_mode": {
    "name": "ipython",
    "version": 3
   },
   "file_extension": ".py",
   "mimetype": "text/x-python",
   "name": "python",
   "nbconvert_exporter": "python",
   "pygments_lexer": "ipython3",
   "version": "3.6.4"
  }
 },
 "nbformat": 4,
 "nbformat_minor": 2
}
