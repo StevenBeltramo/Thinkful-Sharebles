{
 "cells": [
  {
   "cell_type": "code",
   "execution_count": 88,
   "metadata": {},
   "outputs": [],
   "source": [
    "%matplotlib inline\n",
    "import numpy as np\n",
    "import pandas as pd\n",
    "import scipy\n",
    "import sklearn\n",
    "import matplotlib.pyplot as plt\n",
    "import seaborn as sns"
   ]
  },
  {
   "cell_type": "code",
   "execution_count": 89,
   "metadata": {},
   "outputs": [],
   "source": [
    "df = pd.read_csv('C:\\\\Users\\\\STEVEN\\\\Documents\\\\Thinkful\\\\new_york.csv')"
   ]
  },
  {
   "cell_type": "code",
   "execution_count": 90,
   "metadata": {},
   "outputs": [
    {
     "name": "stdout",
     "output_type": "stream",
     "text": [
      "            City Population Violent\\ncrime  \\\n",
      "0  Adams Village      1,861              0   \n",
      "\n",
      "   Murder and\\nnonnegligent\\nmanslaughter  Rape\\n(revised\\ndefinition)1  \\\n",
      "0                                     0.0                           NaN   \n",
      "\n",
      "  Rape\\n(legacy\\ndefinition)2 Robbery Aggravated\\nassault Property\\ncrime  \\\n",
      "0                           0       0                   0              12   \n",
      "\n",
      "  Burglary Larceny-\\ntheft Motor\\nvehicle\\ntheft  Arson3  Unnamed: 13  \n",
      "0        2              10                     0     0.0          NaN  \n"
     ]
    }
   ],
   "source": [
    "print(df.head(1))\n"
   ]
  },
  {
   "cell_type": "code",
   "execution_count": 91,
   "metadata": {},
   "outputs": [
    {
     "data": {
      "text/plain": [
       "351"
      ]
     },
     "execution_count": 91,
     "metadata": {},
     "output_type": "execute_result"
    }
   ],
   "source": [
    "df.shape[0]"
   ]
  },
  {
   "cell_type": "code",
   "execution_count": 92,
   "metadata": {},
   "outputs": [
    {
     "name": "stdout",
     "output_type": "stream",
     "text": [
      "City                                      Adams Village\n",
      "Population                                        1,861\n",
      "Violent\\ncrime                                        0\n",
      "Murder and\\nnonnegligent\\nmanslaughter                0\n",
      "Rape\\n(revised\\ndefinition)1                        NaN\n",
      "Rape\\n(legacy\\ndefinition)2                           0\n",
      "Robbery                                               0\n",
      "Aggravated\\nassault                                   0\n",
      "Property\\ncrime                                      12\n",
      "Burglary                                              2\n",
      "Larceny-\\ntheft                                      10\n",
      "Motor\\nvehicle\\ntheft                                 0\n",
      "Arson3                                                0\n",
      "Unnamed: 13                                         NaN\n",
      "Name: 0, dtype: object\n"
     ]
    }
   ],
   "source": [
    "print(df.loc[0,:])"
   ]
  },
  {
   "cell_type": "code",
   "execution_count": 93,
   "metadata": {},
   "outputs": [
    {
     "name": "stdout",
     "output_type": "stream",
     "text": [
      "City                                      Adams Village\n",
      "Population                                        1,861\n",
      "Violent\\ncrime                                        0\n",
      "Murder and\\nnonnegligent\\nmanslaughter                0\n",
      "Rape\\n(revised\\ndefinition)1                          0\n",
      "Rape\\n(legacy\\ndefinition)2                           0\n",
      "Robbery                                               0\n",
      "Aggravated\\nassault                                   0\n",
      "Property\\ncrime                                      12\n",
      "Burglary                                              2\n",
      "Larceny-\\ntheft                                      10\n",
      "Motor\\nvehicle\\ntheft                                 0\n",
      "Arson3                                                0\n",
      "Unnamed: 13                                           0\n",
      "Name: 0, dtype: object\n"
     ]
    }
   ],
   "source": [
    "#fill in all missing datas with 0\n",
    "\n",
    "df = df.fillna(0)\n",
    "print(df.loc[0,:])"
   ]
  },
  {
   "cell_type": "code",
   "execution_count": 94,
   "metadata": {},
   "outputs": [],
   "source": [
    "#lets create some features\n",
    "\n",
    "df['Population'] = df['Population'].str.replace(',', '')\n",
    "df = df.fillna(0)\n",
    "df['Population'] = df['Population'].astype(int)"
   ]
  },
  {
   "cell_type": "code",
   "execution_count": 95,
   "metadata": {},
   "outputs": [],
   "source": [
    "df['Population_sq'] = np.square(df['Population'])"
   ]
  },
  {
   "cell_type": "code",
   "execution_count": 100,
   "metadata": {},
   "outputs": [],
   "source": [
    "#messing with cat. for murder\n",
    "df = df.rename(index=str,columns={'Murder and\\nnonnegligent\\nmanslaughter': 'Murder'})\n",
    "df['Murder'] = df['Murder'].astype(int)\n",
    "\n",
    "murder_ca = []\n",
    "\n",
    "for x in df['Murder']:\n",
    "    if x == 0: \n",
    "        murder_ca.append(x)\n",
    "    else: \n",
    "        x = 1\n",
    "        murder_ca.append(x)\n",
    "\n",
    "\n",
    "se = pd.Series(murder_ca)\n",
    "df['murder_cat'] = se.values\n",
    "#df['Murder']"
   ]
  },
  {
   "cell_type": "code",
   "execution_count": 101,
   "metadata": {},
   "outputs": [
    {
     "name": "stdout",
     "output_type": "stream",
     "text": [
      "[0, 0, 0, 1, 1, 1, 0, 1, 1, 1, 0, 1, 0, 0, 1, 1, 1, 1, 1, 1, 1, 1, 1, 0, 0, 0, 0, 0, 1, 0, 0, 1, 1, 0, 0, 1, 0, 0, 0, 0, 1, 0, 1, 1, 0, 0, 0, 0, 0, 1, 0, 1, 0, 1, 0, 0, 1, 1, 1, 1, 0, 1, 1, 0, 1, 0, 0, 1, 1, 1, 0, 1, 1, 0, 1, 0, 1, 0, 0, 0, 1, 1, 1, 0, 1, 1, 1, 0, 1, 1, 0, 1, 1, 1, 1, 0, 1, 1, 0, 0, 1, 1, 0, 1, 0, 0, 1, 1, 1, 0, 1, 1, 1, 1, 1, 1, 0, 1, 0, 1, 1, 1, 1, 0, 0, 0, 1, 1, 0, 1, 1, 0, 0, 1, 1, 0, 0, 1, 1, 1, 1, 1, 0, 0, 1, 0, 0, 1, 1, 0, 1, 1, 1, 0, 1, 1, 1, 0, 1, 0, 0, 1, 0, 1, 0, 0, 1, 1, 0, 1, 1, 1, 1, 1, 0, 0, 1, 1, 0, 1, 1, 1, 1, 1, 1, 1, 0, 1, 0, 1, 1, 1, 1, 1, 0, 1, 1, 1, 0, 1, 0, 0, 0, 1, 1, 1, 1, 1, 0, 1, 1, 0, 1, 1, 1, 1, 1, 0, 1, 1, 1, 0, 0, 1, 1, 0, 1, 0, 0, 1, 1, 1, 0, 1, 1, 1, 1, 1, 0, 1, 1, 1, 1, 0, 0, 0, 1, 1, 1, 1, 0, 0, 0, 1, 1, 0, 0, 1, 0, 1, 0, 0, 1, 1, 0, 0, 0, 1, 0, 1, 0, 1, 1, 1, 1, 0, 1, 1, 1, 1, 0, 1, 1, 1, 0, 1, 1, 0, 1, 1, 0, 0, 0, 0, 0, 0, 1, 0, 1, 0, 1, 1, 1, 1, 1, 1, 0, 0, 1, 1, 1, 1, 0, 1, 1, 1, 1, 0, 0, 0, 1, 1, 1, 1, 1, 0, 0, 1, 0, 1, 1, 1, 0, 1, 1, 0, 0, 0, 1, 0, 1, 0, 0, 1, 0, 0, 1, 1, 0, 0, 0]\n"
     ]
    }
   ],
   "source": [
    "#Robbery now\n",
    "#df['Robbery'] = df['Robbery'].str.replace(',', '')\n",
    "df = df.fillna(0)\n",
    "df['Robbery'] = df['Robbery'].astype(int)\n",
    "\n",
    "robbery_ca = []\n",
    "\n",
    "for x in df['Robbery']:\n",
    "    if x == 0: \n",
    "        robbery_ca.append(x)\n",
    "    elif x > 0: \n",
    "        x = 1\n",
    "        robbery_ca.append(x)\n",
    "\n",
    "se = pd.Series(robbery_ca)\n",
    "df['robbery_cat'] = se.values\n",
    "print(robbery_ca)"
   ]
  },
  {
   "cell_type": "code",
   "execution_count": 102,
   "metadata": {},
   "outputs": [],
   "source": [
    "test = df[['Population'] + ['Population_sq'] + ['murder_cat'] + ['robbery_cat']]"
   ]
  },
  {
   "cell_type": "code",
   "execution_count": null,
   "metadata": {},
   "outputs": [],
   "source": []
  }
 ],
 "metadata": {
  "kernelspec": {
   "display_name": "Python 3",
   "language": "python",
   "name": "python3"
  },
  "language_info": {
   "codemirror_mode": {
    "name": "ipython",
    "version": 3
   },
   "file_extension": ".py",
   "mimetype": "text/x-python",
   "name": "python",
   "nbconvert_exporter": "python",
   "pygments_lexer": "ipython3",
   "version": "3.6.5"
  }
 },
 "nbformat": 4,
 "nbformat_minor": 2
}
